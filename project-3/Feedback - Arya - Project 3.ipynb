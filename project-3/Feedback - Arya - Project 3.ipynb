{
 "cells": [
  {
   "cell_type": "markdown",
   "metadata": {},
   "source": [
    "### Overall\n",
    "\n",
    "\n",
    "#### Organization\n",
    "I LOVE that you have an executive summary and actually took the time to format it and make it look good. Great job! For presentation purposes, I might just suggest that you move the executive summary to the front so that it comes at the beginning, and then replace some of the given structure with written guidance on what you *did* instead of instructions on what to *do*.  \n",
    "\n",
    "#### Presentation\n",
    "Really pretty slides. Interesting approach - I like that you choose 75% which was a unique value that most people did not choose. I really like your slide showing the different steps in your process. You did a good job covering your data collection process. Good job speaking to the business value, creating theses on how to create a good scoring post and also addressing limitations of your models. Good job speaking to next steps.  \n",
    "\n",
    "#### Data Structures\n",
    "Good job creating and accessing multiple JSON files. Good job working with these data structures and accessing them. I like that you use regex with lambda functions to create new columns.  \n",
    "\n",
    "#### Python Syntax and Control Flow\n",
    "Good job using Python. I do not see any glaring errors. \n",
    "\n",
    "#### Probability and Statistics \n",
    "Depth of interpretation could be deeper for some of the statistics. Could add more statistics, plot more graphs/distributions, etc. \n",
    "\n",
    "#### Modeling\n",
    "You build the basic models that are required, but interpretation could be increased by looking at important features, coefficients. More models could have been investigated, such as naive Bayes or SVM. \n",
    "\n",
    "#### Data Collection\n",
    "Data collection was straight forward and laid out in the structure of the project. Pulling more specific data/data that was not expressly required (such as the text data of the post or the comments by creating unique API calls) would have been intereting. \n",
    "\n",
    "#### Score\n",
    "Organization: 3/3  \n",
    "Presentation: 3/3   \n",
    "Data Structures: 3/3  \n",
    "Python Syntax and Control Flow: 2/3   \n",
    "Probability and Statistics: 2/3   \n",
    "Modeling: 2/3  \n",
    "Data Collection: 2/3  \n",
    "#### Total: 18/21"
   ]
  }
 ],
 "metadata": {
  "kernelspec": {
   "display_name": "Python 3",
   "language": "python",
   "name": "python3"
  },
  "language_info": {
   "codemirror_mode": {
    "name": "ipython",
    "version": 3
   },
   "file_extension": ".py",
   "mimetype": "text/x-python",
   "name": "python",
   "nbconvert_exporter": "python",
   "pygments_lexer": "ipython3",
   "version": "3.6.5"
  },
  "varInspector": {
   "cols": {
    "lenName": 16,
    "lenType": 16,
    "lenVar": 40
   },
   "kernels_config": {
    "python": {
     "delete_cmd_postfix": "",
     "delete_cmd_prefix": "del ",
     "library": "var_list.py",
     "varRefreshCmd": "print(var_dic_list())"
    },
    "r": {
     "delete_cmd_postfix": ") ",
     "delete_cmd_prefix": "rm(",
     "library": "var_list.r",
     "varRefreshCmd": "cat(var_dic_list()) "
    }
   },
   "types_to_exclude": [
    "module",
    "function",
    "builtin_function_or_method",
    "instance",
    "_Feature"
   ],
   "window_display": false
  }
 },
 "nbformat": 4,
 "nbformat_minor": 2
}
