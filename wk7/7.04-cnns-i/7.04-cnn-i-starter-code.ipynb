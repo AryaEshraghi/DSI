{
 "cells": [
  {
   "cell_type": "markdown",
   "metadata": {},
   "source": [
    "## ![](https://ga-dash.s3.amazonaws.com/production/assets/logo-9f88ae6c9c3871690e33280fcf557f33.png) Convolutional Neural Networks I\n",
    "\n",
    "### LEARNING OBJECTIVES\n",
    "_By the end of this lesson, students should be able to:_\n",
    "- Build convolutional neural networks in Keras."
   ]
  },
  {
   "cell_type": "markdown",
   "metadata": {},
   "source": [
    "We'll recreate a very similar neural network to the example provided at the end of the notes."
   ]
  },
  {
   "cell_type": "code",
   "execution_count": 1,
   "metadata": {
    "scrolled": true
   },
   "outputs": [
    {
     "name": "stderr",
     "output_type": "stream",
     "text": [
      "Using TensorFlow backend.\n"
     ]
    },
    {
     "name": "stdout",
     "output_type": "stream",
     "text": [
      "Downloading data from https://s3.amazonaws.com/img-datasets/mnist.npz\n",
      "11493376/11490434 [==============================] - 15s 1us/step\n"
     ]
    }
   ],
   "source": [
    "# 1. Import libraries and modules\n",
    "import numpy as np\n",
    "#np.random.seed(123)  # for reproducibility\n",
    "\n",
    "from keras.models import Sequential\n",
    "from keras.layers import Dense, Dropout, Activation, Flatten\n",
    "from keras.layers import Convolution2D, MaxPooling2D\n",
    "from keras.utils import np_utils\n",
    "from keras.datasets import mnist\n",
    " \n",
    "# 2. Load pre-shuffled MNIST data into train and test sets\n",
    "(X_train, y_train), (X_test, y_test) = mnist.load_data()"
   ]
  },
  {
   "cell_type": "code",
   "execution_count": 2,
   "metadata": {},
   "outputs": [],
   "source": [
    "# Preprocess input data - 1 because greyscale (3 if RGB)\n",
    "X_train = X_train.reshape(X_train.shape[0], 28, 28, 1)\n",
    "X_test = X_test.reshape(X_test.shape[0], 28, 28, 1)\n",
    "\n",
    "# Typecast as float\n",
    "X_train = X_train.astype('float32')\n",
    "X_test = X_test.astype('float32')\n",
    "\n",
    "# Rescale range from 0-255 to 0-1\n",
    "X_train /= 255\n",
    "X_test /= 255"
   ]
  },
  {
   "cell_type": "code",
   "execution_count": 3,
   "metadata": {},
   "outputs": [],
   "source": [
    "# Make y categorical\n",
    "Y_train = np_utils.to_categorical(y_train, 10)\n",
    "Y_test = np_utils.to_categorical(y_test, 10)"
   ]
  },
  {
   "cell_type": "code",
   "execution_count": 4,
   "metadata": {},
   "outputs": [],
   "source": [
    "# Define model architecture\n",
    "model = Sequential()\n",
    "\n",
    "model.add(Convolution2D(6, #6 filters\n",
    "                        3, # kernel size (3x3 filter)\n",
    "                        activation='relu',\n",
    "                        input_shape=(28, 28, 1)\n",
    "                        ))\n",
    "model.add(MaxPooling2D(pool_size=(2,2)))\n",
    "model.add(Convolution2D(16,\n",
    "                        3,\n",
    "                        activation='relu'))\n",
    "model.add(MaxPooling2D(pool_size=(2,2)))\n",
    "model.add(Dropout(0.25))\n",
    "model.add(Flatten()) # 400 outputs\n",
    "model.add(Dense(128, activation='relu')) # connect 400 nodes to 128 nodes\n",
    "# total nodes = 400 * 128 + 128 = 51,328 parameters\n",
    "model.add(Dropout(0.5))\n",
    "model.add(Dense(10, activation=('softmax')))"
   ]
  },
  {
   "cell_type": "code",
   "execution_count": 5,
   "metadata": {},
   "outputs": [],
   "source": [
    "# Compile model\n",
    "model.compile('adam',\n",
    "              'categorical_crossentropy', # good for unordered discrete predictions\n",
    "              ['accuracy']) "
   ]
  },
  {
   "cell_type": "code",
   "execution_count": 6,
   "metadata": {},
   "outputs": [
    {
     "name": "stdout",
     "output_type": "stream",
     "text": [
      "Epoch 1/10\n",
      "60000/60000 [==============================] - 36s 594us/step - loss: 0.3485 - acc: 0.8902\n",
      "Epoch 2/10\n",
      "60000/60000 [==============================] - 34s 573us/step - loss: 0.1483 - acc: 0.9555\n",
      "Epoch 3/10\n",
      "60000/60000 [==============================] - 36s 592us/step - loss: 0.1201 - acc: 0.9633\n",
      "Epoch 4/10\n",
      "60000/60000 [==============================] - 37s 608us/step - loss: 0.1021 - acc: 0.9687\n",
      "Epoch 5/10\n",
      "60000/60000 [==============================] - 35s 585us/step - loss: 0.0914 - acc: 0.9726\n",
      "Epoch 6/10\n",
      "60000/60000 [==============================] - 35s 578us/step - loss: 0.0841 - acc: 0.9748\n",
      "Epoch 7/10\n",
      "60000/60000 [==============================] - 35s 581us/step - loss: 0.0750 - acc: 0.9766\n",
      "Epoch 8/10\n",
      "60000/60000 [==============================] - 35s 580us/step - loss: 0.0759 - acc: 0.9766\n",
      "Epoch 9/10\n",
      "60000/60000 [==============================] - 36s 600us/step - loss: 0.0675 - acc: 0.9788\n",
      "Epoch 10/10\n",
      "60000/60000 [==============================] - 35s 585us/step - loss: 0.0672 - acc: 0.9797\n"
     ]
    },
    {
     "data": {
      "text/plain": [
       "<keras.callbacks.History at 0xb1fe96588>"
      ]
     },
     "execution_count": 6,
     "metadata": {},
     "output_type": "execute_result"
    }
   ],
   "source": [
    "# Fit model\n",
    "model.fit(X_train, Y_train, 32, 10)"
   ]
  },
  {
   "cell_type": "code",
   "execution_count": 7,
   "metadata": {},
   "outputs": [
    {
     "name": "stdout",
     "output_type": "stream",
     "text": [
      "10000/10000 [==============================] - 3s 285us/step\n"
     ]
    }
   ],
   "source": [
    "# Evaluate model\n",
    "\n",
    "score = model.evaluate(X_test, Y_test, verbose=1)\n",
    "labels = model.metrics_names"
   ]
  },
  {
   "cell_type": "code",
   "execution_count": 8,
   "metadata": {},
   "outputs": [
    {
     "name": "stdout",
     "output_type": "stream",
     "text": [
      "loss: 0.03374472677594531\n",
      "acc: 0.9899\n"
     ]
    }
   ],
   "source": [
    "print(str(labels[0]) + ': ' + str(score[0]))\n",
    "print(str(labels[1]) + ': ' + str(score[1]))"
   ]
  },
  {
   "cell_type": "code",
   "execution_count": 9,
   "metadata": {
    "scrolled": false
   },
   "outputs": [
    {
     "name": "stdout",
     "output_type": "stream",
     "text": [
      "_________________________________________________________________\n",
      "Layer (type)                 Output Shape              Param #   \n",
      "=================================================================\n",
      "conv2d_1 (Conv2D)            (None, 26, 26, 6)         60        \n",
      "_________________________________________________________________\n",
      "max_pooling2d_1 (MaxPooling2 (None, 13, 13, 6)         0         \n",
      "_________________________________________________________________\n",
      "conv2d_2 (Conv2D)            (None, 11, 11, 16)        880       \n",
      "_________________________________________________________________\n",
      "max_pooling2d_2 (MaxPooling2 (None, 5, 5, 16)          0         \n",
      "_________________________________________________________________\n",
      "dropout_1 (Dropout)          (None, 5, 5, 16)          0         \n",
      "_________________________________________________________________\n",
      "flatten_1 (Flatten)          (None, 400)               0         \n",
      "_________________________________________________________________\n",
      "dense_1 (Dense)              (None, 128)               51328     \n",
      "_________________________________________________________________\n",
      "dropout_2 (Dropout)          (None, 128)               0         \n",
      "_________________________________________________________________\n",
      "dense_2 (Dense)              (None, 10)                1290      \n",
      "=================================================================\n",
      "Total params: 53,558\n",
      "Trainable params: 53,558\n",
      "Non-trainable params: 0\n",
      "_________________________________________________________________\n"
     ]
    }
   ],
   "source": [
    "model.summary()"
   ]
  },
  {
   "cell_type": "markdown",
   "metadata": {},
   "source": [
    "- 3x3 filters --> 9 parameters per filter\n",
    "- 6 filters --> 54 parameters across all filters\n",
    "- 6 filters x 1 bias parameter per filter --> 6 bias parameters\n",
    "    - Total number of parameters: 60\n",
    "\n",
    "\n",
    "- 3x3 filters --> 9 parameters per filter\n",
    "- 16 filters --> 16 x 9 = 144 parameters\n",
    "- 144 parameters x 6 channels from the previous layer --> 864 params\n",
    "- 16 filters x 1 bias parameter per filter --> 16 params\n",
    "    - 864 + 16 = 880"
   ]
  },
  {
   "cell_type": "markdown",
   "metadata": {},
   "source": [
    "## Conclusion\n",
    "\n",
    "<details><summary>Why are neural networks better equipped to handle image data than non-neural networks?\n",
    "</summary>\n",
    "```\n",
    "Neural networks are naturally set up to consider interactions among features.\n",
    "```\n",
    "</details>\n",
    "\n",
    "<details><summary>Why are **convolutional neural networks** better equipped to handle image data than non-CNNs?\n",
    "</summary>\n",
    "```\n",
    "CNNs are naturally set up to consider interactions among \"close pixels\" only and drastically cuts down the number of parameters needed to learn through parameter sharing.\n",
    "```\n",
    "</details>\n",
    "\n"
   ]
  }
 ],
 "metadata": {
  "kernelspec": {
   "display_name": "Python 3",
   "language": "python",
   "name": "python3"
  },
  "language_info": {
   "codemirror_mode": {
    "name": "ipython",
    "version": 3
   },
   "file_extension": ".py",
   "mimetype": "text/x-python",
   "name": "python",
   "nbconvert_exporter": "python",
   "pygments_lexer": "ipython3",
   "version": "3.6.5"
  },
  "varInspector": {
   "cols": {
    "lenName": 16,
    "lenType": 16,
    "lenVar": 40
   },
   "kernels_config": {
    "python": {
     "delete_cmd_postfix": "",
     "delete_cmd_prefix": "del ",
     "library": "var_list.py",
     "varRefreshCmd": "print(var_dic_list())"
    },
    "r": {
     "delete_cmd_postfix": ") ",
     "delete_cmd_prefix": "rm(",
     "library": "var_list.r",
     "varRefreshCmd": "cat(var_dic_list()) "
    }
   },
   "types_to_exclude": [
    "module",
    "function",
    "builtin_function_or_method",
    "instance",
    "_Feature"
   ],
   "window_display": false
  }
 },
 "nbformat": 4,
 "nbformat_minor": 2
}
