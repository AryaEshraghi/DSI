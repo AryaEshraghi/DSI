{
 "cells": [
  {
   "cell_type": "markdown",
   "metadata": {},
   "source": [
    "- Precession pendulum\n",
    "Coaching at 42\n",
    "Figuring out atoibase on the 42 piscine final\n",
    "- Finding a fatal flaw in Qrvey's model\n",
    "Hearing from a corporate lawyer that the privacy policy and ToS I drafted for Qrvey were well researched and tight\n",
    "\n",
    "    In my freshman year at St. John's, I was offered a spot on a team of seniors to repair the school's precession pendulum. The offer came from Dr. Jim Beall, the head of the schools mathematics department and well respected astrophysicist. Being the only underclassman on the team was somewhat daunting, especially as the task required knowledge of matters I hadn't studied yet. Nevertheless, I taught myself the relevant material and learned from the group as we built an electronic replacement to the old CRT based electromagnetic induction relay. Before the year was up, we had the pendulum that had sat still for three years working smooth as a whistle, and as far as I know the system I helped design and build is still performing as expected today.\n",
    "    Some time after college, I had a position at Qrvey, a very early stage data analytics and collection startup. My title was 'evangelist', however the scope of my work extended far beyond extolling the virtues of the company and getting the word out. One of my fondest memories occured during the final testing phases before product launch, when I noticed that, while many of the kinks that were noted prior had finally been ironed out, the new feature that had just been implemented effectively made our platform a very efficient data harvesting tool for those who might want to collect personal data"
   ]
  }
 ],
 "metadata": {
  "kernelspec": {
   "display_name": "Python [default]",
   "language": "python",
   "name": "python3"
  },
  "language_info": {
   "codemirror_mode": {
    "name": "ipython",
    "version": 3
   },
   "file_extension": ".py",
   "mimetype": "text/x-python",
   "name": "python",
   "nbconvert_exporter": "python",
   "pygments_lexer": "ipython3",
   "version": "3.6.5"
  }
 },
 "nbformat": 4,
 "nbformat_minor": 2
}
