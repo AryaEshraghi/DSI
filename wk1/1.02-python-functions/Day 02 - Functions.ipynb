{
 "cells": [
  {
   "cell_type": "code",
   "execution_count": 1,
   "metadata": {},
   "outputs": [],
   "source": [
    "def greeting():\n",
    "    print('Hello')"
   ]
  },
  {
   "cell_type": "code",
   "execution_count": 2,
   "metadata": {},
   "outputs": [
    {
     "name": "stdout",
     "output_type": "stream",
     "text": [
      "Hello\n"
     ]
    }
   ],
   "source": [
    "greeting()"
   ]
  },
  {
   "cell_type": "code",
   "execution_count": 8,
   "metadata": {},
   "outputs": [],
   "source": [
    "def titanic_name(first_name, last_name, title):\n",
    "    print('{}, {}, {}'.format(last_name, title, first_name))\n",
    "    return('{}, {}, {}'.format(last_name, title, first_name))"
   ]
  },
  {
   "cell_type": "code",
   "execution_count": 11,
   "metadata": {},
   "outputs": [],
   "source": [
    "def quit_yelling(content):\n",
    "    return(content.lower())"
   ]
  },
  {
   "cell_type": "markdown",
   "metadata": {},
   "source": [
    "#### Lambda functions are anonymous and can be used to make quick changes without creating new functions"
   ]
  },
  {
   "cell_type": "code",
   "execution_count": 14,
   "metadata": {},
   "outputs": [],
   "source": [
    "quiet = lambda content: content.lower()"
   ]
  },
  {
   "cell_type": "code",
   "execution_count": 16,
   "metadata": {},
   "outputs": [
    {
     "data": {
      "text/plain": [
       "'lambda functions are often used in pandas dataframes'"
      ]
     },
     "execution_count": 16,
     "metadata": {},
     "output_type": "execute_result"
    }
   ],
   "source": [
    "quiet('LAMBDA FUNCTIONS ARE OFTEN USED IN PANDAS DATAFRAMES')"
   ]
  },
  {
   "cell_type": "code",
   "execution_count": 31,
   "metadata": {},
   "outputs": [],
   "source": [
    "strand = 'ACGTACCCGTAAAATTGGAAGTAAAACCCGATA'"
   ]
  },
  {
   "cell_type": "code",
   "execution_count": 32,
   "metadata": {},
   "outputs": [],
   "source": [
    "def dna_to_rna(strand):\n",
    "    return(strand.replace('T','U'))"
   ]
  },
  {
   "cell_type": "code",
   "execution_count": 33,
   "metadata": {},
   "outputs": [
    {
     "data": {
      "text/plain": [
       "'ACGUACCCGUAAAAUUGGAAGUAAAACCCGAUA'"
      ]
     },
     "execution_count": 33,
     "metadata": {},
     "output_type": "execute_result"
    }
   ],
   "source": [
    "dna_to_rna(strand)"
   ]
  },
  {
   "cell_type": "code",
   "execution_count": 44,
   "metadata": {},
   "outputs": [],
   "source": [
    "mousedna = 'AAAA'\n",
    "humdna = 'AAAT'"
   ]
  },
  {
   "cell_type": "code",
   "execution_count": 47,
   "metadata": {},
   "outputs": [],
   "source": [
    "def calc_dist(dna1, dna2):\n",
    "    i, t = 0, 0\n",
    "    while i <= len(dna1) & i <= len(dna2):\n",
    "        if dna1[i] != dna2[i]:\n",
    "            t += t\n",
    "        i += i\n",
    "    return(t)"
   ]
  },
  {
   "cell_type": "code",
   "execution_count": 57,
   "metadata": {},
   "outputs": [],
   "source": [
    "def hamming_distance(dna1, dna2):\n",
    "    distance = 0\n",
    "    \n",
    "    for i in range(len(dna1)):\n",
    "        if dna1[i] != dna2[i]:\n",
    "            distance += 1\n",
    "    return distance"
   ]
  },
  {
   "cell_type": "code",
   "execution_count": 58,
   "metadata": {},
   "outputs": [
    {
     "data": {
      "text/plain": [
       "1"
      ]
     },
     "execution_count": 58,
     "metadata": {},
     "output_type": "execute_result"
    }
   ],
   "source": [
    "hamming_distance(mousedna, humdna)"
   ]
  },
  {
   "cell_type": "code",
   "execution_count": 70,
   "metadata": {},
   "outputs": [],
   "source": [
    "def rev_dna(dna):\n",
    "    rev = dna[::-1]\n",
    "    comp = ''\n",
    "    for c in rev:\n",
    "        if c == 'A':\n",
    "            comp += 'T'\n",
    "        elif c == 'T':\n",
    "            comp += 'A'\n",
    "        elif c == 'C':\n",
    "            comp += 'G'\n",
    "        elif c == 'G':\n",
    "            comp += 'C'\n",
    "        else:\n",
    "            print(error)\n",
    "            return(0)\n",
    "    return comp"
   ]
  },
  {
   "cell_type": "code",
   "execution_count": 71,
   "metadata": {},
   "outputs": [
    {
     "data": {
      "text/plain": [
       "'TCCGAT'"
      ]
     },
     "execution_count": 71,
     "metadata": {},
     "output_type": "execute_result"
    }
   ],
   "source": [
    "rev_dna('ATCGGA')"
   ]
  },
  {
   "cell_type": "code",
   "execution_count": 73,
   "metadata": {},
   "outputs": [],
   "source": [
    "def divisors(num):\n",
    "    div = []\n",
    "    for i in range(2, num):\n",
    "        if num % i -- 0:\n",
    "            div.append(i)\n",
    "    return(div)"
   ]
  },
  {
   "cell_type": "code",
   "execution_count": null,
   "metadata": {},
   "outputs": [],
   "source": []
  }
 ],
 "metadata": {
  "kernelspec": {
   "display_name": "Python [conda env:dsi]",
   "language": "python",
   "name": "conda-env-dsi-py"
  },
  "language_info": {
   "codemirror_mode": {
    "name": "ipython",
    "version": 3
   },
   "file_extension": ".py",
   "mimetype": "text/x-python",
   "name": "python",
   "nbconvert_exporter": "python",
   "pygments_lexer": "ipython3",
   "version": "3.6.5"
  }
 },
 "nbformat": 4,
 "nbformat_minor": 2
}
