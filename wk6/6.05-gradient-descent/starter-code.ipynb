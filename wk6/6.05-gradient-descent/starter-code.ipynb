{
 "cells": [
  {
   "cell_type": "markdown",
   "metadata": {},
   "source": [
    "## Gradient Descent Code-Along"
   ]
  },
  {
   "cell_type": "markdown",
   "metadata": {},
   "source": [
    "Let's walk through how gradient descent works using code."
   ]
  },
  {
   "cell_type": "code",
   "execution_count": 2,
   "metadata": {},
   "outputs": [],
   "source": [
    "import pandas as pd\n",
    "import numpy as np"
   ]
  },
  {
   "cell_type": "code",
   "execution_count": 3,
   "metadata": {},
   "outputs": [],
   "source": [
    "np.random.seed(42)"
   ]
  },
  {
   "cell_type": "code",
   "execution_count": 4,
   "metadata": {},
   "outputs": [],
   "source": [
    "temp = np.random.uniform(-10, 80, 100)"
   ]
  },
  {
   "cell_type": "code",
   "execution_count": 5,
   "metadata": {},
   "outputs": [
    {
     "data": {
      "text/plain": [
       "array([23.7086107 , 75.56428758, 55.87945476, 43.87926358,  4.04167764,\n",
       "        4.03950683, -4.7724749 , 67.95585312, 44.10035106, 53.726532  ])"
      ]
     },
     "execution_count": 5,
     "metadata": {},
     "output_type": "execute_result"
    }
   ],
   "source": [
    "temp[0:10]"
   ]
  },
  {
   "cell_type": "code",
   "execution_count": 6,
   "metadata": {},
   "outputs": [
    {
     "name": "stdout",
     "output_type": "stream",
     "text": [
      "32.31626690403884 26.77404699137873\n"
     ]
    }
   ],
   "source": [
    "print(np.mean(temp), np.std(temp, ddof=1))"
   ]
  },
  {
   "cell_type": "markdown",
   "metadata": {},
   "source": [
    "**Ohio State Fun Facts:**\n",
    "1. Ohio Stadium can seat 104,944 people. (Source: [Wikipedia](https://en.wikipedia.org/wiki/Ohio_Stadium).)\n",
    "2. Ohio Stadium's record attendance is 110,045 people. (Source: [Wikipedia](https://en.wikipedia.org/wiki/Ohio_Stadium).)\n",
    "3. Michigan sucks. (Source: It's just a fact.)\n",
    "4. Ohio State students enjoy alcohol. (Source: first-hand knowledge.)"
   ]
  },
  {
   "cell_type": "code",
   "execution_count": 7,
   "metadata": {},
   "outputs": [],
   "source": [
    "beers_sold = 200000 + 1000 * temp + np.random.normal(0, 20000)"
   ]
  },
  {
   "cell_type": "code",
   "execution_count": 8,
   "metadata": {},
   "outputs": [
    {
     "data": {
      "text/plain": [
       "array([225449.55206103, 277305.22894166, 257620.39612779, 245620.2049425 ,\n",
       "       205782.61900458, 205780.44819502, 196968.4664599 , 269696.79448451,\n",
       "       245841.29242165, 255467.47336641])"
      ]
     },
     "execution_count": 8,
     "metadata": {},
     "output_type": "execute_result"
    }
   ],
   "source": [
    "beers_sold[:10]"
   ]
  },
  {
   "cell_type": "markdown",
   "metadata": {},
   "source": [
    "$$ \\text{beers_sold}_i = 200000 + 1000 * \\text{temp}_i + \\varepsilon_i $$"
   ]
  },
  {
   "cell_type": "code",
   "execution_count": 9,
   "metadata": {},
   "outputs": [],
   "source": [
    "df = pd.DataFrame.from_dict({'temp': temp,\n",
    "                             'beers_sold': beers_sold})"
   ]
  },
  {
   "cell_type": "code",
   "execution_count": 10,
   "metadata": {},
   "outputs": [
    {
     "data": {
      "text/html": [
       "<div>\n",
       "<style scoped>\n",
       "    .dataframe tbody tr th:only-of-type {\n",
       "        vertical-align: middle;\n",
       "    }\n",
       "\n",
       "    .dataframe tbody tr th {\n",
       "        vertical-align: top;\n",
       "    }\n",
       "\n",
       "    .dataframe thead th {\n",
       "        text-align: right;\n",
       "    }\n",
       "</style>\n",
       "<table border=\"1\" class=\"dataframe\">\n",
       "  <thead>\n",
       "    <tr style=\"text-align: right;\">\n",
       "      <th></th>\n",
       "      <th>beers_sold</th>\n",
       "      <th>temp</th>\n",
       "    </tr>\n",
       "  </thead>\n",
       "  <tbody>\n",
       "    <tr>\n",
       "      <th>0</th>\n",
       "      <td>225449.552061</td>\n",
       "      <td>23.708611</td>\n",
       "    </tr>\n",
       "    <tr>\n",
       "      <th>1</th>\n",
       "      <td>277305.228942</td>\n",
       "      <td>75.564288</td>\n",
       "    </tr>\n",
       "    <tr>\n",
       "      <th>2</th>\n",
       "      <td>257620.396128</td>\n",
       "      <td>55.879455</td>\n",
       "    </tr>\n",
       "    <tr>\n",
       "      <th>3</th>\n",
       "      <td>245620.204942</td>\n",
       "      <td>43.879264</td>\n",
       "    </tr>\n",
       "    <tr>\n",
       "      <th>4</th>\n",
       "      <td>205782.619005</td>\n",
       "      <td>4.041678</td>\n",
       "    </tr>\n",
       "  </tbody>\n",
       "</table>\n",
       "</div>"
      ],
      "text/plain": [
       "      beers_sold       temp\n",
       "0  225449.552061  23.708611\n",
       "1  277305.228942  75.564288\n",
       "2  257620.396128  55.879455\n",
       "3  245620.204942  43.879264\n",
       "4  205782.619005   4.041678"
      ]
     },
     "execution_count": 10,
     "metadata": {},
     "output_type": "execute_result"
    }
   ],
   "source": [
    "df.head()"
   ]
  },
  {
   "cell_type": "markdown",
   "metadata": {},
   "source": [
    "#### Our goal is to fit a model here.\n",
    "- You and I know that our $y$-intercept $\\beta_0$ is 200,000.\n",
    "- You and I know that our slope $\\beta_1$ is 1,000.\n",
    "- However, our computer does not know that. Our computer has to estimate $\\hat{\\beta}_0$ and $\\hat{\\beta}_1$ from the data.\n",
    "    - We might say that our **machine** has to... **learn**."
   ]
  },
  {
   "cell_type": "markdown",
   "metadata": {},
   "source": [
    "#### Our workflow:\n",
    "1. Instantiate model.\n",
    "2. Select a learning rate $\\alpha$.\n",
    "3. Select a starting point $\\hat{\\beta}_{1,0}$.\n",
    "4. Calculate the gradient of the loss function.\n",
    "5. Calculate $\\hat{\\beta}_{1,i+1} = \\hat{\\beta}_{1,i} - \\alpha * \\frac{\\partial L}{\\partial \\beta_1}$.\n",
    "6. Check value of $|\\hat{\\beta}_{1,i+1} - \\hat{\\beta}_{1,i}|$.\n",
    "7. Repeat steps 4 through 6 until \"stopping condition\" is met."
   ]
  },
  {
   "cell_type": "markdown",
   "metadata": {},
   "source": [
    "#### Step 1. Instantiate model.\n",
    "\n",
    "Our model takes on the form:\n",
    "$$ Y = \\beta_0 + \\beta_1 X + \\varepsilon$$"
   ]
  },
  {
   "cell_type": "markdown",
   "metadata": {},
   "source": [
    "#### Step 2. Select a learning rate $\\alpha$.\n",
    "\n",
    "$$\\alpha = 0.1$$"
   ]
  },
  {
   "cell_type": "code",
   "execution_count": 11,
   "metadata": {},
   "outputs": [],
   "source": [
    "alpha = 0.1"
   ]
  },
  {
   "cell_type": "markdown",
   "metadata": {},
   "source": [
    "#### Step 3. Select a starting point.\n",
    "The zero-th iteration of $\\hat{\\beta}_1$ is going to start at, say, 20.\n",
    "$$\\hat{\\beta}_{1,0} = 20$$\n",
    "\n",
    "Two points:\n",
    "- You and I know that the true value of $\\beta_1$ is 1000. We need the computer to figure that part out!\n",
    "- We're going to pretend like the computer already knows the value for $\\beta_0$. In reality, we'd have to do this for $\\beta_0$ and for $\\beta_1$ at the same time."
   ]
  },
  {
   "cell_type": "code",
   "execution_count": 12,
   "metadata": {},
   "outputs": [],
   "source": [
    "beta_1 = 20"
   ]
  },
  {
   "cell_type": "markdown",
   "metadata": {},
   "source": [
    "#### Step 4. Calculate the gradient of the loss function with respect to parameter $\\beta_1$.\n",
    "\n",
    "The loss function, $L$, is our mean square error.\n",
    "\n",
    "$$L = \\sum_{i = 1} ^ n (y_i - \\hat{y}_i)^2 $$\n",
    "\n",
    "$$\\Rightarrow L = \\sum_{i = 1} ^ n (y_i - (\\hat{\\beta}_0 + \\hat{\\beta}_1x_i))^2 $$\n",
    "\n",
    "The gradient of this loss function with respect to $\\beta_1$ is:\n",
    "\n",
    "$$\\frac{\\partial L}{\\partial \\beta_1} = \\frac{2}{n} \\sum_{i=1}^n -x_i(y_i - (\\hat{\\beta}_1x_i + \\hat{\\beta}_0)) $$"
   ]
  },
  {
   "cell_type": "code",
   "execution_count": 14,
   "metadata": {},
   "outputs": [],
   "source": [
    "def beta_1_gradient(x, y, beta_1, beta_0):\n",
    "    n = len(x)\n",
    "    gradient = 0\n",
    "    \n",
    "    for i in range(n):\n",
    "        gradient += -1 * x[i] * (y[i] - (beta_1 * x[i] + beta_0))\n",
    "    gradient *= (2 / n)\n",
    "    return(gradient)"
   ]
  },
  {
   "cell_type": "markdown",
   "metadata": {},
   "source": [
    "#### Step 5. Calculate $\\hat{\\beta}_{1,i+1} = \\hat{\\beta}_{1,i} - \\alpha * \\frac{\\partial L}{\\partial \\beta_1}$."
   ]
  },
  {
   "cell_type": "code",
   "execution_count": 15,
   "metadata": {},
   "outputs": [],
   "source": [
    "def update_beta_1(beta_1, alpha, gradient):\n",
    "    beta_1 = beta_1 - alpha * gradient\n",
    "    return(beta_1)"
   ]
  },
  {
   "cell_type": "markdown",
   "metadata": {},
   "source": [
    "#### Step 6. Check value of $|\\hat{\\beta}_{1,i+1} - \\hat{\\beta}_{1,i}|$."
   ]
  },
  {
   "cell_type": "code",
   "execution_count": 16,
   "metadata": {},
   "outputs": [],
   "source": [
    "def check_update(beta_1, updated_beta_1, tolerance = 0.1):\n",
    "    if abs(beta_1 - updated_beta_1) < tolerance:\n",
    "        return(True)\n",
    "    else:\n",
    "        return(False)"
   ]
  },
  {
   "cell_type": "markdown",
   "metadata": {},
   "source": [
    "#### Step 7: Save final value of $\\hat{\\beta}_1$."
   ]
  },
  {
   "cell_type": "markdown",
   "metadata": {},
   "source": [
    "#### Putting it all together..."
   ]
  },
  {
   "cell_type": "code",
   "execution_count": 18,
   "metadata": {},
   "outputs": [],
   "source": [
    "def gradient_descent(x, y, beta_1 = 0, alpha = 0.01, max_iter = 100):\n",
    "    converged = False\n",
    "    for i in range(max_iter):\n",
    "        gradient = beta_1_gradient(x, y, beta_1, 200000)\n",
    "        updated_beta_1 = update_beta_1(beta_1, alpha, gradient)\n",
    "        converged = check_update(beta_1, updated_beta_1)\n",
    "        beta_1 = updated_beta_1\n",
    "        if converged == True:\n",
    "            print(\"Our algorithm converged after \" + str(i) + \" iterations with a beta_1 value of: \" + str(beta_1))\n",
    "            break\n",
    "        print(\"Iteration \" + str(i) + \" with beta_1 value of: \" + str(beta_1))\n",
    "    if converged == False:\n",
    "        print(\"Our algorithm did not converge, so do not trust the value of beta_1.\")\n",
    "    return(beta_1)"
   ]
  },
  {
   "cell_type": "code",
   "execution_count": 23,
   "metadata": {
    "scrolled": false
   },
   "outputs": [
    {
     "name": "stdout",
     "output_type": "stream",
     "text": [
      "Iteration 0 with beta_1 value of: 91.0080993893964\n",
      "Iteration 1 with beta_1 value of: 157.0342074619574\n",
      "Iteration 2 with beta_1 value of: 218.42786515307563\n",
      "Iteration 3 with beta_1 value of: 275.5140892956825\n",
      "Iteration 4 with beta_1 value of: 328.5950932530571\n",
      "Iteration 5 with beta_1 value of: 377.95188683050935\n",
      "Iteration 6 with beta_1 value of: 423.84576393583836\n",
      "Iteration 7 with beta_1 value of: 466.51968586421185\n",
      "Iteration 8 with beta_1 value of: 506.19956753054987\n",
      "Iteration 9 with beta_1 value of: 543.0954734587023\n",
      "Iteration 10 with beta_1 value of: 577.4027298589632\n",
      "Iteration 11 with beta_1 value of: 609.3029586812396\n",
      "Iteration 12 with beta_1 value of: 638.9650391181309\n",
      "Iteration 13 with beta_1 value of: 666.5460016480988\n",
      "Iteration 14 with beta_1 value of: 692.1918593517744\n",
      "Iteration 15 with beta_1 value of: 716.0383809023747\n",
      "Iteration 16 with beta_1 value of: 738.2118093224249\n",
      "Iteration 17 with beta_1 value of: 758.8295303118708\n",
      "Iteration 18 with beta_1 value of: 778.0006936856979\n",
      "Iteration 19 with beta_1 value of: 795.826791210934\n",
      "Iteration 20 with beta_1 value of: 812.4021939020952\n",
      "Iteration 21 with beta_1 value of: 827.8146516195068\n",
      "Iteration 22 with beta_1 value of: 842.145757615361\n",
      "Iteration 23 with beta_1 value of: 855.4713804868119\n",
      "Iteration 24 with beta_1 value of: 867.8620658228567\n",
      "Iteration 25 with beta_1 value of: 879.3834096713158\n",
      "Iteration 26 with beta_1 value of: 890.0964058030372\n",
      "Iteration 27 with beta_1 value of: 900.0577686117366\n",
      "Iteration 28 with beta_1 value of: 909.3202333588974\n",
      "Iteration 29 with beta_1 value of: 917.9328353532222\n",
      "Iteration 30 with beta_1 value of: 925.9411695426057\n",
      "Iteration 31 with beta_1 value of: 933.3876318929046\n",
      "Iteration 32 with beta_1 value of: 940.3116438313583\n",
      "Iteration 33 with beta_1 value of: 946.7498609428603\n",
      "Iteration 34 with beta_1 value of: 952.7363670239134\n",
      "Iteration 35 with beta_1 value of: 958.3028545215873\n",
      "Iteration 36 with beta_1 value of: 963.4787923127184\n",
      "Iteration 37 with beta_1 value of: 968.2915817115726\n",
      "Iteration 38 with beta_1 value of: 972.7667015318713\n",
      "Iteration 39 with beta_1 value of: 976.9278429711368\n",
      "Iteration 40 with beta_1 value of: 980.7970350314326\n",
      "Iteration 41 with beta_1 value of: 984.3947611404734\n",
      "Iteration 42 with beta_1 value of: 987.7400675904933\n",
      "Iteration 43 with beta_1 value of: 990.850664368948\n",
      "Iteration 44 with beta_1 value of: 993.7430189148447\n",
      "Iteration 45 with beta_1 value of: 996.432443297045\n",
      "Iteration 46 with beta_1 value of: 998.93317527606\n",
      "Iteration 47 with beta_1 value of: 1001.2584536784784\n",
      "Iteration 48 with beta_1 value of: 1003.4205884830582\n",
      "Iteration 49 with beta_1 value of: 1005.4310259895146\n",
      "Iteration 50 with beta_1 value of: 1007.3004094150094\n",
      "Iteration 51 with beta_1 value of: 1009.0386352391357\n",
      "Iteration 52 with beta_1 value of: 1010.6549055956891\n",
      "Iteration 53 with beta_1 value of: 1012.1577769885855\n",
      "Iteration 54 with beta_1 value of: 1013.555205589827\n",
      "Iteration 55 with beta_1 value of: 1014.8545893593218\n",
      "Iteration 56 with beta_1 value of: 1016.0628072095409\n",
      "Iteration 57 with beta_1 value of: 1017.1862554223468\n",
      "Iteration 58 with beta_1 value of: 1018.2308815107859\n",
      "Iteration 59 with beta_1 value of: 1019.2022157051075\n",
      "Iteration 60 with beta_1 value of: 1020.1054002296946\n",
      "Iteration 61 with beta_1 value of: 1020.945216525901\n",
      "Iteration 62 with beta_1 value of: 1021.7261105649083\n",
      "Iteration 63 with beta_1 value of: 1022.4522163846116\n",
      "Iteration 64 with beta_1 value of: 1023.1273779751358\n",
      "Iteration 65 with beta_1 value of: 1023.7551696288448\n",
      "Iteration 66 with beta_1 value of: 1024.3389148625754\n",
      "Iteration 67 with beta_1 value of: 1024.8817040122722\n",
      "Iteration 68 with beta_1 value of: 1025.3864105931646\n",
      "Iteration 69 with beta_1 value of: 1025.8557065121017\n",
      "Iteration 70 with beta_1 value of: 1026.2920762125755\n",
      "Iteration 71 with beta_1 value of: 1026.6978298273154\n",
      "Iteration 72 with beta_1 value of: 1027.0751154080876\n",
      "Iteration 73 with beta_1 value of: 1027.4259302974383\n",
      "Iteration 74 with beta_1 value of: 1027.7521317025864\n",
      "Iteration 75 with beta_1 value of: 1028.0554465274436\n",
      "Iteration 76 with beta_1 value of: 1028.337480514809\n",
      "Iteration 77 with beta_1 value of: 1028.599726747141\n",
      "Iteration 78 with beta_1 value of: 1028.8435735509065\n",
      "Iteration 79 with beta_1 value of: 1029.0703118463548\n",
      "Iteration 80 with beta_1 value of: 1029.2811419816237\n",
      "Iteration 81 with beta_1 value of: 1029.4771800873598\n",
      "Iteration 82 with beta_1 value of: 1029.6594639854923\n",
      "Iteration 83 with beta_1 value of: 1029.828958683442\n",
      "Iteration 84 with beta_1 value of: 1029.9865614828518\n",
      "Iteration 85 with beta_1 value of: 1030.133106729885\n",
      "Iteration 86 with beta_1 value of: 1030.2693702322365\n",
      "Iteration 87 with beta_1 value of: 1030.396073366245\n",
      "Iteration 88 with beta_1 value of: 1030.5138868958438\n",
      "Iteration 89 with beta_1 value of: 1030.6234345235735\n",
      "Iteration 90 with beta_1 value of: 1030.7252961924503\n",
      "Our algorithm converged after 91 iterations with a beta_1 value of: 1030.8200111561735\n"
     ]
    },
    {
     "data": {
      "text/plain": [
       "1030.8200111561735"
      ]
     },
     "execution_count": 23,
     "metadata": {},
     "output_type": "execute_result"
    }
   ],
   "source": [
    "gradient_descent(df['temp'], # X data\n",
    "                 df['beers_sold'], # Y data\n",
    "                 beta_1 = 20, # initial guess for beta_1\n",
    "                 alpha = 0.00002, # learning rate\n",
    "                 max_iter = 100) # maximum iterations"
   ]
  },
  {
   "cell_type": "code",
   "execution_count": null,
   "metadata": {},
   "outputs": [],
   "source": []
  }
 ],
 "metadata": {
  "kernelspec": {
   "display_name": "Python [default]",
   "language": "python",
   "name": "python3"
  },
  "language_info": {
   "codemirror_mode": {
    "name": "ipython",
    "version": 3
   },
   "file_extension": ".py",
   "mimetype": "text/x-python",
   "name": "python",
   "nbconvert_exporter": "python",
   "pygments_lexer": "ipython3",
   "version": "3.6.5"
  },
  "varInspector": {
   "cols": {
    "lenName": 16,
    "lenType": 16,
    "lenVar": 40
   },
   "kernels_config": {
    "python": {
     "delete_cmd_postfix": "",
     "delete_cmd_prefix": "del ",
     "library": "var_list.py",
     "varRefreshCmd": "print(var_dic_list())"
    },
    "r": {
     "delete_cmd_postfix": ") ",
     "delete_cmd_prefix": "rm(",
     "library": "var_list.r",
     "varRefreshCmd": "cat(var_dic_list()) "
    }
   },
   "types_to_exclude": [
    "module",
    "function",
    "builtin_function_or_method",
    "instance",
    "_Feature"
   ],
   "window_display": false
  }
 },
 "nbformat": 4,
 "nbformat_minor": 2
}
