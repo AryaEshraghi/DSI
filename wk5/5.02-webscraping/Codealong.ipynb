{
 "cells": [
  {
   "cell_type": "code",
   "execution_count": 1,
   "metadata": {},
   "outputs": [],
   "source": [
    "import pandas as pd\n",
    "import requests\n",
    "from bs4 import BeautifulSoup\n",
    "\n",
    "%matplotlib inline"
   ]
  },
  {
   "cell_type": "markdown",
   "metadata": {},
   "source": [
    "# Using the requests library"
   ]
  },
  {
   "cell_type": "code",
   "execution_count": 2,
   "metadata": {},
   "outputs": [],
   "source": [
    "url = 'https://rldaggie.github.io/sample-html/'\n",
    "res = requests.get(url)"
   ]
  },
  {
   "cell_type": "markdown",
   "metadata": {},
   "source": [
    "### Status Codes"
   ]
  },
  {
   "cell_type": "code",
   "execution_count": 3,
   "metadata": {},
   "outputs": [
    {
     "data": {
      "text/plain": [
       "200"
      ]
     },
     "execution_count": 3,
     "metadata": {},
     "output_type": "execute_result"
    }
   ],
   "source": [
    "res.status_code"
   ]
  },
  {
   "cell_type": "code",
   "execution_count": 4,
   "metadata": {},
   "outputs": [
    {
     "data": {
      "text/plain": [
       "b'<!DOCTYPE html>\\n<html>\\n  <head>\\n    <meta charset=\"utf-8\">\\n    <title>The title</title>\\n\\n    <style media=\"screen\">\\n      tbody tr {\\n        color: red;\\n      }\\n    </style>\\n  </head>\\n  <body>\\n    <h1 class=\"foobar\" id=\"title\">This is an h1</h1>\\n\\n    <div>\\n      <h1 class=\"foobar\">This is yet another heading.</h1>\\n\\n      Something inside the div\\n    </div>\\n\\n    <h3>Todo List</h3>\\n    <ol class=\"todo\">\\n      <li class=\"foobar\">Take out trash</li>\\n      <li>Pay billz</li>\\n      <li class=\"foobar\">Feed dog</li>\\n    </ol>\\n\\n    <h3>Completed</h3>\\n    <ol class=\\'done\\'>\\n      <li>Mow lawn</li>\\n      <li class=\"foobar\"><span>Take out compost</span></li>\\n      <li><span>Create scraping lecture</span></li>\\n    </ol>\\n\\n    <p class=\\'foobar\\'>Lorem ipsum dolor sit amet, consectetur adipisicing elit, sed do eiusmod tempor incididunt ut labore et dolore magna aliqua. Ut enim ad minim veniam, quis nostrud exercitation ullamco laboris nisi ut aliquip ex ea commodo consequat. <span>Duis aute irure dolor</span> in reprehenderit in voluptate velit esse cillum dolore eu fugiat nulla pariatur. <em>Excepteur sint occaecat cupidatat non proident, sunt in culpa qui officia deserunt mollit anim id est laborum</em>.</p>\\n\\n    <p>Lorem ipsum dolor sit amet, consectetur adipisicing elit, sed do eiusmod tempor incididunt ut labore et dolore magna aliqua. Ut enim ad minim veniam, quis nostrud exercitation ullamco laboris nisi ut aliquip ex ea commodo consequat. <strong><em>Duis aute irure dolor in reprehenderit in voluptate velit esse cillum dolore eu fugiat nulla pariatur</em></strong>. Excepteur sint occaecat cupidatat non proident, sunt in culpa qui officia deserunt mollit anim id est laborum.</p>\\n\\n    <table id=\"directory\">\\n      <thead>\\n        <tr>\\n          <th>Name</th>\\n          <th>Role</th>\\n        </tr>\\n      </thead>\\n\\n      <tbody>\\n        <tr class=\\'student\\'>\\n          <th><a href=\"mailto:praveen@ga.co\">Praveen\\n\\n\\n\\n          </a></th>\\n          <td>Student</td>\\n        </tr>\\n        <tr class=\\'student\\'>\\n          <th><a href=\"mailto:fred@ga.co\">Fred\\n\\n\\n\\n          </a></th>\\n          <td>Student</td>\\n        </tr>\\n        <tr class=\\'student\\'>\\n          <th><a href=\"mailto:homer@ga.co\">Homer\\n\\n\\n\\n          </a></th>\\n          <td><span class=\\'foobar\\'>Student</span></td>\\n        </tr>\\n        <tr class=\\'student\\'>\\n          <th><a href=\"mailto:kyle@ga.co\">Kyle\\n\\n\\n\\n          </a></th>\\n          <td>Student</td>\\n        </tr>\\n        <tr class=\\'student\\'>\\n          <th><a href=\"mailto:sam@ga.co\">Sam\\n\\n\\n\\n          </a></th>\\n          <td>Student</td>\\n        </tr>\\n        <tr class=\\'student\\'>\\n          <th><a href=\"mailto:javier@ga.co\">Javier\\n\\n\\n\\n          </a></th>\\n          <td>Student</td>\\n        </tr>\\n        <tr class=\\'student\\'>\\n          <th><a href=\"mailto:nengkuan@ga.co\">Nengkuan\\n\\n\\n\\n          </a></th>\\n          <td>Student</td>\\n        </tr>\\n        <tr class=\\'student\\'>\\n          <th><a href=\"mailto:kieth@ga.co\">Kieth\\n\\n\\n\\n          </a></th>\\n          <td>Student</td>\\n        </tr>\\n        <tr class=\\'student\\'>\\n          <th><a href=\"mailto:bola@ga.co\">Bola\\n\\n\\n\\n          </a></th>\\n          <td>Student</td>\\n        </tr>\\n        <tr class=\\'student\\'>\\n          <th><a href=\"mailto:steve@ga.co\">Steve\\n\\n\\n\\n          </a></th>\\n          <td>Student</td>\\n        </tr>\\n        <tr class=\\'student\\'>\\n          <th><a href=\"mailto:nichole@ga.co\">Nichole\\n\\n\\n\\n          </a></th>\\n          <td>Instructor</td>\\n        </tr>\\n        <tr class=\\'student\\'>\\n          <th><a href=\"mailto:riley@ga.co\">Riley\\n\\n\\n\\n          </a></th>\\n          <td>Instructor</td>\\n        </tr>\\n      </tbody>\\n    </table>\\n\\n    <footer>\\n      <p>Copyright 2017. All rights reserved</p>\\n\\n      <ul>\\n        <li><a href=\"#\">Home</a></li>\\n        <li><a href=\"#\">About</a></li>\\n        <li><a href=\"#\">Contact</a></li>\\n      </ul>\\n    </footer>\\n  </body>\\n</html>\\n'"
      ]
     },
     "execution_count": 4,
     "metadata": {},
     "output_type": "execute_result"
    }
   ],
   "source": [
    "res.content"
   ]
  },
  {
   "cell_type": "markdown",
   "metadata": {},
   "source": [
    "### Creating a `BeautifulSoup` object"
   ]
  },
  {
   "cell_type": "code",
   "execution_count": 5,
   "metadata": {},
   "outputs": [],
   "source": [
    "soup = BeautifulSoup(res.content, 'lxml')"
   ]
  },
  {
   "cell_type": "markdown",
   "metadata": {},
   "source": [
    "# `soup.find()`\n",
    "\n",
    "Returns either:\n",
    "\n",
    "1. A soup object of the first match\n",
    "2. `None`"
   ]
  },
  {
   "cell_type": "code",
   "execution_count": 8,
   "metadata": {},
   "outputs": [
    {
     "data": {
      "text/plain": [
       "'This is an h1'"
      ]
     },
     "execution_count": 8,
     "metadata": {},
     "output_type": "execute_result"
    }
   ],
   "source": [
    "soup.find('h1').text"
   ]
  },
  {
   "cell_type": "code",
   "execution_count": 12,
   "metadata": {},
   "outputs": [
    {
     "data": {
      "text/plain": [
       "{'class': ['foobar'], 'id': 'title'}"
      ]
     },
     "execution_count": 12,
     "metadata": {},
     "output_type": "execute_result"
    }
   ],
   "source": [
    "soup.find('h1').attrs"
   ]
  },
  {
   "cell_type": "code",
   "execution_count": 14,
   "metadata": {},
   "outputs": [
    {
     "data": {
      "text/plain": [
       "['foobar']"
      ]
     },
     "execution_count": 14,
     "metadata": {},
     "output_type": "execute_result"
    }
   ],
   "source": [
    "soup.find('h1').attrs['class']"
   ]
  },
  {
   "cell_type": "code",
   "execution_count": 11,
   "metadata": {},
   "outputs": [
    {
     "data": {
      "text/plain": [
       "'This is an h1'"
      ]
     },
     "execution_count": 11,
     "metadata": {},
     "output_type": "execute_result"
    }
   ],
   "source": [
    "soup.find('h1', {'id': 'title'}).text"
   ]
  },
  {
   "cell_type": "code",
   "execution_count": 15,
   "metadata": {},
   "outputs": [
    {
     "data": {
      "text/plain": [
       "'This is an h1'"
      ]
     },
     "execution_count": 15,
     "metadata": {},
     "output_type": "execute_result"
    }
   ],
   "source": [
    "soup.find('h1', {'class': ['foobar']}).text"
   ]
  },
  {
   "cell_type": "markdown",
   "metadata": {},
   "source": [
    "# `soup.find_all()`\n",
    "\n",
    "Returns a **_LIST_** of soup objects that match your query"
   ]
  },
  {
   "cell_type": "code",
   "execution_count": 10,
   "metadata": {
    "scrolled": true
   },
   "outputs": [
    {
     "data": {
      "text/plain": [
       "[<h1 class=\"foobar\" id=\"title\">This is an h1</h1>,\n",
       " <h1 class=\"foobar\">This is yet another heading.</h1>]"
      ]
     },
     "execution_count": 10,
     "metadata": {},
     "output_type": "execute_result"
    }
   ],
   "source": [
    "soup.find_all('h1')"
   ]
  },
  {
   "cell_type": "code",
   "execution_count": 18,
   "metadata": {},
   "outputs": [
    {
     "name": "stdout",
     "output_type": "stream",
     "text": [
      "<h1 class=\"foobar\" id=\"title\">This is an h1</h1>\n",
      "<h1 class=\"foobar\">This is yet another heading.</h1>\n"
     ]
    }
   ],
   "source": [
    "for item in soup.find_all('h1'):\n",
    "    print(item)\n",
    "# [text.text for text in soup.find_all('h1')] # as list comp"
   ]
  },
  {
   "cell_type": "markdown",
   "metadata": {},
   "source": [
    "# Creating a `pandas` DataFrame from a scrape"
   ]
  },
  {
   "cell_type": "markdown",
   "metadata": {},
   "source": [
    "### Todo List"
   ]
  },
  {
   "cell_type": "code",
   "execution_count": 19,
   "metadata": {},
   "outputs": [
    {
     "name": "stdout",
     "output_type": "stream",
     "text": [
      "Take out trash\n",
      "Pay billz\n",
      "Feed dog\n",
      "Mow lawn\n",
      "Take out compost\n",
      "Create scraping lecture\n",
      "Home\n",
      "About\n",
      "Contact\n"
     ]
    }
   ],
   "source": [
    "for li in soup.find_all('li'):\n",
    "    print(li.text)"
   ]
  },
  {
   "cell_type": "code",
   "execution_count": 21,
   "metadata": {},
   "outputs": [
    {
     "data": {
      "text/html": [
       "<div>\n",
       "<style scoped>\n",
       "    .dataframe tbody tr th:only-of-type {\n",
       "        vertical-align: middle;\n",
       "    }\n",
       "\n",
       "    .dataframe tbody tr th {\n",
       "        vertical-align: top;\n",
       "    }\n",
       "\n",
       "    .dataframe thead th {\n",
       "        text-align: right;\n",
       "    }\n",
       "</style>\n",
       "<table border=\"1\" class=\"dataframe\">\n",
       "  <thead>\n",
       "    <tr style=\"text-align: right;\">\n",
       "      <th></th>\n",
       "      <th>Task</th>\n",
       "    </tr>\n",
       "  </thead>\n",
       "  <tbody>\n",
       "    <tr>\n",
       "      <th>0</th>\n",
       "      <td>Take out trash</td>\n",
       "    </tr>\n",
       "    <tr>\n",
       "      <th>1</th>\n",
       "      <td>Pay billz</td>\n",
       "    </tr>\n",
       "    <tr>\n",
       "      <th>2</th>\n",
       "      <td>Feed dog</td>\n",
       "    </tr>\n",
       "    <tr>\n",
       "      <th>3</th>\n",
       "      <td>Mow lawn</td>\n",
       "    </tr>\n",
       "    <tr>\n",
       "      <th>4</th>\n",
       "      <td>Take out compost</td>\n",
       "    </tr>\n",
       "    <tr>\n",
       "      <th>5</th>\n",
       "      <td>Create scraping lecture</td>\n",
       "    </tr>\n",
       "  </tbody>\n",
       "</table>\n",
       "</div>"
      ],
      "text/plain": [
       "                      Task\n",
       "0           Take out trash\n",
       "1                Pay billz\n",
       "2                 Feed dog\n",
       "3                 Mow lawn\n",
       "4         Take out compost\n",
       "5  Create scraping lecture"
      ]
     },
     "execution_count": 21,
     "metadata": {},
     "output_type": "execute_result"
    }
   ],
   "source": [
    "todos = []\n",
    "\n",
    "for ol in soup.find_all('ol'):\n",
    "    for li in ol.find_all('li'):\n",
    "        #print(li.text)\n",
    "        todo = {}\n",
    "        todo['Task'] = li.text # Make columns as such\n",
    "        \n",
    "        todos.append(todo) # Final thing is always the append\n",
    "pd.DataFrame(todos)"
   ]
  },
  {
   "cell_type": "markdown",
   "metadata": {},
   "source": [
    "### GA Directory"
   ]
  },
  {
   "cell_type": "code",
   "execution_count": 26,
   "metadata": {},
   "outputs": [],
   "source": [
    "table = soup.find('table', {'id': 'directory'})"
   ]
  },
  {
   "cell_type": "code",
   "execution_count": 46,
   "metadata": {},
   "outputs": [
    {
     "data": {
      "text/html": [
       "<div>\n",
       "<style scoped>\n",
       "    .dataframe tbody tr th:only-of-type {\n",
       "        vertical-align: middle;\n",
       "    }\n",
       "\n",
       "    .dataframe tbody tr th {\n",
       "        vertical-align: top;\n",
       "    }\n",
       "\n",
       "    .dataframe thead th {\n",
       "        text-align: right;\n",
       "    }\n",
       "</style>\n",
       "<table border=\"1\" class=\"dataframe\">\n",
       "  <thead>\n",
       "    <tr style=\"text-align: right;\">\n",
       "      <th></th>\n",
       "      <th>Email</th>\n",
       "      <th>Name</th>\n",
       "      <th>Role</th>\n",
       "    </tr>\n",
       "  </thead>\n",
       "  <tbody>\n",
       "    <tr>\n",
       "      <th>0</th>\n",
       "      <td>praveen@ga.co</td>\n",
       "      <td>Praveen</td>\n",
       "      <td>Student</td>\n",
       "    </tr>\n",
       "    <tr>\n",
       "      <th>1</th>\n",
       "      <td>fred@ga.co</td>\n",
       "      <td>Fred</td>\n",
       "      <td>Student</td>\n",
       "    </tr>\n",
       "    <tr>\n",
       "      <th>2</th>\n",
       "      <td>homer@ga.co</td>\n",
       "      <td>Homer</td>\n",
       "      <td>Student</td>\n",
       "    </tr>\n",
       "    <tr>\n",
       "      <th>3</th>\n",
       "      <td>kyle@ga.co</td>\n",
       "      <td>Kyle</td>\n",
       "      <td>Student</td>\n",
       "    </tr>\n",
       "    <tr>\n",
       "      <th>4</th>\n",
       "      <td>sam@ga.co</td>\n",
       "      <td>Sam</td>\n",
       "      <td>Student</td>\n",
       "    </tr>\n",
       "    <tr>\n",
       "      <th>5</th>\n",
       "      <td>javier@ga.co</td>\n",
       "      <td>Javier</td>\n",
       "      <td>Student</td>\n",
       "    </tr>\n",
       "    <tr>\n",
       "      <th>6</th>\n",
       "      <td>nengkuan@ga.co</td>\n",
       "      <td>Nengkuan</td>\n",
       "      <td>Student</td>\n",
       "    </tr>\n",
       "    <tr>\n",
       "      <th>7</th>\n",
       "      <td>kieth@ga.co</td>\n",
       "      <td>Kieth</td>\n",
       "      <td>Student</td>\n",
       "    </tr>\n",
       "    <tr>\n",
       "      <th>8</th>\n",
       "      <td>bola@ga.co</td>\n",
       "      <td>Bola</td>\n",
       "      <td>Student</td>\n",
       "    </tr>\n",
       "    <tr>\n",
       "      <th>9</th>\n",
       "      <td>steve@ga.co</td>\n",
       "      <td>Steve</td>\n",
       "      <td>Student</td>\n",
       "    </tr>\n",
       "    <tr>\n",
       "      <th>10</th>\n",
       "      <td>nichole@ga.co</td>\n",
       "      <td>Nichole</td>\n",
       "      <td>Instructor</td>\n",
       "    </tr>\n",
       "    <tr>\n",
       "      <th>11</th>\n",
       "      <td>riley@ga.co</td>\n",
       "      <td>Riley</td>\n",
       "      <td>Instructor</td>\n",
       "    </tr>\n",
       "  </tbody>\n",
       "</table>\n",
       "</div>"
      ],
      "text/plain": [
       "             Email      Name        Role\n",
       "0    praveen@ga.co   Praveen     Student\n",
       "1       fred@ga.co      Fred     Student\n",
       "2      homer@ga.co     Homer     Student\n",
       "3       kyle@ga.co      Kyle     Student\n",
       "4        sam@ga.co       Sam     Student\n",
       "5     javier@ga.co    Javier     Student\n",
       "6   nengkuan@ga.co  Nengkuan     Student\n",
       "7      kieth@ga.co     Kieth     Student\n",
       "8       bola@ga.co      Bola     Student\n",
       "9      steve@ga.co     Steve     Student\n",
       "10   nichole@ga.co   Nichole  Instructor\n",
       "11     riley@ga.co     Riley  Instructor"
      ]
     },
     "execution_count": 46,
     "metadata": {},
     "output_type": "execute_result"
    }
   ],
   "source": [
    "people = []\n",
    "\n",
    "for row in table.find('tbody').find_all('tr'):\n",
    "    person = {}\n",
    "    person['Name'] = row.find('a').text.rstrip()\n",
    "    person['Role'] = row.find('td').text.rstrip()\n",
    "    person['Email'] = row.find('a').attrs['href'].replace('mailto:','')\n",
    "    \n",
    "    people.append(person)\n",
    "pd.DataFrame(people)"
   ]
  },
  {
   "cell_type": "markdown",
   "metadata": {},
   "source": [
    "### Basketball Reference"
   ]
  },
  {
   "cell_type": "code",
   "execution_count": 2,
   "metadata": {},
   "outputs": [],
   "source": [
    "url = 'https://www.basketball-reference.com'\n",
    "res = requests.get(url)"
   ]
  },
  {
   "cell_type": "code",
   "execution_count": 3,
   "metadata": {},
   "outputs": [],
   "source": [
    "soup = BeautifulSoup(res.content, 'lxml')"
   ]
  },
  {
   "cell_type": "code",
   "execution_count": 4,
   "metadata": {},
   "outputs": [],
   "source": [
    "teams = []\n",
    "\n",
    "for conf in ['East', 'West']:\n",
    "    table = soup.find('table', {'id': 'confs_standings_' + conf[0]})\n",
    "    for row in table.find('tbody').find_all('tr'):\n",
    "        team = {}\n",
    "        team['Conference'] = conf\n",
    "        team['Slug'] = row.find('a').text\n",
    "        team['Name'] = row.find('a').attrs.get('title')\n",
    "#        team['Rank'] = row.find('span').text.replace('(','').replace(')','')\n",
    "        team['Rank'] = int(row.find('span').text.strip()[1:-1])\n",
    "        team['Wins'] = int(row.find('td', {'data-stat':'wins'}).text)\n",
    "        team['Losses'] = int(row.find('td', {'data-stat':'losses'}).text)\n",
    "        \n",
    "        teams.append(team)\n",
    "df = pd.DataFrame(teams)"
   ]
  },
  {
   "cell_type": "code",
   "execution_count": 5,
   "metadata": {},
   "outputs": [
    {
     "data": {
      "text/html": [
       "<div>\n",
       "<style scoped>\n",
       "    .dataframe tbody tr th:only-of-type {\n",
       "        vertical-align: middle;\n",
       "    }\n",
       "\n",
       "    .dataframe tbody tr th {\n",
       "        vertical-align: top;\n",
       "    }\n",
       "\n",
       "    .dataframe thead th {\n",
       "        text-align: right;\n",
       "    }\n",
       "</style>\n",
       "<table border=\"1\" class=\"dataframe\">\n",
       "  <thead>\n",
       "    <tr style=\"text-align: right;\">\n",
       "      <th></th>\n",
       "      <th>Conference</th>\n",
       "      <th>Losses</th>\n",
       "      <th>Name</th>\n",
       "      <th>Rank</th>\n",
       "      <th>Slug</th>\n",
       "      <th>Wins</th>\n",
       "    </tr>\n",
       "  </thead>\n",
       "  <tbody>\n",
       "    <tr>\n",
       "      <th>0</th>\n",
       "      <td>East</td>\n",
       "      <td>23</td>\n",
       "      <td>Toronto Raptors</td>\n",
       "      <td>1</td>\n",
       "      <td>TOR</td>\n",
       "      <td>59</td>\n",
       "    </tr>\n",
       "    <tr>\n",
       "      <th>1</th>\n",
       "      <td>East</td>\n",
       "      <td>27</td>\n",
       "      <td>Boston Celtics</td>\n",
       "      <td>2</td>\n",
       "      <td>BOS</td>\n",
       "      <td>55</td>\n",
       "    </tr>\n",
       "    <tr>\n",
       "      <th>2</th>\n",
       "      <td>East</td>\n",
       "      <td>30</td>\n",
       "      <td>Philadelphia 76ers</td>\n",
       "      <td>3</td>\n",
       "      <td>PHI</td>\n",
       "      <td>52</td>\n",
       "    </tr>\n",
       "    <tr>\n",
       "      <th>3</th>\n",
       "      <td>East</td>\n",
       "      <td>32</td>\n",
       "      <td>Cleveland Cavaliers</td>\n",
       "      <td>4</td>\n",
       "      <td>CLE</td>\n",
       "      <td>50</td>\n",
       "    </tr>\n",
       "    <tr>\n",
       "      <th>4</th>\n",
       "      <td>East</td>\n",
       "      <td>34</td>\n",
       "      <td>Indiana Pacers</td>\n",
       "      <td>5</td>\n",
       "      <td>IND</td>\n",
       "      <td>48</td>\n",
       "    </tr>\n",
       "  </tbody>\n",
       "</table>\n",
       "</div>"
      ],
      "text/plain": [
       "  Conference  Losses                 Name  Rank Slug  Wins\n",
       "0       East      23      Toronto Raptors     1  TOR    59\n",
       "1       East      27       Boston Celtics     2  BOS    55\n",
       "2       East      30   Philadelphia 76ers     3  PHI    52\n",
       "3       East      32  Cleveland Cavaliers     4  CLE    50\n",
       "4       East      34       Indiana Pacers     5  IND    48"
      ]
     },
     "execution_count": 5,
     "metadata": {},
     "output_type": "execute_result"
    }
   ],
   "source": [
    "df.head()"
   ]
  },
  {
   "cell_type": "code",
   "execution_count": 76,
   "metadata": {},
   "outputs": [
    {
     "data": {
      "image/png": "[encoded data removed]",
      "text/plain": [
       "<Figure size 432x288 with 1 Axes>"
      ]
     },
     "metadata": {},
     "output_type": "display_data"
    }
   ],
   "source": [
    "df['Wins'].hist();"
   ]
  },
  {
   "cell_type": "code",
   "execution_count": null,
   "metadata": {},
   "outputs": [],
   "source": []
  }
 ],
 "metadata": {
  "kernelspec": {
   "display_name": "Python 3",
   "language": "python",
   "name": "python3"
  },
  "language_info": {
   "codemirror_mode": {
    "name": "ipython",
    "version": 3
   },
   "file_extension": ".py",
   "mimetype": "text/x-python",
   "name": "python",
   "nbconvert_exporter": "python",
   "pygments_lexer": "ipython3",
   "version": "3.6.4"
  },
  "varInspector": {
   "cols": {
    "lenName": 16,
    "lenType": 16,
    "lenVar": 40
   },
   "kernels_config": {
    "python": {
     "delete_cmd_postfix": "",
     "delete_cmd_prefix": "del ",
     "library": "var_list.py",
     "varRefreshCmd": "print(var_dic_list())"
    },
    "r": {
     "delete_cmd_postfix": ") ",
     "delete_cmd_prefix": "rm(",
     "library": "var_list.r",
     "varRefreshCmd": "cat(var_dic_list()) "
    }
   },
   "types_to_exclude": [
    "module",
    "function",
    "builtin_function_or_method",
    "instance",
    "_Feature"
   ],
   "window_display": false
  }
 },
 "nbformat": 4,
 "nbformat_minor": 2
}
