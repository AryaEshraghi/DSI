{
 "cells": [
  {
   "cell_type": "markdown",
   "metadata": {},
   "source": [
    "<img src=\"http://imgur.com/1ZcRyrc.png\" style=\"float: left; margin: 20px; height: 55px\">\n",
    "\n",
    "# Object-Oriented Programming: Coding a Normal Distribution Class\n",
    "\n",
    "_Author: Justin Pounders (ATL)_\n",
    "\n",
    "---\n"
   ]
  },
  {
   "cell_type": "code",
   "execution_count": 1,
   "metadata": {},
   "outputs": [],
   "source": [
    "# The following modules are used for plotting and generating data\n",
    "import matplotlib.pyplot as plt\n",
    "import seaborn as sns\n",
    "import scipy.stats as stats\n",
    "import pandas as pd\n",
    "%matplotlib inline"
   ]
  },
  {
   "cell_type": "code",
   "execution_count": 2,
   "metadata": {},
   "outputs": [],
   "source": [
    "# These imports are needed by the class\n",
    "import numpy as np\n",
    "from scipy.special import erf"
   ]
  },
  {
   "cell_type": "markdown",
   "metadata": {},
   "source": [
    "## Your Mission\n",
    "### Should you choose to accept it...\n",
    "\n",
    "Let's define normal.  Specifically, let's create a class that represents various facets of the normal distribution.  First, some review."
   ]
  },
  {
   "cell_type": "markdown",
   "metadata": {},
   "source": [
    "### The Shape of Normal\n",
    "\n",
    "Mathematically, the probability density function (pdf) for the normal (or Gaussian) distribution can be written as follows:\n",
    "\n",
    "$$\n",
    "f(x | \\mu, \\sigma^2) = \\frac{1}{\\sqrt{2\\pi\\sigma^2}} e^{-\\frac{(x-\\mu)^2}{2\\sigma^2}}.\n",
    "$$\n",
    "\n",
    "The cumulative distribution function (cdf), on the other hand, is\n",
    "\n",
    "$$\n",
    "F( x | \\mu, \\sigma^2) = \\frac{1}{2} \\left[ 1 + \\text{erf}\\left(\\frac{x-\\mu}{\\sigma\\sqrt{2}}\\right) \\right]\n",
    "$$\n",
    "\n",
    "where $\\text{erf}(\\cdot)$ is the \"error function.\"  This error function is technically called a \"special function\" (yes, really), and for today's purposes we will calculate its value using the `erf` function imported from `scipy.stats` above."
   ]
  },
  {
   "cell_type": "markdown",
   "metadata": {},
   "source": [
    "### Time for `class`\n",
    "\n",
    "Let's lay out some requirements for our \"normal class\":\n",
    "\n",
    "- Let's name the class `Gaussian`\n",
    "- The class attributes should include\n",
    "\n",
    "  - `mu`, the mean\n",
    "  - `sigma`, the standard deviation\n",
    "  - `is_fit`, boolean indicating if mean/standard deviation were given or calculated.  More on this later.\n",
    "  \n",
    "- The class methods will include\n",
    "\n",
    "  - `pdf`\n",
    "  - `cdf`\n",
    "  - `plot`\n",
    "  - `fit`\n",
    "  - `likelihood`\n",
    "  \n",
    "To keep things bite-sized and digestible, let's build the class up in 3 stages."
   ]
  },
  {
   "cell_type": "markdown",
   "metadata": {},
   "source": [
    "### Stage 1\n",
    "\n",
    "First define you class and create the `__init__` \"constructor\" method.  This is also a good place to set class attributes.\n",
    "\n",
    "Next, continue by implementing `pdf`, `cdf` and `plot`.\n",
    "\n",
    "- The `pdf` method should take a single value `x` as input and return the normal PDF corresponding to `x`.\n",
    "- The `cdf` method should take a single value `x` as input and return the normal CDF corresponding to `x`.\n",
    "- The `plot` method should make a plot of the distribution and return the corresponding `matplotlib` figure.  (Bonus: add an input flag to plot either the PDF _or_ the CDF.)\n",
    "\n",
    "> The above bullets are not a complete specification.  Feel free to rif and define the class that makes the most sense to you."
   ]
  },
  {
   "cell_type": "code",
   "execution_count": 3,
   "metadata": {},
   "outputs": [],
   "source": [
    "class Gaussian(object):\n",
    "    \n",
    "    def __init__(self):\n",
    "        self.mu_ = None\n",
    "        self.sigma_ = None\n",
    "        self.is_fit = False\n",
    "    \n",
    "    def pdf(self, x):\n",
    "        return((1 / (np.sqrt(2 * np.pi * (self.sigma_ ** 2)))) *\n",
    "        (np.e ** -(x - self.mu_) ** 2 / (2 * self.sigma_ ** 2)))\n",
    "    \n",
    "    def cdf(self, x):\n",
    "        return(.5 * (1 + erf((x - self.mu_) / (self.sigma_ * np.sqrt(2)))))\n",
    "    \n",
    "    def plot(self, x, kind='pdf'):\n",
    "        if kind == 'pdf':\n",
    "            plt.hist(x, normed=True, cumulative=False, label='PDF',\n",
    "                    histtype='step', alpha=0.8, color='k');\n",
    "        elif kind == 'cdf':\n",
    "            plt.hist(x, normed=True, cumulative=True, label='CDF',\n",
    "                    histtype='step', alpha=0.8, color='k');\n",
    "    \n",
    "    def fit(self, x):\n",
    "        self.mu_ = np.mean(x)\n",
    "        self.sigma_ = np.std(x)"
   ]
  },
  {
   "cell_type": "code",
   "execution_count": 4,
   "metadata": {},
   "outputs": [],
   "source": [
    "x = np.random.normal(100, 10, 100)"
   ]
  },
  {
   "cell_type": "code",
   "execution_count": 5,
   "metadata": {},
   "outputs": [],
   "source": [
    "norm = Gaussian()\n",
    "norm.fit(x)"
   ]
  },
  {
   "cell_type": "code",
   "execution_count": 6,
   "metadata": {},
   "outputs": [
    {
     "data": {
      "text/plain": [
       "100.39933883721382"
      ]
     },
     "execution_count": 6,
     "metadata": {},
     "output_type": "execute_result"
    }
   ],
   "source": [
    "norm.mu_"
   ]
  },
  {
   "cell_type": "markdown",
   "metadata": {},
   "source": [
    "### Stage 2\n",
    "\n",
    "Copy your class down below, and let's continue to add some functionality.\n",
    "\n",
    "Specifically let's implement a `fit` method.  You can \"fit\" a normal distribution to a set of data by calculating the mean and standard deviation of the data, then assigning these values to a normal distribution.\n",
    "\n",
    "For our class, try passing the `fit` method the raw data and have everything else happen inside the method.\n",
    "\n",
    "I'll provide some test data to get started.  Once you think you've implemented it correctly you could test it out using something like the following, which will plot a histogram on top of you normal.\n",
    "\n",
    "```python\n",
    "norm = Gaussian()              # This will call the __init__ you implemented\n",
    "norm.fit(df.samples.values)    # This is the fit method you just implemented.\n",
    "fig = norm.plot(df.samples.min(), df.samples.max())   # This is the plot method you implemented\n",
    "\n",
    "# And here is we plot the histogram\n",
    "df.hist(ax=fig.get_axes(), normed=True, bins=20)```"
   ]
  },
  {
   "cell_type": "code",
   "execution_count": 7,
   "metadata": {},
   "outputs": [
    {
     "data": {
      "text/html": [
       "<div>\n",
       "<style scoped>\n",
       "    .dataframe tbody tr th:only-of-type {\n",
       "        vertical-align: middle;\n",
       "    }\n",
       "\n",
       "    .dataframe tbody tr th {\n",
       "        vertical-align: top;\n",
       "    }\n",
       "\n",
       "    .dataframe thead th {\n",
       "        text-align: right;\n",
       "    }\n",
       "</style>\n",
       "<table border=\"1\" class=\"dataframe\">\n",
       "  <thead>\n",
       "    <tr style=\"text-align: right;\">\n",
       "      <th></th>\n",
       "      <th>samples</th>\n",
       "    </tr>\n",
       "  </thead>\n",
       "  <tbody>\n",
       "    <tr>\n",
       "      <th>0</th>\n",
       "      <td>114.934283</td>\n",
       "    </tr>\n",
       "    <tr>\n",
       "      <th>1</th>\n",
       "      <td>102.234714</td>\n",
       "    </tr>\n",
       "    <tr>\n",
       "      <th>2</th>\n",
       "      <td>117.953771</td>\n",
       "    </tr>\n",
       "    <tr>\n",
       "      <th>3</th>\n",
       "      <td>135.460597</td>\n",
       "    </tr>\n",
       "    <tr>\n",
       "      <th>4</th>\n",
       "      <td>100.316933</td>\n",
       "    </tr>\n",
       "  </tbody>\n",
       "</table>\n",
       "</div>"
      ],
      "text/plain": [
       "      samples\n",
       "0  114.934283\n",
       "1  102.234714\n",
       "2  117.953771\n",
       "3  135.460597\n",
       "4  100.316933"
      ]
     },
     "execution_count": 7,
     "metadata": {},
     "output_type": "execute_result"
    }
   ],
   "source": [
    "# Here is the sample data\n",
    "mu = 105\n",
    "sigma = 20\n",
    "test_norm = stats.norm(mu, sigma)\n",
    "\n",
    "np.random.seed(seed=42)\n",
    "samples = test_norm.rvs(1000)\n",
    "df = pd.DataFrame({'samples':samples})\n",
    "df.head()"
   ]
  },
  {
   "cell_type": "code",
   "execution_count": 8,
   "metadata": {},
   "outputs": [
    {
     "data": {
      "text/plain": [
       "(105.38664111644651, 19.574524154947085)"
      ]
     },
     "execution_count": 8,
     "metadata": {},
     "output_type": "execute_result"
    }
   ],
   "source": [
    "norm = Gaussian()\n",
    "norm.fit(df.samples.values)\n",
    "norm.mu_, norm.sigma_"
   ]
  },
  {
   "cell_type": "code",
   "execution_count": 9,
   "metadata": {},
   "outputs": [
    {
     "name": "stderr",
     "output_type": "stream",
     "text": [
      "/Users/Arya/anaconda3/envs/dsi/lib/python3.6/site-packages/matplotlib/axes/_axes.py:6462: UserWarning: The 'normed' kwarg is deprecated, and has been replaced by the 'density' kwarg.\n",
      "  warnings.warn(\"The 'normed' kwarg is deprecated, and has been \"\n"
     ]
    },
    {
     "data": {
      "image/png": "[encoded data removed]",
      "text/plain": [
       "<Figure size 432x288 with 1 Axes>"
      ]
     },
     "metadata": {},
     "output_type": "display_data"
    }
   ],
   "source": [
    "norm.plot(df.samples.values, kind='pdf')"
   ]
  },
  {
   "cell_type": "code",
   "execution_count": 10,
   "metadata": {},
   "outputs": [
    {
     "name": "stderr",
     "output_type": "stream",
     "text": [
      "/Users/Arya/anaconda3/envs/dsi/lib/python3.6/site-packages/matplotlib/axes/_axes.py:6462: UserWarning: The 'normed' kwarg is deprecated, and has been replaced by the 'density' kwarg.\n",
      "  warnings.warn(\"The 'normed' kwarg is deprecated, and has been \"\n"
     ]
    },
    {
     "data": {
      "image/png": "[encoded data removed]",
      "text/plain": [
       "<Figure size 432x288 with 1 Axes>"
      ]
     },
     "metadata": {},
     "output_type": "display_data"
    }
   ],
   "source": [
    "norm.plot(df.samples.values, kind='cdf')"
   ]
  },
  {
   "cell_type": "markdown",
   "metadata": {},
   "source": [
    "### Stage 3 (Bonus Level!)\n",
    "\n",
    "Now let's add a `likelihood` method.  In probability, the likelihood function tells us how likely it is that our data came from a given distribution.\n",
    "\n",
    "For example, let's say that we have some normal distribution with fixed mean and standard deviation: $f(x | \\mu, \\sigma^2)$.\n",
    "\n",
    "Now let's say we have a set of data, $x_1, x_2, x_3, ... x_N$ that we _think_ are sampled from our normal distribution.\n",
    "\n",
    "The likelihood function tells how well our data fits the distribution; it is calculated as\n",
    "\n",
    "$$\n",
    "\\text{likelihood} = \\prod_{i=1}^N f(x_i | \\mu, \\sigma^2)\n",
    "$$\n",
    "\n",
    "*These numbers can get really small!*  It is therefore very common to calculate the \"log likelihood:\"\n",
    "\n",
    "$$\n",
    "\\text{log(likelihood)} = \\sum_{i=1}^N \\ln\\left[f(x_i | \\mu, \\sigma^2)\\right]\n",
    "$$\n",
    "\n",
    "If you use the sample data from \"Stage 2\" then the following code should give you about an answer of about -4393.167.\n",
    "\n",
    "```python\n",
    "norm = Gaussian()\n",
    "norm.fit(df.samples.values)\n",
    "norm.log_likelihood(df.samples.values)\n",
    "```"
   ]
  },
  {
   "cell_type": "code",
   "execution_count": 13,
   "metadata": {},
   "outputs": [],
   "source": [
    "class Gaussian(object):\n",
    "    \n",
    "    def __init__(self):\n",
    "        self.mu_ = None\n",
    "        self.sigma_ = None\n",
    "        self.is_fit = False\n",
    "    \n",
    "    def pdf(self, x):\n",
    "        return((1 / (np.sqrt(2 * np.pi * (self.sigma_ ** 2)))) *\n",
    "        (np.e ** -(x - self.mu_) ** 2 / (2 * self.sigma_ ** 2)))\n",
    "    \n",
    "    def cdf(self, x):\n",
    "        return(.5 * (1 + erf((x - self.mu_) / (self.sigma_ * np.sqrt(2)))))\n",
    "    \n",
    "    def plot(self, x, kind='pdf'):\n",
    "        if kind == 'pdf':\n",
    "            plt.hist(x, normed=True, cumulative=False, label='PDF',\n",
    "                    histtype='step', alpha=0.8, color='k');\n",
    "        elif kind == 'cdf':\n",
    "            plt.hist(x, normed=True, cumulative=True, label='CDF',\n",
    "                    histtype='step', alpha=0.8, color='k');\n",
    "    \n",
    "    def fit(self, x):\n",
    "        self.mu_ = np.mean(x)\n",
    "        self.sigma_ = np.std(x)\n",
    "        \n",
    "    def log_likelihood(self, x):\n",
    "        return(np.sum(np.log(self.pdf(x))))"
   ]
  },
  {
   "cell_type": "code",
   "execution_count": 15,
   "metadata": {},
   "outputs": [
    {
     "name": "stderr",
     "output_type": "stream",
     "text": [
      "/Users/Arya/anaconda3/envs/dsi/lib/python3.6/site-packages/ipykernel/__main__.py:28: RuntimeWarning: divide by zero encountered in log\n"
     ]
    },
    {
     "data": {
      "text/plain": [
       "-inf"
      ]
     },
     "execution_count": 15,
     "metadata": {},
     "output_type": "execute_result"
    }
   ],
   "source": [
    "norm = Gaussian()\n",
    "norm.fit(df.samples.values)\n",
    "norm.log_likelihood(df.samples.values)"
   ]
  },
  {
   "cell_type": "markdown",
   "metadata": {},
   "source": [
    "For more information, check out [Chapter 4](http://anandology.com/python-practice-book/object_oriented_programming.html) in the _Python Practice Book_."
   ]
  }
 ],
 "metadata": {
  "kernelspec": {
   "display_name": "Python [default]",
   "language": "python",
   "name": "python3"
  },
  "language_info": {
   "codemirror_mode": {
    "name": "ipython",
    "version": 3
   },
   "file_extension": ".py",
   "mimetype": "text/x-python",
   "name": "python",
   "nbconvert_exporter": "python",
   "pygments_lexer": "ipython3",
   "version": "3.6.5"
  },
  "varInspector": {
   "cols": {
    "lenName": 16,
    "lenType": 16,
    "lenVar": 40
   },
   "kernels_config": {
    "python": {
     "delete_cmd_postfix": "",
     "delete_cmd_prefix": "del ",
     "library": "var_list.py",
     "varRefreshCmd": "print(var_dic_list())"
    },
    "r": {
     "delete_cmd_postfix": ") ",
     "delete_cmd_prefix": "rm(",
     "library": "var_list.r",
     "varRefreshCmd": "cat(var_dic_list()) "
    }
   },
   "types_to_exclude": [
    "module",
    "function",
    "builtin_function_or_method",
    "instance",
    "_Feature"
   ],
   "window_display": false
  }
 },
 "nbformat": 4,
 "nbformat_minor": 2
}
