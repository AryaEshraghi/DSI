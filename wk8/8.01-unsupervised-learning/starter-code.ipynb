{
 "cells": [
  {
   "cell_type": "code",
   "execution_count": null,
   "metadata": {
    "scrolled": false
   },
   "outputs": [],
   "source": [
    "#!pip install pyLDAvis"
   ]
  },
  {
   "cell_type": "code",
   "execution_count": 1,
   "metadata": {},
   "outputs": [],
   "source": [
    "import pandas as pd\n",
    "import numpy as np\n",
    "\n",
    "# NLTK\n",
    "from nltk.tokenize import RegexpTokenizer\n",
    "from nltk.stem import PorterStemmer\n",
    "from nltk.corpus import stopwords\n",
    "import re\n",
    "\n",
    "# Visualization\n",
    "import matplotlib.pyplot as plt\n",
    "import matplotlib.patches as mpatches\n",
    "import matplotlib\n",
    "%matplotlib inline\n",
    "import seaborn as sns"
   ]
  },
  {
   "cell_type": "markdown",
   "metadata": {},
   "source": [
    "# Model 1: Food and Animals"
   ]
  },
  {
   "cell_type": "code",
   "execution_count": 2,
   "metadata": {},
   "outputs": [],
   "source": [
    "doc_1 = 'I like to eat broccoli and bananas.'\n",
    "doc_2 = 'I ate a banana and spinach smoothie for breakfast.'\n",
    "doc_3 = 'Chinchillas and kittens are cute.'\n",
    "doc_4 = 'My sister adopted a kitten yesterday.'\n",
    "doc_5 = 'Look at this cute hamster munching on a piece of broccoli.'"
   ]
  },
  {
   "cell_type": "markdown",
   "metadata": {},
   "source": [
    "## Step 1: Preprocess our text."
   ]
  },
  {
   "cell_type": "code",
   "execution_count": 3,
   "metadata": {},
   "outputs": [],
   "source": [
    "def text_process(text):\n",
    "    '''\n",
    "    Takes in a string of text, then performs the following:\n",
    "        1. Tokenizes and removes punctuation\n",
    "        2. Removes stopwords\n",
    "        3. Stems\n",
    "        4. Returns a list of the cleaned text\n",
    "    '''\n",
    "    if pd.isnull(text):\n",
    "        return []\n",
    "    # tokenizing and removing punctuation\n",
    "    tokenizer = RegexpTokenizer(r'\\w+')\n",
    "    text_processed=tokenizer.tokenize(text)\n",
    "    \n",
    "    # removing any stopwords\n",
    "    text_processed = [word.lower() for word in text_processed if word.lower() not in stopwords.words('english')]\n",
    "    \n",
    "    # stemming\n",
    "    porter_stemmer = PorterStemmer()\n",
    "    \n",
    "    text_processed = [porter_stemmer.stem(word) for word in text_processed]\n",
    "    \n",
    "    try:\n",
    "        text_processed.remove('b')\n",
    "    except: \n",
    "        pass\n",
    "\n",
    "    return text_processed ## <-- we're keeping our words distinct"
   ]
  },
  {
   "cell_type": "code",
   "execution_count": 5,
   "metadata": {},
   "outputs": [],
   "source": [
    "texts = [text_process(doc_1),\n",
    "         text_process(doc_2),\n",
    "         text_process(doc_3),\n",
    "         text_process(doc_4),\n",
    "         text_process(doc_5)]"
   ]
  },
  {
   "cell_type": "code",
   "execution_count": 6,
   "metadata": {},
   "outputs": [
    {
     "data": {
      "text/plain": [
       "[['like', 'eat', 'broccoli', 'banana'],\n",
       " ['ate', 'banana', 'spinach', 'smoothi', 'breakfast'],\n",
       " ['chinchilla', 'kitten', 'cute'],\n",
       " ['sister', 'adopt', 'kitten', 'yesterday'],\n",
       " ['look', 'cute', 'hamster', 'munch', 'piec', 'broccoli']]"
      ]
     },
     "execution_count": 6,
     "metadata": {},
     "output_type": "execute_result"
    }
   ],
   "source": [
    "texts"
   ]
  },
  {
   "cell_type": "markdown",
   "metadata": {},
   "source": [
    "## Step 2: Fit LDA Model."
   ]
  },
  {
   "cell_type": "code",
   "execution_count": 4,
   "metadata": {},
   "outputs": [],
   "source": [
    "from gensim import corpora, models"
   ]
  },
  {
   "cell_type": "code",
   "execution_count": 7,
   "metadata": {},
   "outputs": [],
   "source": [
    "import pyLDAvis.gensim"
   ]
  },
  {
   "cell_type": "code",
   "execution_count": 8,
   "metadata": {},
   "outputs": [],
   "source": [
    "pyLDAvis.enable_notebook() # In order for the visualization to show up"
   ]
  },
  {
   "cell_type": "code",
   "execution_count": null,
   "metadata": {},
   "outputs": [],
   "source": [
    "# np.random.seed(42)"
   ]
  },
  {
   "cell_type": "code",
   "execution_count": 9,
   "metadata": {},
   "outputs": [],
   "source": [
    "dictionary = corpora.Dictionary(texts)\n",
    "\n",
    "corpus = [dictionary.doc2bow(text) for text in texts]"
   ]
  },
  {
   "cell_type": "code",
   "execution_count": 13,
   "metadata": {},
   "outputs": [
    {
     "name": "stdout",
     "output_type": "stream",
     "text": [
      "[(0, 1), (1, 1), (2, 1), (3, 1)]\n",
      "[(0, 1), (4, 1), (5, 1), (6, 1), (7, 1)]\n",
      "[(8, 1), (9, 1), (10, 1)]\n",
      "[(10, 1), (11, 1), (12, 1), (13, 1)]\n",
      "[(1, 1), (9, 1), (14, 1), (15, 1), (16, 1), (17, 1)]\n"
     ]
    }
   ],
   "source": [
    "for text in texts:\n",
    "    print(dictionary.doc2bow(text))"
   ]
  },
  {
   "cell_type": "code",
   "execution_count": 14,
   "metadata": {},
   "outputs": [],
   "source": [
    "ldamodel = models.ldamodel.LdaModel(corpus,\n",
    "                                    2, # number of topics\n",
    "                                    id2word=dictionary, # connect each word to its dict key\n",
    "                                    passes=5, #similar to epochs\n",
    "                                    minimum_probability=0.01) # only include significant results"
   ]
  },
  {
   "cell_type": "markdown",
   "metadata": {},
   "source": [
    "## Step 3: Visualize LDA model."
   ]
  },
  {
   "cell_type": "code",
   "execution_count": 15,
   "metadata": {},
   "outputs": [
    {
     "data": {
      "text/html": [
       "\n",
       "<link rel=\"stylesheet\" type=\"text/css\" href=\"https://cdn.rawgit.com/bmabey/pyLDAvis/files/ldavis.v1.0.0.css\">\n",
       "\n",
       "\n",
       "<div id=\"ldavis_el191664629249504455138739\"></div>\n",
       "<script type=\"text/javascript\">\n",
       "\n",
       "var ldavis_el191664629249504455138739_data = {\"mdsDat\": {\"Freq\": [73.95448303222656, 26.04552459716797], \"cluster\": [1, 1], \"topics\": [1, 2], \"x\": [0.04037696868181228, -0.04037696868181228], \"y\": [0.0, 0.0]}, \"tinfo\": {\"Category\": [\"Default\", \"Default\", \"Default\", \"Default\", \"Default\", \"Default\", \"Default\", \"Default\", \"Default\", \"Default\", \"Default\", \"Default\", \"Default\", \"Default\", \"Default\", \"Default\", \"Default\", \"Default\", \"Topic1\", \"Topic1\", \"Topic1\", \"Topic1\", \"Topic1\", \"Topic1\", \"Topic1\", \"Topic1\", \"Topic1\", \"Topic1\", \"Topic1\", \"Topic1\", \"Topic1\", \"Topic1\", \"Topic1\", \"Topic1\", \"Topic1\", \"Topic1\", \"Topic2\", \"Topic2\", \"Topic2\", \"Topic2\", \"Topic2\", \"Topic2\", \"Topic2\", \"Topic2\", \"Topic2\", \"Topic2\", \"Topic2\", \"Topic2\", \"Topic2\", \"Topic2\", \"Topic2\", \"Topic2\", \"Topic2\", \"Topic2\"], \"Freq\": [0.0, 0.0, 0.0, 1.0, 1.0, 1.0, 1.0, 1.0, 1.0, 1.0, 1.0, 1.0, 1.0, 1.0, 1.0, 1.0, 1.0, 1.0, 1.5102111101150513, 1.5074595212936401, 1.50076425075531, 0.9109883308410645, 0.9101494550704956, 0.9093601107597351, 0.9092597961425781, 0.9087610840797424, 0.9087268114089966, 0.9086217880249023, 0.9075211882591248, 0.9006024599075317, 0.899670422077179, 0.8653926253318787, 0.8082037568092346, 0.33641383051872253, 0.33572298288345337, 0.3321540951728821, 0.6192678809165955, 0.6168006658554077, 0.6163230538368225, 0.7146092653274536, 0.2506253719329834, 0.22692817449569702, 0.22628390789031982, 0.2215007245540619, 0.22073982656002045, 0.2206672579050064, 0.22064360976219177, 0.22029879689216614, 0.22022947669029236, 0.21968378126621246, 0.21910381317138672, 0.2358231246471405, 0.23119452595710754, 0.22929224371910095], \"Term\": [\"adopt\", \"yesterday\", \"sister\", \"kitten\", \"chinchilla\", \"eat\", \"like\", \"piec\", \"hamster\", \"smoothi\", \"munch\", \"spinach\", \"breakfast\", \"ate\", \"look\", \"cute\", \"broccoli\", \"banana\", \"banana\", \"broccoli\", \"cute\", \"look\", \"ate\", \"breakfast\", \"spinach\", \"munch\", \"smoothi\", \"hamster\", \"piec\", \"like\", \"eat\", \"chinchilla\", \"kitten\", \"sister\", \"yesterday\", \"adopt\", \"adopt\", \"yesterday\", \"sister\", \"kitten\", \"chinchilla\", \"eat\", \"like\", \"piec\", \"hamster\", \"smoothi\", \"munch\", \"spinach\", \"breakfast\", \"ate\", \"look\", \"cute\", \"broccoli\", \"banana\"], \"Total\": [0.0, 0.0, 0.0, 1.0, 1.0, 1.0, 1.0, 1.0, 1.0, 1.0, 1.0, 1.0, 1.0, 1.0, 1.0, 1.0, 1.0, 1.0, 1.7395033836364746, 1.7386540174484253, 1.736587405204773, 1.1300921440124512, 1.1298332214355469, 1.129589557647705, 1.1295585632324219, 1.1294046640396118, 1.1293940544128418, 1.129361629486084, 1.1290218830108643, 1.1268863677978516, 1.126598596572876, 1.1160180568695068, 1.522813081741333, 0.9527368545532227, 0.9525236487388611, 0.9514219760894775, 0.9514219760894775, 0.9525236487388611, 0.9527368545532227, 1.522813081741333, 1.1160180568695068, 1.126598596572876, 1.1268863677978516, 1.1290218830108643, 1.129361629486084, 1.1293940544128418, 1.1294046640396118, 1.1295585632324219, 1.129589557647705, 1.1298332214355469, 1.1300921440124512, 1.736587405204773, 1.7386540174484253, 1.7395033836364746], \"loglift\": [18.0, 17.0, 16.0, 15.0, 14.0, 13.0, 12.0, 11.0, 10.0, 9.0, 8.0, 7.0, 6.0, 5.0, 4.0, 3.0, 2.0, 1.0, 0.16040000319480896, 0.1589999943971634, 0.155799999833107, 0.08619999885559082, 0.08550000190734863, 0.08489999920129776, 0.08479999750852585, 0.0843999981880188, 0.08429999649524689, 0.08420000225305557, 0.08330000191926956, 0.07760000228881836, 0.07680000364780426, 0.04740000143647194, -0.33180001378059387, -0.739300012588501, -0.741100013256073, -0.7505999803543091, 0.9158999919891357, 0.9107999801635742, 0.9097999930381775, 0.588699996471405, -0.14820000529289246, -0.25699999928474426, -0.26010000705718994, -0.2833999991416931, -0.2870999872684479, -0.2874999940395355, -0.28760001063346863, -0.28929999470710754, -0.2896000146865845, -0.2922999858856201, -0.295199990272522, -0.6513000130653381, -0.6722999811172485, -0.6809999942779541], \"logprob\": [18.0, 17.0, 16.0, 15.0, 14.0, 13.0, 12.0, 11.0, 10.0, 9.0, 8.0, 7.0, 6.0, 5.0, 4.0, 3.0, 2.0, 1.0, -2.3770999908447266, -2.3789000511169434, -2.3833000659942627, -2.882499933242798, -2.883500099182129, -2.8842999935150146, -2.884399890899658, -2.884999990463257, -2.884999990463257, -2.8850998878479004, -2.886399984359741, -2.8940000534057617, -2.8949999809265137, -2.9339001178741455, -3.0023000240325928, -3.878700017929077, -3.8808000087738037, -3.8914999961853027, -2.224900007247925, -2.2288999557495117, -2.2297000885009766, -2.081700086593628, -3.129499912261963, -3.228800058364868, -3.2316999435424805, -3.253000020980835, -3.256500005722046, -3.2567999362945557, -3.2569000720977783, -3.258500099182129, -3.2588000297546387, -3.2613000869750977, -3.2639000415802, -3.1903998851776123, -3.210200071334839, -3.2184998989105225]}, \"token.table\": {\"Topic\": [2, 1, 1, 1, 1, 1, 1, 1, 1, 1, 2, 1, 1, 1, 1, 2, 1, 1, 2], \"Freq\": [1.051058292388916, 0.8850863575935364, 1.149753451347351, 0.8852773308753967, 1.1503151655197144, 0.8960428237915039, 1.151684045791626, 0.8876276016235352, 0.8854559659957886, 0.6566793918609619, 0.6566793918609619, 0.8874009251594543, 0.8848835825920105, 0.8854222297668457, 0.8857223987579346, 1.049607753753662, 0.8854305744171143, 0.8853015899658203, 1.0498427152633667], \"Term\": [\"adopt\", \"ate\", \"banana\", \"breakfast\", \"broccoli\", \"chinchilla\", \"cute\", \"eat\", \"hamster\", \"kitten\", \"kitten\", \"like\", \"look\", \"munch\", \"piec\", \"sister\", \"smoothi\", \"spinach\", \"yesterday\"]}, \"R\": 18, \"lambda.step\": 0.01, \"plot.opts\": {\"xlab\": \"PC1\", \"ylab\": \"PC2\"}, \"topic.order\": [1, 2]};\n",
       "\n",
       "function LDAvis_load_lib(url, callback){\n",
       "  var s = document.createElement('script');\n",
       "  s.src = url;\n",
       "  s.async = true;\n",
       "  s.onreadystatechange = s.onload = callback;\n",
       "  s.onerror = function(){console.warn(\"failed to load library \" + url);};\n",
       "  document.getElementsByTagName(\"head\")[0].appendChild(s);\n",
       "}\n",
       "\n",
       "if(typeof(LDAvis) !== \"undefined\"){\n",
       "   // already loaded: just create the visualization\n",
       "   !function(LDAvis){\n",
       "       new LDAvis(\"#\" + \"ldavis_el191664629249504455138739\", ldavis_el191664629249504455138739_data);\n",
       "   }(LDAvis);\n",
       "}else if(typeof define === \"function\" && define.amd){\n",
       "   // require.js is available: use it to load d3/LDAvis\n",
       "   require.config({paths: {d3: \"https://cdnjs.cloudflare.com/ajax/libs/d3/3.5.5/d3.min\"}});\n",
       "   require([\"d3\"], function(d3){\n",
       "      window.d3 = d3;\n",
       "      LDAvis_load_lib(\"https://cdn.rawgit.com/bmabey/pyLDAvis/files/ldavis.v1.0.0.js\", function(){\n",
       "        new LDAvis(\"#\" + \"ldavis_el191664629249504455138739\", ldavis_el191664629249504455138739_data);\n",
       "      });\n",
       "    });\n",
       "}else{\n",
       "    // require.js not available: dynamically load d3 & LDAvis\n",
       "    LDAvis_load_lib(\"https://cdnjs.cloudflare.com/ajax/libs/d3/3.5.5/d3.min.js\", function(){\n",
       "         LDAvis_load_lib(\"https://cdn.rawgit.com/bmabey/pyLDAvis/files/ldavis.v1.0.0.js\", function(){\n",
       "                 new LDAvis(\"#\" + \"ldavis_el191664629249504455138739\", ldavis_el191664629249504455138739_data);\n",
       "            })\n",
       "         });\n",
       "}\n",
       "</script>"
      ],
      "text/plain": [
       "PreparedData(topic_coordinates=            Freq  cluster  topics         x    y\n",
       "topic                                           \n",
       "0      73.954483        1       1  0.040377  0.0\n",
       "1      26.045525        1       2 -0.040377  0.0, topic_info=     Category      Freq        Term     Total  loglift  logprob\n",
       "term                                                           \n",
       "11    Default  0.000000       adopt  0.000000  18.0000  18.0000\n",
       "13    Default  0.000000   yesterday  0.000000  17.0000  17.0000\n",
       "12    Default  0.000000      sister  0.000000  16.0000  16.0000\n",
       "10    Default  1.000000      kitten  1.000000  15.0000  15.0000\n",
       "8     Default  1.000000  chinchilla  1.000000  14.0000  14.0000\n",
       "2     Default  1.000000         eat  1.000000  13.0000  13.0000\n",
       "3     Default  1.000000        like  1.000000  12.0000  12.0000\n",
       "17    Default  1.000000        piec  1.000000  11.0000  11.0000\n",
       "14    Default  1.000000     hamster  1.000000  10.0000  10.0000\n",
       "6     Default  1.000000     smoothi  1.000000   9.0000   9.0000\n",
       "16    Default  1.000000       munch  1.000000   8.0000   8.0000\n",
       "7     Default  1.000000     spinach  1.000000   7.0000   7.0000\n",
       "5     Default  1.000000   breakfast  1.000000   6.0000   6.0000\n",
       "4     Default  1.000000         ate  1.000000   5.0000   5.0000\n",
       "15    Default  1.000000        look  1.000000   4.0000   4.0000\n",
       "9     Default  1.000000        cute  1.000000   3.0000   3.0000\n",
       "1     Default  1.000000    broccoli  1.000000   2.0000   2.0000\n",
       "0     Default  1.000000      banana  1.000000   1.0000   1.0000\n",
       "0      Topic1  1.510211      banana  1.739503   0.1604  -2.3771\n",
       "1      Topic1  1.507460    broccoli  1.738654   0.1590  -2.3789\n",
       "9      Topic1  1.500764        cute  1.736587   0.1558  -2.3833\n",
       "15     Topic1  0.910988        look  1.130092   0.0862  -2.8825\n",
       "4      Topic1  0.910149         ate  1.129833   0.0855  -2.8835\n",
       "5      Topic1  0.909360   breakfast  1.129590   0.0849  -2.8843\n",
       "7      Topic1  0.909260     spinach  1.129559   0.0848  -2.8844\n",
       "16     Topic1  0.908761       munch  1.129405   0.0844  -2.8850\n",
       "6      Topic1  0.908727     smoothi  1.129394   0.0843  -2.8850\n",
       "14     Topic1  0.908622     hamster  1.129362   0.0842  -2.8851\n",
       "17     Topic1  0.907521        piec  1.129022   0.0833  -2.8864\n",
       "3      Topic1  0.900602        like  1.126886   0.0776  -2.8940\n",
       "2      Topic1  0.899670         eat  1.126599   0.0768  -2.8950\n",
       "8      Topic1  0.865393  chinchilla  1.116018   0.0474  -2.9339\n",
       "10     Topic1  0.808204      kitten  1.522813  -0.3318  -3.0023\n",
       "12     Topic1  0.336414      sister  0.952737  -0.7393  -3.8787\n",
       "13     Topic1  0.335723   yesterday  0.952524  -0.7411  -3.8808\n",
       "11     Topic1  0.332154       adopt  0.951422  -0.7506  -3.8915\n",
       "11     Topic2  0.619268       adopt  0.951422   0.9159  -2.2249\n",
       "13     Topic2  0.616801   yesterday  0.952524   0.9108  -2.2289\n",
       "12     Topic2  0.616323      sister  0.952737   0.9098  -2.2297\n",
       "10     Topic2  0.714609      kitten  1.522813   0.5887  -2.0817\n",
       "8      Topic2  0.250625  chinchilla  1.116018  -0.1482  -3.1295\n",
       "2      Topic2  0.226928         eat  1.126599  -0.2570  -3.2288\n",
       "3      Topic2  0.226284        like  1.126886  -0.2601  -3.2317\n",
       "17     Topic2  0.221501        piec  1.129022  -0.2834  -3.2530\n",
       "14     Topic2  0.220740     hamster  1.129362  -0.2871  -3.2565\n",
       "6      Topic2  0.220667     smoothi  1.129394  -0.2875  -3.2568\n",
       "16     Topic2  0.220644       munch  1.129405  -0.2876  -3.2569\n",
       "7      Topic2  0.220299     spinach  1.129559  -0.2893  -3.2585\n",
       "5      Topic2  0.220229   breakfast  1.129590  -0.2896  -3.2588\n",
       "4      Topic2  0.219684         ate  1.129833  -0.2923  -3.2613\n",
       "15     Topic2  0.219104        look  1.130092  -0.2952  -3.2639\n",
       "9      Topic2  0.235823        cute  1.736587  -0.6513  -3.1904\n",
       "1      Topic2  0.231195    broccoli  1.738654  -0.6723  -3.2102\n",
       "0      Topic2  0.229292      banana  1.739503  -0.6810  -3.2185, token_table=      Topic      Freq        Term\n",
       "term                             \n",
       "11        2  1.051058       adopt\n",
       "4         1  0.885086         ate\n",
       "0         1  1.149753      banana\n",
       "5         1  0.885277   breakfast\n",
       "1         1  1.150315    broccoli\n",
       "8         1  0.896043  chinchilla\n",
       "9         1  1.151684        cute\n",
       "2         1  0.887628         eat\n",
       "14        1  0.885456     hamster\n",
       "10        1  0.656679      kitten\n",
       "10        2  0.656679      kitten\n",
       "3         1  0.887401        like\n",
       "15        1  0.884884        look\n",
       "16        1  0.885422       munch\n",
       "17        1  0.885722        piec\n",
       "12        2  1.049608      sister\n",
       "6         1  0.885431     smoothi\n",
       "7         1  0.885302     spinach\n",
       "13        2  1.049843   yesterday, R=18, lambda_step=0.01, plot_opts={'xlab': 'PC1', 'ylab': 'PC2'}, topic_order=[1, 2])"
      ]
     },
     "execution_count": 15,
     "metadata": {},
     "output_type": "execute_result"
    }
   ],
   "source": [
    "pyLDAvis.gensim.prepare(ldamodel, corpus, dictionary)"
   ]
  },
  {
   "cell_type": "markdown",
   "metadata": {},
   "source": [
    "## Step 4: Update model with new data!"
   ]
  },
  {
   "cell_type": "code",
   "execution_count": null,
   "metadata": {
    "collapsed": true
   },
   "outputs": [],
   "source": [
    "doc_6 = 'That cat is so cute! It looks good enough to eat.'"
   ]
  },
  {
   "cell_type": "markdown",
   "metadata": {},
   "source": [
    "# Model 2: Yelp Reviews"
   ]
  },
  {
   "cell_type": "code",
   "execution_count": null,
   "metadata": {
    "collapsed": true
   },
   "outputs": [],
   "source": [
    "review = pd.read_json(\"./yelp_academic_dataset_review.json\")"
   ]
  }
 ],
 "metadata": {
  "kernelspec": {
   "display_name": "Python 3",
   "language": "python",
   "name": "python3"
  },
  "language_info": {
   "codemirror_mode": {
    "name": "ipython",
    "version": 3
   },
   "file_extension": ".py",
   "mimetype": "text/x-python",
   "name": "python",
   "nbconvert_exporter": "python",
   "pygments_lexer": "ipython3",
   "version": "3.6.5"
  },
  "varInspector": {
   "cols": {
    "lenName": 16,
    "lenType": 16,
    "lenVar": 40
   },
   "kernels_config": {
    "python": {
     "delete_cmd_postfix": "",
     "delete_cmd_prefix": "del ",
     "library": "var_list.py",
     "varRefreshCmd": "print(var_dic_list())"
    },
    "r": {
     "delete_cmd_postfix": ") ",
     "delete_cmd_prefix": "rm(",
     "library": "var_list.r",
     "varRefreshCmd": "cat(var_dic_list()) "
    }
   },
   "types_to_exclude": [
    "module",
    "function",
    "builtin_function_or_method",
    "instance",
    "_Feature"
   ],
   "window_display": false
  }
 },
 "nbformat": 4,
 "nbformat_minor": 2
}
