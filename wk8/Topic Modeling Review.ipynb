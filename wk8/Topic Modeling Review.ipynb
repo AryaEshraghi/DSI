{
 "cells": [
  {
   "cell_type": "markdown",
   "metadata": {},
   "source": [
    "### Objectives\n",
    "\n",
    "- Brief Intro to MongoDB in python with pymongo\n",
    "- Utilize TFIDF with SVD - Singular Value Decomposition - to implement Latent Semantic Search\n",
    "- Implement Latend Dirchlet Allocation"
   ]
  },
  {
   "cell_type": "code",
   "execution_count": 1,
   "metadata": {},
   "outputs": [
    {
     "name": "stdout",
     "output_type": "stream",
     "text": [
      "Requirement already satisfied: pymongo in /Users/mark/anaconda/envs/dsi/lib/python3.6/site-packages (3.6.1)\n",
      "\u001b[31mthinc 6.10.2 requires pathlib<2.0.0,>=1.0.0, which is not installed.\u001b[0m\n",
      "\u001b[31mspacy 2.0.11 requires pathlib, which is not installed.\u001b[0m\n",
      "\u001b[31mmkl-random 1.0.1 requires cython, which is not installed.\u001b[0m\n",
      "\u001b[31mmkl-fft 1.0.0 requires cython, which is not installed.\u001b[0m\n",
      "\u001b[31mspacy 2.0.11 has requirement regex==2017.4.5, but you'll have regex 2017.11.9 which is incompatible.\u001b[0m\n",
      "\u001b[31mipywidgets 7.1.0 has requirement widgetsnbextension~=3.1.0, but you'll have widgetsnbextension 3.0.2 which is incompatible.\u001b[0m\n"
     ]
    }
   ],
   "source": [
    "!pip install pymongo"
   ]
  },
  {
   "cell_type": "code",
   "execution_count": 1,
   "metadata": {},
   "outputs": [],
   "source": [
    "import matplotlib.pyplot as plt\n",
    "import numpy as np\n",
    "import pandas as pd\n",
    "import seaborn as sns\n",
    "import pymongo \n",
    "import re\n",
    "from sklearn.feature_extraction.text import TfidfVectorizer\n",
    "from sklearn.decomposition import TruncatedSVD\n",
    "%matplotlib inline"
   ]
  },
  {
   "cell_type": "code",
   "execution_count": 10,
   "metadata": {},
   "outputs": [],
   "source": [
    "cli = pymongo.MongoClient('54.202.16.122', 27016)"
   ]
  },
  {
   "cell_type": "code",
   "execution_count": 11,
   "metadata": {},
   "outputs": [
    {
     "data": {
      "text/plain": [
       "['admin', 'local', 'my_database', 'test', 'wikipedia']"
      ]
     },
     "execution_count": 11,
     "metadata": {},
     "output_type": "execute_result"
    }
   ],
   "source": [
    "cli.database_names()"
   ]
  },
  {
   "cell_type": "code",
   "execution_count": 12,
   "metadata": {},
   "outputs": [
    {
     "data": {
      "text/plain": [
       "['Machine Learning 2', 'Business Software 2']"
      ]
     },
     "execution_count": 12,
     "metadata": {},
     "output_type": "execute_result"
    }
   ],
   "source": [
    "cli.wikipedia.collection_names()"
   ]
  },
  {
   "cell_type": "code",
   "execution_count": 29,
   "metadata": {},
   "outputs": [],
   "source": [
    "wikidb = cli.wikipedia"
   ]
  },
  {
   "cell_type": "code",
   "execution_count": 30,
   "metadata": {},
   "outputs": [],
   "source": [
    "def get_list_pages(col_name, ip='54.202.16.122'):\n",
    "    cli = pymongo.MongoClient(ip, 27016)\n",
    "    wikidb = cli.wikipedia\n",
    "    col_pages = wikidb.get_collection(col_name)\n",
    "    \n",
    "    cursor = col_pages.find()\n",
    "    \n",
    "    text_list = []\n",
    "    for entry in list(cursor):\n",
    "        text_list.append(entry)\n",
    "    return(text_list)"
   ]
  },
  {
   "cell_type": "code",
   "execution_count": 31,
   "metadata": {},
   "outputs": [
    {
     "data": {
      "text/html": [
       "<div>\n",
       "<style scoped>\n",
       "    .dataframe tbody tr th:only-of-type {\n",
       "        vertical-align: middle;\n",
       "    }\n",
       "\n",
       "    .dataframe tbody tr th {\n",
       "        vertical-align: top;\n",
       "    }\n",
       "\n",
       "    .dataframe thead th {\n",
       "        text-align: right;\n",
       "    }\n",
       "</style>\n",
       "<table border=\"1\" class=\"dataframe\">\n",
       "  <thead>\n",
       "    <tr style=\"text-align: right;\">\n",
       "      <th></th>\n",
       "      <th>Category</th>\n",
       "      <th>_id</th>\n",
       "      <th>categories</th>\n",
       "      <th>page_id</th>\n",
       "      <th>text</th>\n",
       "      <th>title</th>\n",
       "    </tr>\n",
       "  </thead>\n",
       "  <tbody>\n",
       "    <tr>\n",
       "      <th>0</th>\n",
       "      <td>Machine Learning</td>\n",
       "      <td>5a14b44b8423e10105ebeeac</td>\n",
       "      <td>[Category:Artificial intelligence, Category:Ar...</td>\n",
       "      <td>9583985</td>\n",
       "      <td>A '''committee machine''' is a type of [[artif...</td>\n",
       "      <td>Committee machine</td>\n",
       "    </tr>\n",
       "  </tbody>\n",
       "</table>\n",
       "</div>"
      ],
      "text/plain": [
       "           Category                       _id  \\\n",
       "0  Machine Learning  5a14b44b8423e10105ebeeac   \n",
       "\n",
       "                                          categories  page_id  \\\n",
       "0  [Category:Artificial intelligence, Category:Ar...  9583985   \n",
       "\n",
       "                                                text              title  \n",
       "0  A '''committee machine''' is a type of [[artif...  Committee machine  "
      ]
     },
     "execution_count": 31,
     "metadata": {},
     "output_type": "execute_result"
    }
   ],
   "source": [
    "ml_df = pd.DataFrame(get_list_pages('Machine Learning 2'))\n",
    "ml_df[:1]"
   ]
  },
  {
   "cell_type": "code",
   "execution_count": 32,
   "metadata": {},
   "outputs": [
    {
     "data": {
      "text/html": [
       "<div>\n",
       "<style scoped>\n",
       "    .dataframe tbody tr th:only-of-type {\n",
       "        vertical-align: middle;\n",
       "    }\n",
       "\n",
       "    .dataframe tbody tr th {\n",
       "        vertical-align: top;\n",
       "    }\n",
       "\n",
       "    .dataframe thead th {\n",
       "        text-align: right;\n",
       "    }\n",
       "</style>\n",
       "<table border=\"1\" class=\"dataframe\">\n",
       "  <thead>\n",
       "    <tr style=\"text-align: right;\">\n",
       "      <th></th>\n",
       "      <th>Category</th>\n",
       "      <th>_id</th>\n",
       "      <th>categories</th>\n",
       "      <th>page_id</th>\n",
       "      <th>text</th>\n",
       "      <th>title</th>\n",
       "    </tr>\n",
       "  </thead>\n",
       "  <tbody>\n",
       "    <tr>\n",
       "      <th>0</th>\n",
       "      <td>Business Software</td>\n",
       "      <td>5a14b4c08423e10105ebf234</td>\n",
       "      <td>[Category:All orphaned articles, Category:Busi...</td>\n",
       "      <td>32797209</td>\n",
       "      <td>{{multiple issues|\\n{{COI|date=September 2011}...</td>\n",
       "      <td>BRFplus</td>\n",
       "    </tr>\n",
       "    <tr>\n",
       "      <th>1</th>\n",
       "      <td>Business Software</td>\n",
       "      <td>5a14b4c08423e10105ebf235</td>\n",
       "      <td>[Category:Emergency management software, Categ...</td>\n",
       "      <td>39584994</td>\n",
       "      <td>{{Infobox software\\n| name = '''NHS Pathways''...</td>\n",
       "      <td>NHS Pathways</td>\n",
       "    </tr>\n",
       "    <tr>\n",
       "      <th>2</th>\n",
       "      <td>Business Software</td>\n",
       "      <td>5a14b4c08423e10105ebf236</td>\n",
       "      <td>[Category:2002 video games, Category:All artic...</td>\n",
       "      <td>9101010</td>\n",
       "      <td>{{unreferenced|date=June 2015}}\\n{{Infobox vid...</td>\n",
       "      <td>Industry Giant II</td>\n",
       "    </tr>\n",
       "    <tr>\n",
       "      <th>3</th>\n",
       "      <td>Business Software</td>\n",
       "      <td>5a14b4c08423e10105ebf237</td>\n",
       "      <td>[Category:Business software companies, Categor...</td>\n",
       "      <td>32094284</td>\n",
       "      <td>\\n{{Infobox company\\n| name             = Phor...</td>\n",
       "      <td>Phorest</td>\n",
       "    </tr>\n",
       "    <tr>\n",
       "      <th>4</th>\n",
       "      <td>Business Software</td>\n",
       "      <td>5a14b4c08423e10105ebf238</td>\n",
       "      <td>[Category:Business software companies, Categor...</td>\n",
       "      <td>42590340</td>\n",
       "      <td>{{Infobox company\\n| name     = ObjectSecurity...</td>\n",
       "      <td>ObjectSecurity</td>\n",
       "    </tr>\n",
       "  </tbody>\n",
       "</table>\n",
       "</div>"
      ],
      "text/plain": [
       "            Category                       _id  \\\n",
       "0  Business Software  5a14b4c08423e10105ebf234   \n",
       "1  Business Software  5a14b4c08423e10105ebf235   \n",
       "2  Business Software  5a14b4c08423e10105ebf236   \n",
       "3  Business Software  5a14b4c08423e10105ebf237   \n",
       "4  Business Software  5a14b4c08423e10105ebf238   \n",
       "\n",
       "                                          categories   page_id  \\\n",
       "0  [Category:All orphaned articles, Category:Busi...  32797209   \n",
       "1  [Category:Emergency management software, Categ...  39584994   \n",
       "2  [Category:2002 video games, Category:All artic...   9101010   \n",
       "3  [Category:Business software companies, Categor...  32094284   \n",
       "4  [Category:Business software companies, Categor...  42590340   \n",
       "\n",
       "                                                text              title  \n",
       "0  {{multiple issues|\\n{{COI|date=September 2011}...            BRFplus  \n",
       "1  {{Infobox software\\n| name = '''NHS Pathways''...       NHS Pathways  \n",
       "2  {{unreferenced|date=June 2015}}\\n{{Infobox vid...  Industry Giant II  \n",
       "3  \\n{{Infobox company\\n| name             = Phor...            Phorest  \n",
       "4  {{Infobox company\\n| name     = ObjectSecurity...     ObjectSecurity  "
      ]
     },
     "execution_count": 32,
     "metadata": {},
     "output_type": "execute_result"
    }
   ],
   "source": [
    "bizsoft_df = pd.DataFrame(get_list_pages('Business Software 2'))\n",
    "bizsoft_df.head()"
   ]
  },
  {
   "cell_type": "code",
   "execution_count": 33,
   "metadata": {},
   "outputs": [],
   "source": [
    "wiki_df = pd.concat([ml_df, bizsoft_df], axis=0)"
   ]
  },
  {
   "cell_type": "code",
   "execution_count": 34,
   "metadata": {},
   "outputs": [
    {
     "data": {
      "text/html": [
       "<div>\n",
       "<style scoped>\n",
       "    .dataframe tbody tr th:only-of-type {\n",
       "        vertical-align: middle;\n",
       "    }\n",
       "\n",
       "    .dataframe tbody tr th {\n",
       "        vertical-align: top;\n",
       "    }\n",
       "\n",
       "    .dataframe thead th {\n",
       "        text-align: right;\n",
       "    }\n",
       "</style>\n",
       "<table border=\"1\" class=\"dataframe\">\n",
       "  <thead>\n",
       "    <tr style=\"text-align: right;\">\n",
       "      <th></th>\n",
       "      <th>Category</th>\n",
       "      <th>_id</th>\n",
       "      <th>categories</th>\n",
       "      <th>page_id</th>\n",
       "      <th>text</th>\n",
       "      <th>title</th>\n",
       "    </tr>\n",
       "  </thead>\n",
       "  <tbody>\n",
       "    <tr>\n",
       "      <th>0</th>\n",
       "      <td>Machine Learning</td>\n",
       "      <td>5a14b44b8423e10105ebeeac</td>\n",
       "      <td>[Category:Artificial intelligence, Category:Ar...</td>\n",
       "      <td>9583985</td>\n",
       "      <td>A '''committee machine''' is a type of [[artif...</td>\n",
       "      <td>Committee machine</td>\n",
       "    </tr>\n",
       "    <tr>\n",
       "      <th>1</th>\n",
       "      <td>Machine Learning</td>\n",
       "      <td>5a14b44b8423e10105ebeead</td>\n",
       "      <td>[Category:Algorithmic trading, Category:Machin...</td>\n",
       "      <td>37787103</td>\n",
       "      <td>The '''universal portfolio algorithm''' is a p...</td>\n",
       "      <td>Universal portfolio algorithm</td>\n",
       "    </tr>\n",
       "    <tr>\n",
       "      <th>2</th>\n",
       "      <td>Machine Learning</td>\n",
       "      <td>5a14b44b8423e10105ebeeae</td>\n",
       "      <td>[Category:All articles with dead external link...</td>\n",
       "      <td>8220913</td>\n",
       "      <td>{{About|the neural network|other uses|Adaline ...</td>\n",
       "      <td>ADALINE</td>\n",
       "    </tr>\n",
       "    <tr>\n",
       "      <th>3</th>\n",
       "      <td>Machine Learning</td>\n",
       "      <td>5a14b44b8423e10105ebeeaf</td>\n",
       "      <td>[Category:All stub articles, Category:Artifici...</td>\n",
       "      <td>2070605</td>\n",
       "      <td>'''Stochastic neural networks''' are a type of...</td>\n",
       "      <td>Stochastic neural network</td>\n",
       "    </tr>\n",
       "    <tr>\n",
       "      <th>4</th>\n",
       "      <td>Machine Learning</td>\n",
       "      <td>5a14b44b8423e10105ebeeb0</td>\n",
       "      <td>[Category:Data mining and machine learning sof...</td>\n",
       "      <td>32867182</td>\n",
       "      <td>{{Infobox software\\n| name                   =...</td>\n",
       "      <td>Waffles (machine learning)</td>\n",
       "    </tr>\n",
       "  </tbody>\n",
       "</table>\n",
       "</div>"
      ],
      "text/plain": [
       "           Category                       _id  \\\n",
       "0  Machine Learning  5a14b44b8423e10105ebeeac   \n",
       "1  Machine Learning  5a14b44b8423e10105ebeead   \n",
       "2  Machine Learning  5a14b44b8423e10105ebeeae   \n",
       "3  Machine Learning  5a14b44b8423e10105ebeeaf   \n",
       "4  Machine Learning  5a14b44b8423e10105ebeeb0   \n",
       "\n",
       "                                          categories   page_id  \\\n",
       "0  [Category:Artificial intelligence, Category:Ar...   9583985   \n",
       "1  [Category:Algorithmic trading, Category:Machin...  37787103   \n",
       "2  [Category:All articles with dead external link...   8220913   \n",
       "3  [Category:All stub articles, Category:Artifici...   2070605   \n",
       "4  [Category:Data mining and machine learning sof...  32867182   \n",
       "\n",
       "                                                text  \\\n",
       "0  A '''committee machine''' is a type of [[artif...   \n",
       "1  The '''universal portfolio algorithm''' is a p...   \n",
       "2  {{About|the neural network|other uses|Adaline ...   \n",
       "3  '''Stochastic neural networks''' are a type of...   \n",
       "4  {{Infobox software\\n| name                   =...   \n",
       "\n",
       "                           title  \n",
       "0              Committee machine  \n",
       "1  Universal portfolio algorithm  \n",
       "2                        ADALINE  \n",
       "3      Stochastic neural network  \n",
       "4     Waffles (machine learning)  "
      ]
     },
     "execution_count": 34,
     "metadata": {},
     "output_type": "execute_result"
    }
   ],
   "source": [
    "wiki_df.head()"
   ]
  },
  {
   "cell_type": "code",
   "execution_count": 35,
   "metadata": {},
   "outputs": [],
   "source": [
    "def cleaner(text):\n",
    "    text = re.sub('&#39;','',text).lower()\n",
    "    text = re.sub('<br />','',text)\n",
    "    text = re.sub('<.*>.*</.*>','', text)\n",
    "    text = re.sub('\\\\ufeff', '', text)\n",
    "    text = re.sub('[\\d]','',text)\n",
    "    text = re.sub('[^a-z ]','',text)\n",
    "    \n",
    "    return text"
   ]
  },
  {
   "cell_type": "code",
   "execution_count": 36,
   "metadata": {},
   "outputs": [],
   "source": [
    "wiki_df['text'] = wiki_df['text'].map(str)\n",
    "wiki_df['text'] = wiki_df['text'].apply(cleaner)"
   ]
  },
  {
   "cell_type": "code",
   "execution_count": 37,
   "metadata": {},
   "outputs": [
    {
     "data": {
      "text/plain": [
       "'the universal portfolio algorithm is a portfolio selection algorithm from the field of machine learning and information theory the algorithm learns adaptively from historical data and maximizes the logoptimal growth rate in the long run it was introduced by the late stanford university information theorist thomas m coverrefcite journal  urlhttponlinelibrarywileycomdoijtbxabstract  titleuniversal portfolios  firstthomas mlastcover  journalmathematical finance  volume  issue  pages  year  doijtbxrefthe algorithm rebalances the portfolio at the beginning of each trading period at the beginning of the first trading period it starts with a naive diversification in the following trading periods the portfolio composition depends on the historical total return of all possible constantrebalanced portfoliosreferencesreflistcategorymachine learningcategoryalgorithmic tradingcategoryportfolio theories'"
      ]
     },
     "execution_count": 37,
     "metadata": {},
     "output_type": "execute_result"
    }
   ],
   "source": [
    "wiki_df['text'].iloc[1]"
   ]
  },
  {
   "cell_type": "code",
   "execution_count": null,
   "metadata": {},
   "outputs": [],
   "source": []
  },
  {
   "cell_type": "code",
   "execution_count": 38,
   "metadata": {},
   "outputs": [],
   "source": [
    "tfidif_vector = TfidfVectorizer(min_df = 5, stop_words='english')"
   ]
  },
  {
   "cell_type": "code",
   "execution_count": 39,
   "metadata": {},
   "outputs": [
    {
     "data": {
      "text/plain": [
       "<2296x12143 sparse matrix of type '<class 'numpy.float64'>'\n",
       "\twith 449638 stored elements in Compressed Sparse Row format>"
      ]
     },
     "execution_count": 39,
     "metadata": {},
     "output_type": "execute_result"
    }
   ],
   "source": [
    "wiki_pages_matrix_sparse = tfidif_vector.fit_transform(wiki_df['text'])\n",
    "wiki_pages_matrix_sparse"
   ]
  },
  {
   "cell_type": "code",
   "execution_count": 41,
   "metadata": {},
   "outputs": [],
   "source": [
    "wiki_pages_df_tfdf = pd.DataFrame(wiki_pages_matrix_sparse.toarray(),\n",
    "                                  index = wiki_df.index,\n",
    "                                  columns = tfidif_vector.get_feature_names())"
   ]
  },
  {
   "cell_type": "code",
   "execution_count": 42,
   "metadata": {},
   "outputs": [
    {
     "data": {
      "text/html": [
       "<div>\n",
       "<style scoped>\n",
       "    .dataframe tbody tr th:only-of-type {\n",
       "        vertical-align: middle;\n",
       "    }\n",
       "\n",
       "    .dataframe tbody tr th {\n",
       "        vertical-align: top;\n",
       "    }\n",
       "\n",
       "    .dataframe thead th {\n",
       "        text-align: right;\n",
       "    }\n",
       "</style>\n",
       "<table border=\"1\" class=\"dataframe\">\n",
       "  <thead>\n",
       "    <tr style=\"text-align: right;\">\n",
       "      <th></th>\n",
       "      <th>aa</th>\n",
       "      <th>aaai</th>\n",
       "      <th>aalst</th>\n",
       "      <th>aaron</th>\n",
       "      <th>ab</th>\n",
       "      <th>abacus</th>\n",
       "      <th>abandoned</th>\n",
       "      <th>abbreviated</th>\n",
       "      <th>abbreviation</th>\n",
       "      <th>abbreviations</th>\n",
       "      <th>...</th>\n",
       "      <th>zoho</th>\n",
       "      <th>zone</th>\n",
       "      <th>zones</th>\n",
       "      <th>zoo</th>\n",
       "      <th>zoom</th>\n",
       "      <th>zos</th>\n",
       "      <th>zoubin</th>\n",
       "      <th>zur</th>\n",
       "      <th>zurich</th>\n",
       "      <th>zx</th>\n",
       "    </tr>\n",
       "  </thead>\n",
       "  <tbody>\n",
       "    <tr>\n",
       "      <th>0</th>\n",
       "      <td>0.0</td>\n",
       "      <td>0.0</td>\n",
       "      <td>0.0</td>\n",
       "      <td>0.0</td>\n",
       "      <td>0.0</td>\n",
       "      <td>0.0</td>\n",
       "      <td>0.0</td>\n",
       "      <td>0.0</td>\n",
       "      <td>0.0</td>\n",
       "      <td>0.0</td>\n",
       "      <td>...</td>\n",
       "      <td>0.0</td>\n",
       "      <td>0.0</td>\n",
       "      <td>0.0</td>\n",
       "      <td>0.0</td>\n",
       "      <td>0.0</td>\n",
       "      <td>0.0</td>\n",
       "      <td>0.0</td>\n",
       "      <td>0.0</td>\n",
       "      <td>0.0</td>\n",
       "      <td>0.0</td>\n",
       "    </tr>\n",
       "    <tr>\n",
       "      <th>1</th>\n",
       "      <td>0.0</td>\n",
       "      <td>0.0</td>\n",
       "      <td>0.0</td>\n",
       "      <td>0.0</td>\n",
       "      <td>0.0</td>\n",
       "      <td>0.0</td>\n",
       "      <td>0.0</td>\n",
       "      <td>0.0</td>\n",
       "      <td>0.0</td>\n",
       "      <td>0.0</td>\n",
       "      <td>...</td>\n",
       "      <td>0.0</td>\n",
       "      <td>0.0</td>\n",
       "      <td>0.0</td>\n",
       "      <td>0.0</td>\n",
       "      <td>0.0</td>\n",
       "      <td>0.0</td>\n",
       "      <td>0.0</td>\n",
       "      <td>0.0</td>\n",
       "      <td>0.0</td>\n",
       "      <td>0.0</td>\n",
       "    </tr>\n",
       "    <tr>\n",
       "      <th>2</th>\n",
       "      <td>0.0</td>\n",
       "      <td>0.0</td>\n",
       "      <td>0.0</td>\n",
       "      <td>0.0</td>\n",
       "      <td>0.0</td>\n",
       "      <td>0.0</td>\n",
       "      <td>0.0</td>\n",
       "      <td>0.0</td>\n",
       "      <td>0.0</td>\n",
       "      <td>0.0</td>\n",
       "      <td>...</td>\n",
       "      <td>0.0</td>\n",
       "      <td>0.0</td>\n",
       "      <td>0.0</td>\n",
       "      <td>0.0</td>\n",
       "      <td>0.0</td>\n",
       "      <td>0.0</td>\n",
       "      <td>0.0</td>\n",
       "      <td>0.0</td>\n",
       "      <td>0.0</td>\n",
       "      <td>0.0</td>\n",
       "    </tr>\n",
       "    <tr>\n",
       "      <th>3</th>\n",
       "      <td>0.0</td>\n",
       "      <td>0.0</td>\n",
       "      <td>0.0</td>\n",
       "      <td>0.0</td>\n",
       "      <td>0.0</td>\n",
       "      <td>0.0</td>\n",
       "      <td>0.0</td>\n",
       "      <td>0.0</td>\n",
       "      <td>0.0</td>\n",
       "      <td>0.0</td>\n",
       "      <td>...</td>\n",
       "      <td>0.0</td>\n",
       "      <td>0.0</td>\n",
       "      <td>0.0</td>\n",
       "      <td>0.0</td>\n",
       "      <td>0.0</td>\n",
       "      <td>0.0</td>\n",
       "      <td>0.0</td>\n",
       "      <td>0.0</td>\n",
       "      <td>0.0</td>\n",
       "      <td>0.0</td>\n",
       "    </tr>\n",
       "    <tr>\n",
       "      <th>4</th>\n",
       "      <td>0.0</td>\n",
       "      <td>0.0</td>\n",
       "      <td>0.0</td>\n",
       "      <td>0.0</td>\n",
       "      <td>0.0</td>\n",
       "      <td>0.0</td>\n",
       "      <td>0.0</td>\n",
       "      <td>0.0</td>\n",
       "      <td>0.0</td>\n",
       "      <td>0.0</td>\n",
       "      <td>...</td>\n",
       "      <td>0.0</td>\n",
       "      <td>0.0</td>\n",
       "      <td>0.0</td>\n",
       "      <td>0.0</td>\n",
       "      <td>0.0</td>\n",
       "      <td>0.0</td>\n",
       "      <td>0.0</td>\n",
       "      <td>0.0</td>\n",
       "      <td>0.0</td>\n",
       "      <td>0.0</td>\n",
       "    </tr>\n",
       "  </tbody>\n",
       "</table>\n",
       "<p>5 rows × 12143 columns</p>\n",
       "</div>"
      ],
      "text/plain": [
       "    aa  aaai  aalst  aaron   ab  abacus  abandoned  abbreviated  abbreviation  \\\n",
       "0  0.0   0.0    0.0    0.0  0.0     0.0        0.0          0.0           0.0   \n",
       "1  0.0   0.0    0.0    0.0  0.0     0.0        0.0          0.0           0.0   \n",
       "2  0.0   0.0    0.0    0.0  0.0     0.0        0.0          0.0           0.0   \n",
       "3  0.0   0.0    0.0    0.0  0.0     0.0        0.0          0.0           0.0   \n",
       "4  0.0   0.0    0.0    0.0  0.0     0.0        0.0          0.0           0.0   \n",
       "\n",
       "   abbreviations ...   zoho  zone  zones  zoo  zoom  zos  zoubin  zur  zurich  \\\n",
       "0            0.0 ...    0.0   0.0    0.0  0.0   0.0  0.0     0.0  0.0     0.0   \n",
       "1            0.0 ...    0.0   0.0    0.0  0.0   0.0  0.0     0.0  0.0     0.0   \n",
       "2            0.0 ...    0.0   0.0    0.0  0.0   0.0  0.0     0.0  0.0     0.0   \n",
       "3            0.0 ...    0.0   0.0    0.0  0.0   0.0  0.0     0.0  0.0     0.0   \n",
       "4            0.0 ...    0.0   0.0    0.0  0.0   0.0  0.0     0.0  0.0     0.0   \n",
       "\n",
       "    zx  \n",
       "0  0.0  \n",
       "1  0.0  \n",
       "2  0.0  \n",
       "3  0.0  \n",
       "4  0.0  \n",
       "\n",
       "[5 rows x 12143 columns]"
      ]
     },
     "execution_count": 42,
     "metadata": {},
     "output_type": "execute_result"
    }
   ],
   "source": [
    "wiki_pages_df_tfdf.head()"
   ]
  },
  {
   "cell_type": "code",
   "execution_count": 43,
   "metadata": {},
   "outputs": [],
   "source": [
    "n_components = 100\n",
    "SVD = TruncatedSVD(n_components)\n",
    "component_names = ['component_' + str(i) for i in range(n_components)]"
   ]
  },
  {
   "cell_type": "code",
   "execution_count": 44,
   "metadata": {},
   "outputs": [
    {
     "data": {
      "text/plain": [
       "array([[ 7.51758446e-02,  1.11286901e-01,  2.34817646e-03, ...,\n",
       "        -1.11538713e-02, -1.97799844e-02, -6.09279517e-02],\n",
       "       [ 1.10386761e-01,  1.18631511e-01,  1.53684463e-04, ...,\n",
       "         4.16306891e-03, -2.85932059e-02,  2.28807921e-02],\n",
       "       [ 1.60841511e-01,  2.96246648e-01, -5.06564991e-04, ...,\n",
       "         2.24719128e-02, -1.46926411e-02,  2.71341969e-02],\n",
       "       ...,\n",
       "       [ 2.53373018e-01, -6.47309271e-02,  3.87804186e-02, ...,\n",
       "        -1.05548918e-02, -6.99394301e-03,  5.76261292e-02],\n",
       "       [ 1.16079353e-01, -3.19340695e-02, -5.24356469e-02, ...,\n",
       "         3.21583258e-02, -3.15847901e-02,  2.78358575e-02],\n",
       "       [ 2.09529616e-01, -5.71150431e-02,  3.97719171e-01, ...,\n",
       "        -6.50617066e-03, -1.88342216e-02, -5.97654778e-02]])"
      ]
     },
     "execution_count": 44,
     "metadata": {},
     "output_type": "execute_result"
    }
   ],
   "source": [
    "wiki_svd_matrix = SVD.fit_transform(wiki_pages_df_tfdf)\n",
    "wiki_svd_matrix"
   ]
  },
  {
   "cell_type": "code",
   "execution_count": 46,
   "metadata": {},
   "outputs": [
    {
     "data": {
      "text/plain": [
       "(2296, 100)"
      ]
     },
     "execution_count": 46,
     "metadata": {},
     "output_type": "execute_result"
    }
   ],
   "source": [
    "wiki_svd_matrix.shape"
   ]
  },
  {
   "cell_type": "code",
   "execution_count": 49,
   "metadata": {},
   "outputs": [],
   "source": [
    "search_term = 'Artificial Intelligence'\n",
    "search_term_vec = tfidif_vector.transform([search_term])"
   ]
  },
  {
   "cell_type": "code",
   "execution_count": 50,
   "metadata": {},
   "outputs": [
    {
     "data": {
      "text/plain": [
       "<1x12143 sparse matrix of type '<class 'numpy.float64'>'\n",
       "\twith 2 stored elements in Compressed Sparse Row format>"
      ]
     },
     "execution_count": 50,
     "metadata": {},
     "output_type": "execute_result"
    }
   ],
   "source": [
    "search_term_vec"
   ]
  },
  {
   "cell_type": "code",
   "execution_count": 51,
   "metadata": {},
   "outputs": [],
   "source": [
    "search_term_svd = SVD.transform(search_term_vec)"
   ]
  },
  {
   "cell_type": "code",
   "execution_count": 52,
   "metadata": {},
   "outputs": [
    {
     "data": {
      "text/plain": [
       "array([[ 0.06273467,  0.08473824,  0.00596795, -0.04397423, -0.07190256,\n",
       "         0.18031957,  0.03783672, -0.13339734, -0.06885053, -0.00293547,\n",
       "        -0.00919125,  0.04777775, -0.03522506,  0.0284836 , -0.03807505,\n",
       "        -0.0585073 ,  0.0704974 ,  0.07445803,  0.02325281,  0.04112419,\n",
       "        -0.01232889, -0.06714794, -0.03924552,  0.00838057,  0.01209309,\n",
       "        -0.00701758, -0.013238  ,  0.05380962,  0.04096959, -0.09997561,\n",
       "        -0.0591631 , -0.02020825,  0.05967524, -0.01391657, -0.01190068,\n",
       "        -0.05477126, -0.06542732, -0.02310838, -0.01522233,  0.10012421,\n",
       "        -0.07792672,  0.17150863,  0.13956576,  0.01036835,  0.05137271,\n",
       "        -0.15928634, -0.18011845, -0.05656377,  0.08565318,  0.04656801,\n",
       "         0.10836968,  0.07390866, -0.00942073,  0.03089432, -0.02821143,\n",
       "         0.01162539, -0.02905168, -0.25988805, -0.07233992,  0.10415012,\n",
       "        -0.02577432, -0.0075142 ,  0.12153732, -0.04160252,  0.08156998,\n",
       "         0.00355035,  0.02846494,  0.06651899,  0.10053347,  0.06621569,\n",
       "        -0.0225892 , -0.02387276, -0.07937916, -0.01440662,  0.09229582,\n",
       "        -0.02419665,  0.0040653 ,  0.05879825, -0.02728478, -0.03030317,\n",
       "         0.00431003, -0.07226081, -0.02120292,  0.02309608,  0.02510216,\n",
       "         0.07827196,  0.0077175 ,  0.0447776 , -0.0107414 , -0.0295748 ,\n",
       "        -0.04703109,  0.09533894, -0.04005242, -0.01778484, -0.02162123,\n",
       "        -0.02609492, -0.01071537,  0.01370916,  0.00307955, -0.04620698]])"
      ]
     },
     "execution_count": 52,
     "metadata": {},
     "output_type": "execute_result"
    }
   ],
   "source": [
    "search_term_svd"
   ]
  },
  {
   "cell_type": "code",
   "execution_count": 53,
   "metadata": {},
   "outputs": [],
   "source": [
    "cosine_similarities = wiki_svd_matrix.dot(search_term_svd.T).ravel()"
   ]
  },
  {
   "cell_type": "code",
   "execution_count": 54,
   "metadata": {},
   "outputs": [
    {
     "data": {
      "text/plain": [
       "array([ 0.05573261, -0.00492982,  0.01494922, ...,  0.03182179,\n",
       "       -0.00856272, -0.00627889])"
      ]
     },
     "execution_count": 54,
     "metadata": {},
     "output_type": "execute_result"
    }
   ],
   "source": [
    "cosine_similarities"
   ]
  },
  {
   "cell_type": "code",
   "execution_count": 55,
   "metadata": {},
   "outputs": [
    {
     "data": {
      "text/plain": [
       "(2296,)"
      ]
     },
     "execution_count": 55,
     "metadata": {},
     "output_type": "execute_result"
    }
   ],
   "source": [
    "cosine_similarities.shape"
   ]
  },
  {
   "cell_type": "code",
   "execution_count": 56,
   "metadata": {},
   "outputs": [
    {
     "data": {
      "text/plain": [
       "array([884])"
      ]
     },
     "execution_count": 56,
     "metadata": {},
     "output_type": "execute_result"
    }
   ],
   "source": [
    "cosine_similarities.argsort()[:-2:-1]"
   ]
  },
  {
   "cell_type": "code",
   "execution_count": 57,
   "metadata": {},
   "outputs": [
    {
     "data": {
      "text/plain": [
       "Category                                       Machine Learning\n",
       "_id                                    5a14b44b8423e10105ebf220\n",
       "categories    [Category:Artificial intelligence conferences,...\n",
       "page_id                                                24714635\n",
       "text          redirect association for the advancement of ar...\n",
       "title                AAAI Conference on Artificial Intelligence\n",
       "Name: 884, dtype: object"
      ]
     },
     "execution_count": 57,
     "metadata": {},
     "output_type": "execute_result"
    }
   ],
   "source": [
    "wiki_df.iloc[884]"
   ]
  },
  {
   "cell_type": "markdown",
   "metadata": {},
   "source": [
    "### LDA"
   ]
  },
  {
   "cell_type": "code",
   "execution_count": 58,
   "metadata": {},
   "outputs": [],
   "source": [
    "from gensim import corpora, models\n",
    "from nltk.corpus import stopwords\n",
    "import pyLDAvis.gensim\n",
    "pyLDAvis.enable_notebook()"
   ]
  },
  {
   "cell_type": "code",
   "execution_count": 60,
   "metadata": {},
   "outputs": [],
   "source": [
    "def split_into_words(documents):\n",
    "    docs = []\n",
    "    for doc in documents:\n",
    "        text_processed = doc.split(' ')\n",
    "        text_processed = list(filter(lambda a: a != '', text_processed))\n",
    "        text_processed = [word.lower() for word in text_processed if word.lower() not in stopwords.words('english')]\n",
    "        docs.append(text_processed)\n",
    "    return docs"
   ]
  },
  {
   "cell_type": "code",
   "execution_count": 61,
   "metadata": {},
   "outputs": [],
   "source": [
    "texts = split_into_words(wiki_df['text'])"
   ]
  },
  {
   "cell_type": "code",
   "execution_count": null,
   "metadata": {},
   "outputs": [],
   "source": [
    "dictionary = corpora.Dictionary(texts)\n",
    "\n",
    "corpus = [dictionary.doc2bow(text) for text in texts]"
   ]
  },
  {
   "cell_type": "code",
   "execution_count": null,
   "metadata": {},
   "outputs": [],
   "source": [
    "ldamodel = models.ldamodel.LdaModel(corpus,\n",
    "                                    id2word = dictionary,\n",
    "                                    num_topics = 50,\n",
    "                                    passes = 5,\n",
    "                                    minimum_probability = 0.01)"
   ]
  },
  {
   "cell_type": "code",
   "execution_count": null,
   "metadata": {},
   "outputs": [],
   "source": [
    "pyLDAvis.gensim.prepare(ldamodel, corpus, dictionary)"
   ]
  },
  {
   "cell_type": "code",
   "execution_count": null,
   "metadata": {},
   "outputs": [],
   "source": []
  }
 ],
 "metadata": {
  "kernelspec": {
   "display_name": "Python 3",
   "language": "python",
   "name": "python3"
  },
  "language_info": {
   "codemirror_mode": {
    "name": "ipython",
    "version": 3
   },
   "file_extension": ".py",
   "mimetype": "text/x-python",
   "name": "python",
   "nbconvert_exporter": "python",
   "pygments_lexer": "ipython3",
   "version": "3.6.5"
  },
  "varInspector": {
   "cols": {
    "lenName": 16,
    "lenType": 16,
    "lenVar": 40
   },
   "kernels_config": {
    "python": {
     "delete_cmd_postfix": "",
     "delete_cmd_prefix": "del ",
     "library": "var_list.py",
     "varRefreshCmd": "print(var_dic_list())"
    },
    "r": {
     "delete_cmd_postfix": ") ",
     "delete_cmd_prefix": "rm(",
     "library": "var_list.r",
     "varRefreshCmd": "cat(var_dic_list()) "
    }
   },
   "types_to_exclude": [
    "module",
    "function",
    "builtin_function_or_method",
    "instance",
    "_Feature"
   ],
   "window_display": false
  }
 },
 "nbformat": 4,
 "nbformat_minor": 2
}
