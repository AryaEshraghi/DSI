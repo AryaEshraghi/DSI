{
 "cells": [
  {
   "cell_type": "markdown",
   "metadata": {},
   "source": [
    "<img src=\"http://imgur.com/1ZcRyrc.png\" style=\"float: left; margin: 20px; height: 55px\">\n",
    "\n",
    "# Spatial Data Lab\n",
    "\n",
    "_Authors: Matt Brems (DC)_"
   ]
  },
  {
   "cell_type": "markdown",
   "metadata": {},
   "source": [
    "## NYC Data Component\n",
    "You should consult the [Geopandas Practice Notbook](geopandas-practice.ipynb) before diving into this lab.\n",
    "\n",
    "In that notebook, you're introduced to the `GeoDataFrame` object from `geopandas`. A `GeoDataFrame` is just like a `DataFrame`, except it contains a `geometry` column that identifies each row as an object in space. A row can either represent a point in space (in which case the `geometry` column contains `Points`) or an area (in which case the `geometry` column contains `Polygons`). A `GeoDataFrame` can contain more than one column which contains spatial information, but only one column at a time can identify the unique geometry of an observation.\n",
    "\n",
    "Here, we'll practice some of the same functionality and concepts."
   ]
  },
  {
   "cell_type": "code",
   "execution_count": 1,
   "metadata": {
    "ExecuteTime": {
     "end_time": "2018-06-29T20:39:10.262384Z",
     "start_time": "2018-06-29T20:39:06.479274Z"
    }
   },
   "outputs": [
    {
     "ename": "ModuleNotFoundError",
     "evalue": "No module named 'geopandas'",
     "output_type": "error",
     "traceback": [
      "\u001b[0;31m---------------------------------------------------------------------------\u001b[0m",
      "\u001b[0;31mModuleNotFoundError\u001b[0m                       Traceback (most recent call last)",
      "\u001b[0;32m<ipython-input-1-ecdfea42b9da>\u001b[0m in \u001b[0;36m<module>\u001b[0;34m()\u001b[0m\n\u001b[1;32m      9\u001b[0m \u001b[0;34m\u001b[0m\u001b[0m\n\u001b[1;32m     10\u001b[0m \u001b[0;31m# geo stuff\u001b[0m\u001b[0;34m\u001b[0m\u001b[0;34m\u001b[0m\u001b[0m\n\u001b[0;32m---> 11\u001b[0;31m \u001b[0;32mimport\u001b[0m \u001b[0mgeopandas\u001b[0m \u001b[0;32mas\u001b[0m \u001b[0mgpd\u001b[0m\u001b[0;34m\u001b[0m\u001b[0m\n\u001b[0m\u001b[1;32m     12\u001b[0m \u001b[0;32mfrom\u001b[0m \u001b[0mshapely\u001b[0m\u001b[0;34m.\u001b[0m\u001b[0mgeometry\u001b[0m \u001b[0;32mimport\u001b[0m \u001b[0mPoint\u001b[0m\u001b[0;34m\u001b[0m\u001b[0m\n\u001b[1;32m     13\u001b[0m \u001b[0;31m# from ipyleaflet import (Map,\u001b[0m\u001b[0;34m\u001b[0m\u001b[0;34m\u001b[0m\u001b[0m\n",
      "\u001b[0;31mModuleNotFoundError\u001b[0m: No module named 'geopandas'"
     ]
    }
   ],
   "source": [
    "# basic stuff\n",
    "import os\n",
    "import pandas as pd\n",
    "import numpy as np\n",
    "from datetime import datetime\n",
    "from urllib.request import urlretrieve\n",
    "from zipfile import ZipFile\n",
    "import pysal\n",
    "\n",
    "# geo stuff\n",
    "import geopandas as gpd\n",
    "from shapely.geometry import Point\n",
    "# from ipyleaflet import (Map,\n",
    "#     Marker,\n",
    "#     TileLayer, ImageOverlay,\n",
    "#     Polyline, Polygon, Rectangle, Circle, CircleMarker,\n",
    "#     GeoJSON,\n",
    "#     DrawControl\n",
    "# )\n",
    "\n",
    "# plotting stuff\n",
    "%matplotlib inline\n",
    "import matplotlib.pyplot as plt\n",
    "import seaborn as sns\n",
    "plt.style.use('bmh')\n",
    "plt.rcParams['figure.figsize'] = (10.0, 10.0)\n",
    "\n",
    "# widget stuff\n",
    "from ipywidgets import interact, HTML, FloatSlider\n",
    "from IPython.display import clear_output, display\n",
    "\n",
    "# progress stuff\n",
    "from tqdm import tqdm_notebook, tqdm_pandas\n",
    "\n",
    "# turn warnings off\n",
    "import warnings\n",
    "warnings.filterwarnings('ignore')"
   ]
  },
  {
   "cell_type": "code",
   "execution_count": null,
   "metadata": {
    "ExecuteTime": {
     "end_time": "2018-06-29T20:39:13.427090Z",
     "start_time": "2018-06-29T20:39:10.267110Z"
    }
   },
   "outputs": [],
   "source": [
    "# from the Geopandas practice notebook:\n",
    "\n",
    "def get_nyc_shape_file(url, filename):\n",
    "\n",
    "    # download file\n",
    "    zipped = filename + '.zip'\n",
    "    urlretrieve('https://data.cityofnewyork.us/api/geospatial/tqmj-j8zm?method=export&format=Shapefile', zipped)\n",
    "    zipped = os.getcwd() + '/' + zipped\n",
    "\n",
    "    # unzip file\n",
    "    to_unzip = ZipFile(zipped, 'r')\n",
    "    unzipped = os.getcwd() + '/' + filename + '_unzipped'\n",
    "    to_unzip.extractall(unzipped)\n",
    "    to_unzip.close()\n",
    "\n",
    "    # get shape file\n",
    "    for file in os.listdir(unzipped):\n",
    "        if file.endswith(\".shp\"):\n",
    "            shape_file = unzipped + '/' + file\n",
    "\n",
    "    # return full file path\n",
    "    return shape_file\n",
    "\n",
    "# get shape file path\n",
    "shape_file_url = 'https://data.cityofnewyork.us/api/geospatial/tqmj-j8zm?method=export&format=Shapefile'\n",
    "shape_file_dir = 'nyc_boroughs'\n",
    "file_path = get_nyc_shape_file(shape_file_url,shape_file_dir)\n",
    "\n",
    "# read and view GeoDataFrame\n",
    "gdf = gpd.GeoDataFrame.from_file(file_path)\n",
    "gdf.head()"
   ]
  },
  {
   "cell_type": "markdown",
   "metadata": {},
   "source": [
    "#### To begin, return a `Series` containing the area of each NYC borough.\n",
    "\n",
    "Does it match the area we are given? What units do you think these columns are in?\n",
    "\n",
    "You will want to consult [the Geopandas docs](http://geopandas.org/reference.html) to familiarize yourself with the special attributes and methods of `GeoSeries` and `GeoDataFrame` objects."
   ]
  },
  {
   "cell_type": "code",
   "execution_count": 2,
   "metadata": {
    "ExecuteTime": {
     "end_time": "2018-06-29T20:25:00.741941Z",
     "start_time": "2018-06-29T20:24:59.742454Z"
    },
    "scrolled": true
   },
   "outputs": [
    {
     "ename": "NameError",
     "evalue": "name 'gdf' is not defined",
     "output_type": "error",
     "traceback": [
      "\u001b[0;31m---------------------------------------------------------------------------\u001b[0m",
      "\u001b[0;31mNameError\u001b[0m                                 Traceback (most recent call last)",
      "\u001b[0;32m<ipython-input-2-3cd534ab0c05>\u001b[0m in \u001b[0;36m<module>\u001b[0;34m()\u001b[0m\n\u001b[0;32m----> 1\u001b[0;31m \u001b[0marea\u001b[0m \u001b[0;34m=\u001b[0m \u001b[0mgdf\u001b[0m\u001b[0;34m.\u001b[0m\u001b[0marea\u001b[0m\u001b[0;34m\u001b[0m\u001b[0m\n\u001b[0m",
      "\u001b[0;31mNameError\u001b[0m: name 'gdf' is not defined"
     ]
    }
   ],
   "source": [
    "area = gdf.area"
   ]
  },
  {
   "cell_type": "markdown",
   "metadata": {},
   "source": [
    "#### Add a new column to the dataset containing the centroid of each borough.\n",
    "\n",
    "What type of object is this? What type of object does it contain?\n",
    "Can we make this the `geometry` column for this dataset?"
   ]
  },
  {
   "cell_type": "code",
   "execution_count": null,
   "metadata": {
    "ExecuteTime": {
     "end_time": "2018-06-29T20:25:02.252188Z",
     "start_time": "2018-06-29T20:25:01.222987Z"
    }
   },
   "outputs": [],
   "source": []
  },
  {
   "cell_type": "markdown",
   "metadata": {},
   "source": [
    "#### Now, plot the NYC boroughs, the convex hull for each borough, and the envelope for each borough.\n",
    "\n",
    "Hint: You can call `.plot` on a `GeoDataFrame`."
   ]
  },
  {
   "cell_type": "code",
   "execution_count": null,
   "metadata": {
    "ExecuteTime": {
     "end_time": "2018-06-29T20:25:03.406163Z",
     "start_time": "2018-06-29T20:25:02.785471Z"
    },
    "scrolled": true
   },
   "outputs": [],
   "source": []
  },
  {
   "cell_type": "code",
   "execution_count": null,
   "metadata": {
    "ExecuteTime": {
     "end_time": "2018-06-29T20:25:04.293261Z",
     "start_time": "2018-06-29T20:25:03.898291Z"
    }
   },
   "outputs": [],
   "source": []
  },
  {
   "cell_type": "code",
   "execution_count": null,
   "metadata": {
    "ExecuteTime": {
     "end_time": "2018-06-29T20:25:05.158044Z",
     "start_time": "2018-06-29T20:25:04.809705Z"
    },
    "scrolled": true
   },
   "outputs": [],
   "source": []
  },
  {
   "cell_type": "markdown",
   "metadata": {
    "ExecuteTime": {
     "end_time": "2018-06-29T16:22:21.788973Z",
     "start_time": "2018-06-29T16:22:21.783989Z"
    }
   },
   "source": [
    "#### Bonus: Plot the centroid of each borough on the map of each borough"
   ]
  },
  {
   "cell_type": "code",
   "execution_count": null,
   "metadata": {
    "ExecuteTime": {
     "end_time": "2018-06-29T20:25:06.207657Z",
     "start_time": "2018-06-29T20:25:05.615413Z"
    }
   },
   "outputs": [],
   "source": []
  },
  {
   "cell_type": "markdown",
   "metadata": {},
   "source": [
    "#### Generate 10,000 samples uniformly across the NYC map. \n",
    "\n",
    "Note, you're generating both a random X and a random Y in order to get a location on the NYC map, much like how you might estimate $\\pi$ using Monte Carlo simulations.\n",
    "\n",
    "Plot these points over the map of NYC."
   ]
  },
  {
   "cell_type": "code",
   "execution_count": null,
   "metadata": {
    "ExecuteTime": {
     "end_time": "2018-06-29T20:25:06.758697Z",
     "start_time": "2018-06-29T20:25:06.717885Z"
    }
   },
   "outputs": [],
   "source": []
  },
  {
   "cell_type": "code",
   "execution_count": null,
   "metadata": {
    "ExecuteTime": {
     "end_time": "2018-06-29T20:25:08.105487Z",
     "start_time": "2018-06-29T20:25:07.241459Z"
    }
   },
   "outputs": [],
   "source": []
  },
  {
   "cell_type": "markdown",
   "metadata": {},
   "source": [
    "#### Place points within boroughs\n",
    "A common geosptial task is to check whether a given point lies inside or outside of a certain area. In order to ease that calculation, convex hulls and envelopes are often used as approximations of the true shape of geographical areas.\n",
    "\n",
    "In this part, we'll check which (if any) each borough our simulated points fall into:\n",
    "\n",
    "- Whether or not each sample falls in the true geographic boroughs.\n",
    "- Whether or not each sample falls in the convex hulls of the boroughs.\n",
    "- Whether or not each sample falls in the envelopes of the boroughs.\n",
    "\n",
    "We'll need to use the `Point` object that we imported from `shapely` and the `.contains` method from Geopandas.\n",
    "\n",
    "At each step, use the `%%timeit` [magic command](https://ipython.readthedocs.io/en/stable/interactive/magics.html) to measure how long this process takes.\n",
    "\n",
    "Report these numbers, as well as how much more efficient (percentage-wise) envelopes and convex hulls are relative to the true geographies."
   ]
  },
  {
   "cell_type": "code",
   "execution_count": null,
   "metadata": {},
   "outputs": [],
   "source": []
  },
  {
   "cell_type": "code",
   "execution_count": null,
   "metadata": {},
   "outputs": [],
   "source": []
  },
  {
   "cell_type": "markdown",
   "metadata": {},
   "source": [
    "#### Generate metrics.  Summarize findings.\n",
    "\n",
    "Obviously there's a trade-off here. Check how many samples lie in the actual geographies, the convex hulls, and the envelopes.\n",
    "\n",
    "Report the following:\n",
    "\n",
    "- A confusion matrix comparing convex hulls and actual geographies. (i.e. actual geographies are the true counts; convex hulls are predicted counts)\n",
    "- A confusion matrix comparing envelopes and actual geographies.\n",
    "- The accuracy and sensitivity from each of the confusion matrices above. You should report a sensitivity value for each borough.\n",
    "- A paragraph summarizing your findings."
   ]
  },
  {
   "cell_type": "code",
   "execution_count": null,
   "metadata": {
    "ExecuteTime": {
     "start_time": "2018-06-29T20:27:07.596Z"
    }
   },
   "outputs": [],
   "source": []
  },
  {
   "cell_type": "code",
   "execution_count": null,
   "metadata": {},
   "outputs": [],
   "source": []
  },
  {
   "cell_type": "markdown",
   "metadata": {},
   "source": [
    "#### Perform a spatial join using your simulated data\n",
    "\n",
    "You should consider the [Geopandas docs](http://geopandas.readthedocs.io/en/latest/reference/geopandas.sjoin.html).\n",
    "\n",
    "Hint: You must use two `GeoDataFrame`s\n",
    "Hint: Use `crs= {'init' :'epsg:4326'}`\n",
    "\n",
    "##### First, use `sjoin` to label each simulated point according to its corresponding borough\n",
    "This should give the same results as above, when you used `.contains` to check and see which borough each point belonged to."
   ]
  },
  {
   "cell_type": "code",
   "execution_count": null,
   "metadata": {},
   "outputs": [],
   "source": []
  },
  {
   "cell_type": "markdown",
   "metadata": {},
   "source": [
    "##### Bonus: Use `sjoin` to count the number of points in each borough."
   ]
  },
  {
   "cell_type": "code",
   "execution_count": null,
   "metadata": {},
   "outputs": [],
   "source": []
  },
  {
   "cell_type": "markdown",
   "metadata": {},
   "source": [
    "#### Generate a map of NYC with each borough shaded based on the number of pick-ups that occur in each borough."
   ]
  },
  {
   "cell_type": "code",
   "execution_count": null,
   "metadata": {
    "ExecuteTime": {
     "end_time": "2018-06-29T20:39:13.437867Z",
     "start_time": "2018-06-29T20:39:13.430657Z"
    }
   },
   "outputs": [],
   "source": [
    "import pandas as pd"
   ]
  },
  {
   "cell_type": "code",
   "execution_count": null,
   "metadata": {
    "ExecuteTime": {
     "end_time": "2018-06-29T20:39:14.377810Z",
     "start_time": "2018-06-29T20:39:13.442789Z"
    }
   },
   "outputs": [],
   "source": [
    "## This will take awhile! Check out the data dictionary in the meantime: \n",
    "## http://www.nyc.gov/html/tlc/downloads/pdf/data_dictionary_trip_records_yellow.pdf\n",
    "\n",
    "taxi = pd.read_csv(\"https://s3.amazonaws.com/nyc-tlc/trip+data/yellow_tripdata_2015-09.csv\")"
   ]
  },
  {
   "cell_type": "code",
   "execution_count": null,
   "metadata": {
    "ExecuteTime": {
     "end_time": "2018-06-29T20:39:14.380999Z",
     "start_time": "2018-06-29T20:39:06.567Z"
    }
   },
   "outputs": [],
   "source": [
    "taxi.head()"
   ]
  },
  {
   "cell_type": "markdown",
   "metadata": {},
   "source": [
    "#### Suppose we want to forecast the number of pick-ups by borough. Would this process be described as areal, geostatistical, or point pattern?"
   ]
  },
  {
   "cell_type": "code",
   "execution_count": null,
   "metadata": {},
   "outputs": [],
   "source": []
  },
  {
   "cell_type": "markdown",
   "metadata": {},
   "source": [
    "#### Bonus: Build a widget that will put dots on the map for the location of each pick-up by date.\n",
    "Using the exact latitude and longitude will cause multiple dots to overlap; people often use a [random jitter](https://www.dataplusscience.com/TableauJitter.html) to help with this. While not required, consider random jitter as an extra bonus!"
   ]
  },
  {
   "cell_type": "code",
   "execution_count": null,
   "metadata": {},
   "outputs": [],
   "source": []
  },
  {
   "cell_type": "markdown",
   "metadata": {},
   "source": [
    "#### In order to predict the precise location of pick-ups, would this process be described as areal, geostatistical, or point pattern?"
   ]
  },
  {
   "cell_type": "code",
   "execution_count": null,
   "metadata": {
    "ExecuteTime": {
     "start_time": "2018-06-29T20:19:37.419Z"
    }
   },
   "outputs": [],
   "source": []
  }
 ],
 "metadata": {
  "kernelspec": {
   "display_name": "Python 3",
   "language": "python",
   "name": "python3"
  },
  "language_info": {
   "codemirror_mode": {
    "name": "ipython",
    "version": 3
   },
   "file_extension": ".py",
   "mimetype": "text/x-python",
   "name": "python",
   "nbconvert_exporter": "python",
   "pygments_lexer": "ipython3",
   "version": "3.6.5"
  },
  "toc": {
   "nav_menu": {},
   "number_sections": true,
   "sideBar": true,
   "skip_h1_title": false,
   "title_cell": "Table of Contents",
   "title_sidebar": "Contents",
   "toc_cell": false,
   "toc_position": {},
   "toc_section_display": true,
   "toc_window_display": false
  },
  "varInspector": {
   "cols": {
    "lenName": 16,
    "lenType": 16,
    "lenVar": 40
   },
   "kernels_config": {
    "python": {
     "delete_cmd_postfix": "",
     "delete_cmd_prefix": "del ",
     "library": "var_list.py",
     "varRefreshCmd": "print(var_dic_list())"
    },
    "r": {
     "delete_cmd_postfix": ") ",
     "delete_cmd_prefix": "rm(",
     "library": "var_list.r",
     "varRefreshCmd": "cat(var_dic_list()) "
    }
   },
   "types_to_exclude": [
    "module",
    "function",
    "builtin_function_or_method",
    "instance",
    "_Feature"
   ],
   "window_display": false
  }
 },
 "nbformat": 4,
 "nbformat_minor": 2
}
