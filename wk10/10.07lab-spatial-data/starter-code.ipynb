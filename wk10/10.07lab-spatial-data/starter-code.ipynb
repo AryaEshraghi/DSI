{
 "cells": [
  {
   "cell_type": "markdown",
   "metadata": {},
   "source": [
    "<img src=\"http://imgur.com/1ZcRyrc.png\" style=\"float: left; margin: 20px; height: 55px\">\n",
    "\n",
    "# Spatial Data Lab\n",
    "\n",
    "_Authors: Matt Brems (DC)_"
   ]
  },
  {
   "cell_type": "markdown",
   "metadata": {},
   "source": [
    "## NYC Data Component\n",
    "During the lesson, we looked at each borough of NYC, drew random samples, and assessed whether these samples fell inside each borough, the convex hull of each borough, or the envelope of each borough.\n",
    "\n",
    "\n",
    "#### 1. Generate 10,000 samples uniformly across the NYC map. \n",
    "\n",
    "Note, you're generating both a random X and a random Y in order to get a location on the NYC map, much like we did when we estimated $\\pi$ using Monte Carlo simulations. Also generate the convex hull and envelope of each borough."
   ]
  },
  {
   "cell_type": "code",
   "execution_count": null,
   "metadata": {
    "collapsed": true
   },
   "outputs": [],
   "source": []
  },
  {
   "cell_type": "markdown",
   "metadata": {},
   "source": [
    "#### 2.  Compare computational efficiency.\n",
    "In this part, we'll quantify efficiency. While timing your code, check how long it takes for your computer to check:\n",
    "\n",
    "- Whether or not each sample falls in the true geographic boroughs.\n",
    "- Whether or not each sample falls in the convex hulls of the boroughs.\n",
    "- Whether or not each sample falls in the envelopes of the boroughs.\n",
    "\n",
    "> Check the supplemental notebook on computational efficiency for commands for timing code, located in the current repo.\n",
    "\n",
    "Report these numbers, as well as how much more efficient (percentage-wise) envelopes and convex hulls are relative to the true geographies."
   ]
  },
  {
   "cell_type": "code",
   "execution_count": null,
   "metadata": {
    "collapsed": true
   },
   "outputs": [],
   "source": []
  },
  {
   "cell_type": "markdown",
   "metadata": {},
   "source": [
    "#### 3. Generate metrics.  Summarize findings.\n",
    "\n",
    "Obviously there's a trade-off here. Check how many samples lie in the actual geographies, the convex hulls, and the envelopes.\n",
    "\n",
    "Report the following:\n",
    "\n",
    "- A confusion matrix comparing convex hulls and actual geographies. (i.e. actual geographies are the true counts; convex hulls are predicted counts)\n",
    "- A confusion matrix comparing envelopes and actual geographies.\n",
    "- The accuracy, sensitivity, and specificity from each of the confusion matrices above.\n",
    "- A paragraph summarizing your findings."
   ]
  },
  {
   "cell_type": "code",
   "execution_count": null,
   "metadata": {
    "collapsed": true
   },
   "outputs": [],
   "source": []
  },
  {
   "cell_type": "markdown",
   "metadata": {},
   "source": [
    "#### 4. Generate a map of NYC with each borough shaded based on the number of pick-ups that occur in each borough."
   ]
  },
  {
   "cell_type": "code",
   "execution_count": null,
   "metadata": {
    "collapsed": true
   },
   "outputs": [],
   "source": [
    "import pandas as pd"
   ]
  },
  {
   "cell_type": "code",
   "execution_count": null,
   "metadata": {
    "collapsed": true
   },
   "outputs": [],
   "source": [
    "## This will take awhile! Check out the data dictionary in the meantime: \n",
    "## http://www.nyc.gov/html/tlc/downloads/pdf/data_dictionary_trip_records_yellow.pdf\n",
    "\n",
    "taxi = pd.read_csv(\"https://s3.amazonaws.com/nyc-tlc/trip+data/yellow_tripdata_2015-09.csv\")"
   ]
  },
  {
   "cell_type": "code",
   "execution_count": null,
   "metadata": {
    "collapsed": true
   },
   "outputs": [],
   "source": [
    "taxi.head()"
   ]
  },
  {
   "cell_type": "markdown",
   "metadata": {},
   "source": [
    "#### 4.1 Suppose we want to forecast the number of pick-ups by borough. Would this process be described as areal, geostatistical, or point pattern?"
   ]
  },
  {
   "cell_type": "code",
   "execution_count": null,
   "metadata": {
    "collapsed": true
   },
   "outputs": [],
   "source": []
  },
  {
   "cell_type": "markdown",
   "metadata": {},
   "source": [
    "#### 4.2 Build a widget that will put dots on the map for the location of each pick-up by date.\n",
    "Using the exact latitude and longitude will cause multiple dots to overlap; people often use a [random jitter](https://www.dataplusscience.com/TableauJitter.html) to help with this. While not required, consider random jitter as a bonus!"
   ]
  },
  {
   "cell_type": "code",
   "execution_count": null,
   "metadata": {
    "collapsed": true
   },
   "outputs": [],
   "source": []
  },
  {
   "cell_type": "markdown",
   "metadata": {},
   "source": [
    "#### 4.3 In order to predict the precise location of pick-ups, would this process be described as areal, geostatistical, or point pattern?"
   ]
  },
  {
   "cell_type": "code",
   "execution_count": null,
   "metadata": {
    "collapsed": true
   },
   "outputs": [],
   "source": []
  }
 ],
 "metadata": {
  "kernelspec": {
   "display_name": "Python [default]",
   "language": "python",
   "name": "python3"
  },
  "language_info": {
   "codemirror_mode": {
    "name": "ipython",
    "version": 3
   },
   "file_extension": ".py",
   "mimetype": "text/x-python",
   "name": "python",
   "nbconvert_exporter": "python",
   "pygments_lexer": "ipython3",
   "version": "3.6.5"
  }
 },
 "nbformat": 4,
 "nbformat_minor": 2
}
