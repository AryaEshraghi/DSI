{
 "cells": [
  {
   "cell_type": "markdown",
   "metadata": {},
   "source": [
    "<img src=\"http://imgur.com/1ZcRyrc.png\" style=\"float: left; margin: 20px; height: 55px\">\n",
    "\n",
    "# Bayesian Estimation with `pymc3`\n",
    "\n",
    "_Authors: Kiefer Katovich (SF)_\n",
    "\n",
    "---\n",
    "\n",
    "### Learning Objectives\n",
    "- Use pymc3 to fit Bayesian estimation models\n",
    "- Run the Bayesian alternative to a t-test using pymc3\n",
    "- Plot and interpret the results of pymc3 models\n"
   ]
  },
  {
   "cell_type": "markdown",
   "metadata": {},
   "source": [
    "### Lesson Guide\n",
    "- [Introduction](#intro)\n",
    "- [Enter `pymc3`](#pymc3)\n",
    "- [Load the Starcraft data](#data)\n",
    "- [Alternative to t-testing using Bayesian estimation](#ttest)\n",
    "    - [Get the APM values for 19 and 26 year olds](#load)\n",
    "    - [Perform a Frequentist t-test of the mean APM difference between groups.](#freq-ttest)\n",
    "    - [Set up a Bayesian model with priors on the mean APMs](#priors)\n",
    "    - [Construct the prior distributions on the means](#construct-priors)\n",
    "    - [Construct the prior distributions on the standard deviations](#std-priors)\n",
    "    - [Set up the APM distributions for the two groups](#apm-dists)\n",
    "    - [Tracking additional metrics](#metrics)\n",
    "    - [Fitting the `pymc3` model](#fit)\n",
    "    - [Plotting the posteriors and metric distributions](#plotting)\n",
    "- [Bayesian regression with `pymc3`](#reg)\n",
    "    - [Set up variables to perform an age vs. APM regression](#age-vs-apm)\n",
    "    - [Set up the Bayesian regression model](#bayes-model)\n",
    "    - [Plot the posteriors using `pm.traceplot`](#traceplot)\n",
    "- [Using a patsy-style formula to specify a `pymc3` model](#formula)"
   ]
  },
  {
   "cell_type": "markdown",
   "metadata": {},
   "source": [
    "<a id='intro'></a>\n",
    "## Introduction\n",
    "---\n",
    "\n",
    "With `pymc3` we can perform the Bayesian counterparts of Frequentist models we have studied. In this codealong lesson we will start incrementally: first by repeating the Beta-Binomial model from yesterday, then replacing the Frequentist t-test with Bayesian estimation and finally performing a Bayesian regression with a single predictor.\n"
   ]
  },
  {
   "cell_type": "code",
   "execution_count": 1,
   "metadata": {},
   "outputs": [],
   "source": [
    "import matplotlib.pyplot as plt\n",
    "import numpy as np\n",
    "import pandas as pd\n",
    "import seaborn as sns\n",
    "\n",
    "plt.style.use('fivethirtyeight')\n",
    "\n",
    "%matplotlib inline\n",
    "%config InlineBackend.figure_format = 'retina'"
   ]
  },
  {
   "cell_type": "markdown",
   "metadata": {},
   "source": [
    "<a id='data'></a>\n",
    "### Load the Starcraft dataset\n",
    "---\n",
    "\n",
    "You may be familiar with this dataset. It has records of different player statistics in competitive Starcraft. There are a variety of columns that are described in detail within the `description.txt` file contained inside the `./datasets/` folder.\n",
    "\n",
    "For the examples in this lab, I will be using APM (actions per minute) and Age, but I in the following lab you will get the chance to look at other variables as well."
   ]
  },
  {
   "cell_type": "code",
   "execution_count": 7,
   "metadata": {},
   "outputs": [],
   "source": [
    "star = pd.read_csv('../datasets/SkillCraft1_Dataset.csv')"
   ]
  },
  {
   "cell_type": "code",
   "execution_count": 8,
   "metadata": {},
   "outputs": [
    {
     "data": {
      "text/html": [
       "<div>\n",
       "<style>\n",
       "    .dataframe thead tr:only-child th {\n",
       "        text-align: right;\n",
       "    }\n",
       "\n",
       "    .dataframe thead th {\n",
       "        text-align: left;\n",
       "    }\n",
       "\n",
       "    .dataframe tbody tr th {\n",
       "        vertical-align: top;\n",
       "    }\n",
       "</style>\n",
       "<table border=\"1\" class=\"dataframe\">\n",
       "  <thead>\n",
       "    <tr style=\"text-align: right;\">\n",
       "      <th></th>\n",
       "      <th>GameID</th>\n",
       "      <th>LeagueIndex</th>\n",
       "      <th>Age</th>\n",
       "      <th>HoursPerWeek</th>\n",
       "      <th>TotalHours</th>\n",
       "      <th>APM</th>\n",
       "      <th>SelectByHotkeys</th>\n",
       "      <th>AssignToHotkeys</th>\n",
       "      <th>UniqueHotkeys</th>\n",
       "      <th>MinimapAttacks</th>\n",
       "      <th>MinimapRightClicks</th>\n",
       "      <th>NumberOfPACs</th>\n",
       "      <th>GapBetweenPACs</th>\n",
       "      <th>ActionLatency</th>\n",
       "      <th>ActionsInPAC</th>\n",
       "      <th>TotalMapExplored</th>\n",
       "      <th>WorkersMade</th>\n",
       "      <th>UniqueUnitsMade</th>\n",
       "      <th>ComplexUnitsMade</th>\n",
       "      <th>ComplexAbilitiesUsed</th>\n",
       "    </tr>\n",
       "  </thead>\n",
       "  <tbody>\n",
       "    <tr>\n",
       "      <th>0</th>\n",
       "      <td>52</td>\n",
       "      <td>5</td>\n",
       "      <td>27</td>\n",
       "      <td>10</td>\n",
       "      <td>3000</td>\n",
       "      <td>143.7180</td>\n",
       "      <td>0.003515</td>\n",
       "      <td>0.000220</td>\n",
       "      <td>7</td>\n",
       "      <td>0.000110</td>\n",
       "      <td>0.000392</td>\n",
       "      <td>0.004849</td>\n",
       "      <td>32.6677</td>\n",
       "      <td>40.8673</td>\n",
       "      <td>4.7508</td>\n",
       "      <td>28</td>\n",
       "      <td>0.001397</td>\n",
       "      <td>6</td>\n",
       "      <td>0.0</td>\n",
       "      <td>0.000000</td>\n",
       "    </tr>\n",
       "    <tr>\n",
       "      <th>1</th>\n",
       "      <td>55</td>\n",
       "      <td>5</td>\n",
       "      <td>23</td>\n",
       "      <td>10</td>\n",
       "      <td>5000</td>\n",
       "      <td>129.2322</td>\n",
       "      <td>0.003304</td>\n",
       "      <td>0.000259</td>\n",
       "      <td>4</td>\n",
       "      <td>0.000294</td>\n",
       "      <td>0.000432</td>\n",
       "      <td>0.004307</td>\n",
       "      <td>32.9194</td>\n",
       "      <td>42.3454</td>\n",
       "      <td>4.8434</td>\n",
       "      <td>22</td>\n",
       "      <td>0.001194</td>\n",
       "      <td>5</td>\n",
       "      <td>0.0</td>\n",
       "      <td>0.000208</td>\n",
       "    </tr>\n",
       "    <tr>\n",
       "      <th>2</th>\n",
       "      <td>56</td>\n",
       "      <td>4</td>\n",
       "      <td>30</td>\n",
       "      <td>10</td>\n",
       "      <td>200</td>\n",
       "      <td>69.9612</td>\n",
       "      <td>0.001101</td>\n",
       "      <td>0.000336</td>\n",
       "      <td>4</td>\n",
       "      <td>0.000294</td>\n",
       "      <td>0.000461</td>\n",
       "      <td>0.002926</td>\n",
       "      <td>44.6475</td>\n",
       "      <td>75.3548</td>\n",
       "      <td>4.0430</td>\n",
       "      <td>22</td>\n",
       "      <td>0.000745</td>\n",
       "      <td>6</td>\n",
       "      <td>0.0</td>\n",
       "      <td>0.000189</td>\n",
       "    </tr>\n",
       "    <tr>\n",
       "      <th>3</th>\n",
       "      <td>57</td>\n",
       "      <td>3</td>\n",
       "      <td>19</td>\n",
       "      <td>20</td>\n",
       "      <td>400</td>\n",
       "      <td>107.6016</td>\n",
       "      <td>0.001034</td>\n",
       "      <td>0.000213</td>\n",
       "      <td>1</td>\n",
       "      <td>0.000053</td>\n",
       "      <td>0.000543</td>\n",
       "      <td>0.003783</td>\n",
       "      <td>29.2203</td>\n",
       "      <td>53.7352</td>\n",
       "      <td>4.9155</td>\n",
       "      <td>19</td>\n",
       "      <td>0.000426</td>\n",
       "      <td>7</td>\n",
       "      <td>0.0</td>\n",
       "      <td>0.000384</td>\n",
       "    </tr>\n",
       "    <tr>\n",
       "      <th>4</th>\n",
       "      <td>58</td>\n",
       "      <td>3</td>\n",
       "      <td>32</td>\n",
       "      <td>10</td>\n",
       "      <td>500</td>\n",
       "      <td>122.8908</td>\n",
       "      <td>0.001136</td>\n",
       "      <td>0.000327</td>\n",
       "      <td>2</td>\n",
       "      <td>0.000000</td>\n",
       "      <td>0.001329</td>\n",
       "      <td>0.002368</td>\n",
       "      <td>22.6885</td>\n",
       "      <td>62.0813</td>\n",
       "      <td>9.3740</td>\n",
       "      <td>15</td>\n",
       "      <td>0.001174</td>\n",
       "      <td>4</td>\n",
       "      <td>0.0</td>\n",
       "      <td>0.000019</td>\n",
       "    </tr>\n",
       "  </tbody>\n",
       "</table>\n",
       "</div>"
      ],
      "text/plain": [
       "   GameID  LeagueIndex Age HoursPerWeek TotalHours       APM  SelectByHotkeys  \\\n",
       "0      52            5  27           10       3000  143.7180         0.003515   \n",
       "1      55            5  23           10       5000  129.2322         0.003304   \n",
       "2      56            4  30           10        200   69.9612         0.001101   \n",
       "3      57            3  19           20        400  107.6016         0.001034   \n",
       "4      58            3  32           10        500  122.8908         0.001136   \n",
       "\n",
       "   AssignToHotkeys  UniqueHotkeys  MinimapAttacks  MinimapRightClicks  \\\n",
       "0         0.000220              7        0.000110            0.000392   \n",
       "1         0.000259              4        0.000294            0.000432   \n",
       "2         0.000336              4        0.000294            0.000461   \n",
       "3         0.000213              1        0.000053            0.000543   \n",
       "4         0.000327              2        0.000000            0.001329   \n",
       "\n",
       "   NumberOfPACs  GapBetweenPACs  ActionLatency  ActionsInPAC  \\\n",
       "0      0.004849         32.6677        40.8673        4.7508   \n",
       "1      0.004307         32.9194        42.3454        4.8434   \n",
       "2      0.002926         44.6475        75.3548        4.0430   \n",
       "3      0.003783         29.2203        53.7352        4.9155   \n",
       "4      0.002368         22.6885        62.0813        9.3740   \n",
       "\n",
       "   TotalMapExplored  WorkersMade  UniqueUnitsMade  ComplexUnitsMade  \\\n",
       "0                28     0.001397                6               0.0   \n",
       "1                22     0.001194                5               0.0   \n",
       "2                22     0.000745                6               0.0   \n",
       "3                19     0.000426                7               0.0   \n",
       "4                15     0.001174                4               0.0   \n",
       "\n",
       "   ComplexAbilitiesUsed  \n",
       "0              0.000000  \n",
       "1              0.000208  \n",
       "2              0.000189  \n",
       "3              0.000384  \n",
       "4              0.000019  "
      ]
     },
     "execution_count": 8,
     "metadata": {},
     "output_type": "execute_result"
    }
   ],
   "source": [
    "star.head()"
   ]
  },
  {
   "cell_type": "markdown",
   "metadata": {},
   "source": [
    "<a id='ttest'></a>\n",
    "## Alternative to t-testing using Bayesian estimation\n",
    "---\n",
    "\n",
    "[This example is adapted from the documentation here.](http://pymc-devs.github.io/pymc3/notebooks/BEST.html) \n",
    "\n",
    "> *Note: In that example the Student t distribution is used instead of the normal distribution like I use below. This is more appropriate, but more complicated due to the parameterization of the t-distribution. If you're feeling bold try doing this with the t-distribution like in the documentation!\n",
    "\n",
    "In the following code, I will be using Bayesian posterior estimation to look at the difference in APM between 19 year old players and 26 year old players.\n",
    "\n",
    "### The Frequentist strategy\n",
    "In Frequentist statistics, calculating the mean difference between groups is typically done with a t-test. In a t-test we state a null hypothesis (H0) that there is no diffference between groups, then evaluate the probability that we could have gotten this data when the null hypothesis is true.\n",
    "\n",
    "The de-facto standard for statistically comparing two (or more) samples is to use a statistical test. This involves expressing a null hypothesis, which typically claims that there is no difference between the groups, and using a chosen test statistic to determine whether the distribution of the observed data is plausible under the hypothesis. This rejection occurs when the calculated test statistic is higher than some pre-specified threshold value.\n",
    "\n",
    "### The Bayesian strategy\n",
    "The Bayesian approach for evaluating differences between groups is \"estimation\" rather than \"testing\". Instead of asking \"are the two groups different?\", we instead ask \"_how_ different are the two groups?\" This is the subtle difference in estimation as opposed to testing. We are measuring the extent of the difference between the groups, whether it be zero or any other value.\n",
    "\n",
    "For a more detailed treatment feel free to read the documentation linked above."
   ]
  },
  {
   "cell_type": "markdown",
   "metadata": {},
   "source": [
    "<a id='load'></a>\n",
    "### Get the APM for 19 and 26 year olds"
   ]
  },
  {
   "cell_type": "code",
   "execution_count": 9,
   "metadata": {},
   "outputs": [],
   "source": [
    "apm19 = star[star.Age == '19'].APM.values\n",
    "apm26 = star[star.Age == '26'].APM.values"
   ]
  },
  {
   "cell_type": "code",
   "execution_count": 10,
   "metadata": {},
   "outputs": [
    {
     "name": "stdout",
     "output_type": "stream",
     "text": [
      "(313,) (136,)\n"
     ]
    }
   ],
   "source": [
    "print(apm19.shape, apm26.shape)"
   ]
  },
  {
   "cell_type": "markdown",
   "metadata": {},
   "source": [
    "**Calculate the mean for the two groups and the empirical difference between means.**"
   ]
  },
  {
   "cell_type": "code",
   "execution_count": 11,
   "metadata": {},
   "outputs": [
    {
     "name": "stdout",
     "output_type": "stream",
     "text": [
      "121.68955974440894 104.74184073529412 -16.94771900911482\n"
     ]
    }
   ],
   "source": [
    "print(apm19.mean(), apm26.mean(), apm26.mean()-apm19.mean())"
   ]
  },
  {
   "cell_type": "markdown",
   "metadata": {},
   "source": [
    "<a id='freq-ttest'></a>\n",
    "### Perform a Frequentist t-test of the mean APM difference between groups.\n",
    "\n",
    "What is the null hypothesis? What is the alternative hypothesis?"
   ]
  },
  {
   "cell_type": "code",
   "execution_count": 12,
   "metadata": {},
   "outputs": [],
   "source": [
    "import scipy.stats as stats"
   ]
  },
  {
   "cell_type": "code",
   "execution_count": 13,
   "metadata": {},
   "outputs": [],
   "source": [
    "# The null hypothesis is that there is zero difference between the mean APM.\n",
    "# The alternative hypothesis is that there IS a difference."
   ]
  },
  {
   "cell_type": "code",
   "execution_count": 14,
   "metadata": {},
   "outputs": [],
   "source": [
    "tt = stats.ttest_ind(apm19, apm26)"
   ]
  },
  {
   "cell_type": "code",
   "execution_count": 15,
   "metadata": {},
   "outputs": [
    {
     "data": {
      "text/plain": [
       "3.5501270512716077"
      ]
     },
     "execution_count": 15,
     "metadata": {},
     "output_type": "execute_result"
    }
   ],
   "source": [
    "tt.statistic"
   ]
  },
  {
   "cell_type": "markdown",
   "metadata": {},
   "source": [
    "**Plot the t-statistic for the test on the t-distribution.**"
   ]
  },
  {
   "cell_type": "code",
   "execution_count": 16,
   "metadata": {},
   "outputs": [
    {
     "data": {
      "image/png": "[encoded data removed]",
      "text/plain": [
       "<matplotlib.figure.Figure at 0x117ca8c50>"
      ]
     },
     "metadata": {
      "image/png": {
       "height": 299,
       "width": 478
      }
     },
     "output_type": "display_data"
    }
   ],
   "source": [
    "tdist = stats.t(df=len(apm19)+len(apm26)-2)\n",
    "xvals = np.linspace(-4, 4, 200)\n",
    "\n",
    "fig, ax = plt.subplots(figsize=(7,5))\n",
    "ax.plot(xvals, tdist.pdf(xvals), lw=3)\n",
    "ax.axvline(tt.statistic, color='black', ls='dashed', lw=5)\n",
    "plt.show()"
   ]
  },
  {
   "cell_type": "markdown",
   "metadata": {},
   "source": [
    "**What is the p-value?**"
   ]
  },
  {
   "cell_type": "code",
   "execution_count": 17,
   "metadata": {},
   "outputs": [
    {
     "data": {
      "text/plain": [
       "0.00021293463976312932"
      ]
     },
     "execution_count": 17,
     "metadata": {},
     "output_type": "execute_result"
    }
   ],
   "source": [
    "1. - tdist.cdf(tt.statistic)"
   ]
  },
  {
   "cell_type": "code",
   "execution_count": 18,
   "metadata": {},
   "outputs": [
    {
     "data": {
      "text/plain": [
       "0.00042586927952623034"
      ]
     },
     "execution_count": 18,
     "metadata": {},
     "output_type": "execute_result"
    }
   ],
   "source": [
    "tt.pvalue  # two-tailed"
   ]
  },
  {
   "cell_type": "markdown",
   "metadata": {},
   "source": [
    "<a id='priors'></a>\n",
    "### Set up the bayesian model with priors on mean APMs\n",
    "\n",
    "Next we'll go through the steps of the Bayesian estimation of the difference between means using `pymc3`.\n",
    "\n",
    "First we find the mean and standard deviation of APM regardless of age group. We can going to use these values to inform our prior belief about APM."
   ]
  },
  {
   "cell_type": "code",
   "execution_count": 19,
   "metadata": {},
   "outputs": [
    {
     "name": "stdout",
     "output_type": "stream",
     "text": [
      "117.04694709278338 51.94529098683481\n"
     ]
    }
   ],
   "source": [
    "prior_mean = star.APM.mean()\n",
    "prior_std = star.APM.std()\n",
    "\n",
    "print(prior_mean, prior_std)"
   ]
  },
  {
   "cell_type": "markdown",
   "metadata": {},
   "source": [
    "<a id='construct-priors'></a>\n",
    "### Construct the prior distributions on the means\n",
    "\n",
    "> **Note**: `pymc3` sets up models using the Python `with ... :` syntax.\n",
    "\n",
    "The first thing we are going to set up is our prior belief about the mean APM for our 19 year olds and 26 year olds. _These are not fixed values,_ but rather normal distributions covering a range of possible values for the mean APM for each group with varying likelihoods.\n",
    "\n",
    "We are going to set up the normal distributions to both take the overall mean and standard deviation of the actions per minute for all players. In other words, our prior belief for each group's mean APM is the same.\n",
    "\n",
    "> Note that we are really creating to Bayesian models at once!"
   ]
  },
  {
   "cell_type": "code",
   "execution_count": 20,
   "metadata": {},
   "outputs": [],
   "source": [
    "with pm.Model() as model:\n",
    "    \n",
    "    group19_mean = pm.Normal('APM_19yo_mean', prior_mean, sd=prior_std)\n",
    "    group26_mean = pm.Normal('APM_26yo_mean', prior_mean, sd=prior_std)\n",
    "    \n",
    "    "
   ]
  },
  {
   "cell_type": "markdown",
   "metadata": {},
   "source": [
    "<a id='std-priors'></a>\n",
    "### Priors on standard deviations\n",
    "\n",
    "What we set up before are the prior distributions for the _means_ of APM for the two age groups, but we can also set up priors on the standard deviations for APM for each group.\n",
    "\n",
    "Our standard deviation priors can be \"uninformative\": uniformly distributed from close to 0 up to 100. We are saying that we believe all standard deviations in those ranges to be equally likely."
   ]
  },
  {
   "cell_type": "code",
   "execution_count": 21,
   "metadata": {},
   "outputs": [],
   "source": [
    "prior_std_lower = 0.00001\n",
    "prior_std_upper = 100.\n",
    "\n",
    "with model:\n",
    "    \n",
    "    group19_std = pm.Uniform('APM_19yo_std', lower=prior_std_lower, upper=prior_std_upper)\n",
    "    group26_std = pm.Uniform('APM_26yo_std', lower=prior_std_lower, upper=prior_std_upper)\n",
    "    "
   ]
  },
  {
   "cell_type": "markdown",
   "metadata": {},
   "source": [
    "<a id='apm-dists'></a>\n",
    "### Set up the APM distributions for the two groups\n",
    "\n",
    "Now that we have our prior beliefs about the mean and standard deviation of APM for each age group, we can construct what will be the posterior distributions for the APMs after \"observing\" the data.\n",
    "\n",
    "For each group we set up a `pm.Normal` distribution to represent the likelihood of the observed APM data. The mean `mu=` will be our prior belief distribution of the mean for that group. Likewise the `sd=` will be the prior distribution for standard deviation of APM for that group. \n",
    "\n",
    "Lastly, we provide the vectors of data for the `observed=` parameter. This is the actual, measured APM data. When we \"fit\" this model (using MCMC or another sampling strategy under the hood), the posterior distributions will be updated according to our prior beliefs and our data – just like in Bayes formula!"
   ]
  },
  {
   "cell_type": "code",
   "execution_count": 22,
   "metadata": {},
   "outputs": [],
   "source": [
    "with model:\n",
    "    group19 = pm.Normal('APM_19yo', mu=group19_mean, sd=group19_std, observed=apm19)\n",
    "    group26 = pm.Normal('APM_26yo', mu=group26_mean, sd=group26_std, observed=apm26)\n",
    "    "
   ]
  },
  {
   "cell_type": "markdown",
   "metadata": {},
   "source": [
    "<a id='metrics'></a>\n",
    "### Tracking additional metrics\n",
    "\n",
    "The last thing we'll do before fitting the model is define some distributions that will make it easier for us to evaluate the difference between mean APMs of the two groups. \n",
    "\n",
    "`pm.Deterministic` distributions are defined from other distributions in the model. For example, we can set up `diff_of_means` to be defined by `group19_mean - group26_mean`, making this a distribution of the differences between means between groups as the posteriors are iteratively fit/estimated."
   ]
  },
  {
   "cell_type": "code",
   "execution_count": 23,
   "metadata": {},
   "outputs": [],
   "source": [
    "with model:\n",
    "    diff_of_means = pm.Deterministic('mean_diff', group19_mean - group26_mean)\n",
    "    diff_of_stds = pm.Deterministic('std_diff', group19_std - group26_std)"
   ]
  },
  {
   "cell_type": "markdown",
   "metadata": {},
   "source": [
    "<a id='fit'></a>\n",
    "### Fitting the `pymc3` model\n",
    "\n",
    "When we call `trace = pm.sample(...)` we are starting a sampling process to estimate the posterior distribution. `pymc3` has the option to do MCMC, but defaults to the NUTS sampler. NUTS stands for No U-Turn Sampler and is a state-of-the-art posterior estimation algorithm.\n",
    "\n",
    "The \"trace\" is a collection of all the values on the posterior distribution \"visited\" during the sampling procedure. The values in the trace define the posterior distribution."
   ]
  },
  {
   "cell_type": "code",
   "execution_count": 24,
   "metadata": {},
   "outputs": [
    {
     "name": "stderr",
     "output_type": "stream",
     "text": [
      "Auto-assigning NUTS sampler...\n",
      "Initializing NUTS using jitter+adapt_diag...\n",
      "Multiprocess sampling (2 chains in 2 jobs)\n",
      "NUTS: [APM_26yo_std_interval__, APM_19yo_std_interval__, APM_26yo_mean, APM_19yo_mean]\n",
      "100%|██████████| 25500/25500 [00:21<00:00, 1202.75it/s]\n"
     ]
    }
   ],
   "source": [
    "with model:\n",
    "    trace = pm.sample(25000, njobs=2)"
   ]
  },
  {
   "cell_type": "markdown",
   "metadata": {},
   "source": [
    "<a id='plotting'></a>\n",
    "### Plotting the posteriors and metric distributions\n",
    "\n",
    "`pymc3` comes with convenient methods for plotting posteriors. Below we plot our posterior means and standard deviations. The relevant statistics about the distributions are automatically added to the plots.\n",
    "\n",
    "The HPD is the Highest Posterior Density interval. This gives us a Bayesian \"credible interval\" which is the corollary to the Frequentist confidence interval. The 95% HPD says that the 95% highest density points on the distribution fall within that range.\n",
    "\n",
    "**Take a look at the first element of the `trace`:**"
   ]
  },
  {
   "cell_type": "code",
   "execution_count": 25,
   "metadata": {},
   "outputs": [
    {
     "data": {
      "text/plain": [
       "{'APM_19yo_mean': 122.94866744090523,\n",
       " 'APM_26yo_mean': 105.15577023765292,\n",
       " 'APM_19yo_std_interval__': -0.04245151228424088,\n",
       " 'APM_26yo_std_interval__': -0.3512103991425766,\n",
       " 'APM_19yo_std': 48.93887665191823,\n",
       " 'APM_26yo_std': 41.30889919404014,\n",
       " 'mean_diff': 17.79289720325231,\n",
       " 'std_diff': 7.629977457878091}"
      ]
     },
     "execution_count": 25,
     "metadata": {},
     "output_type": "execute_result"
    }
   ],
   "source": [
    "trace[0]"
   ]
  },
  {
   "cell_type": "markdown",
   "metadata": {},
   "source": [
    "**Use the `pm.plot_posterior` function to look at the posterior distributions for the group means and standard deviations.**\n",
    "\n",
    "> **Note:** It is common to slice off the initial portion of the trace. This is known as the \"burn-in\". The sampling procedure often starts far away from the correct estimates, and so slicing off the beginning can get rid of the cruft. It is also common to not take every sample, but skip every two or three. I am not doing that here."
   ]
  },
  {
   "cell_type": "code",
   "execution_count": 26,
   "metadata": {},
   "outputs": [
    {
     "data": {
      "text/plain": [
       "array([<matplotlib.axes._subplots.AxesSubplot object at 0x1178e1080>,\n",
       "       <matplotlib.axes._subplots.AxesSubplot object at 0x1178f0f98>,\n",
       "       <matplotlib.axes._subplots.AxesSubplot object at 0x1187c0160>,\n",
       "       <matplotlib.axes._subplots.AxesSubplot object at 0x118756208>],\n",
       "      dtype=object)"
      ]
     },
     "execution_count": 26,
     "metadata": {},
     "output_type": "execute_result"
    },
    {
     "data": {
      "image/png": "[encoded data removed]",
      "text/plain": [
       "<matplotlib.figure.Figure at 0x1178df978>"
      ]
     },
     "metadata": {
      "image/png": {
       "height": 351,
       "width": 853
      }
     },
     "output_type": "display_data"
    }
   ],
   "source": [
    "pm.plot_posterior(trace[5000:],\n",
    "                  varnames=['APM_19yo_mean', 'APM_26yo_mean',\n",
    "                            'APM_19yo_std', 'APM_26yo_std'],\n",
    "                 color='#87ceeb')"
   ]
  },
  {
   "cell_type": "markdown",
   "metadata": {},
   "source": [
    "**Check**  Relate these distributions to the _sampling distribution_."
   ]
  },
  {
   "cell_type": "markdown",
   "metadata": {},
   "source": [
    "**Plot the posteriors of our metric distributions.**"
   ]
  },
  {
   "cell_type": "code",
   "execution_count": 27,
   "metadata": {},
   "outputs": [
    {
     "data": {
      "text/plain": [
       "array([<matplotlib.axes._subplots.AxesSubplot object at 0x119349ef0>,\n",
       "       <matplotlib.axes._subplots.AxesSubplot object at 0x118520898>],\n",
       "      dtype=object)"
      ]
     },
     "execution_count": 27,
     "metadata": {},
     "output_type": "execute_result"
    },
    {
     "data": {
      "image/png": "[encoded data removed]",
      "text/plain": [
       "<matplotlib.figure.Figure at 0x119349828>"
      ]
     },
     "metadata": {
      "image/png": {
       "height": 171,
       "width": 853
      }
     },
     "output_type": "display_data"
    }
   ],
   "source": [
    "pm.plot_posterior(trace[5000:],\n",
    "                  varnames=['mean_diff', 'std_diff'],\n",
    "                  color='#87ceeb', ref_val=0)"
   ]
  },
  {
   "cell_type": "markdown",
   "metadata": {},
   "source": [
    "**The `pm.summary` function can also display a text representation of this information:**"
   ]
  },
  {
   "cell_type": "code",
   "execution_count": 28,
   "metadata": {},
   "outputs": [
    {
     "data": {
      "text/html": [
       "<div>\n",
       "<style>\n",
       "    .dataframe thead tr:only-child th {\n",
       "        text-align: right;\n",
       "    }\n",
       "\n",
       "    .dataframe thead th {\n",
       "        text-align: left;\n",
       "    }\n",
       "\n",
       "    .dataframe tbody tr th {\n",
       "        vertical-align: top;\n",
       "    }\n",
       "</style>\n",
       "<table border=\"1\" class=\"dataframe\">\n",
       "  <thead>\n",
       "    <tr style=\"text-align: right;\">\n",
       "      <th></th>\n",
       "      <th>mean</th>\n",
       "      <th>sd</th>\n",
       "      <th>mc_error</th>\n",
       "      <th>hpd_2.5</th>\n",
       "      <th>hpd_97.5</th>\n",
       "      <th>n_eff</th>\n",
       "      <th>Rhat</th>\n",
       "    </tr>\n",
       "  </thead>\n",
       "  <tbody>\n",
       "    <tr>\n",
       "      <th>mean_diff</th>\n",
       "      <td>16.860768</td>\n",
       "      <td>4.575222</td>\n",
       "      <td>0.019424</td>\n",
       "      <td>7.800648</td>\n",
       "      <td>25.719319</td>\n",
       "      <td>62007.327349</td>\n",
       "      <td>0.999977</td>\n",
       "    </tr>\n",
       "    <tr>\n",
       "      <th>std_diff</th>\n",
       "      <td>5.793945</td>\n",
       "      <td>3.264032</td>\n",
       "      <td>0.012462</td>\n",
       "      <td>-0.666288</td>\n",
       "      <td>12.172638</td>\n",
       "      <td>56936.058507</td>\n",
       "      <td>0.999982</td>\n",
       "    </tr>\n",
       "  </tbody>\n",
       "</table>\n",
       "</div>"
      ],
      "text/plain": [
       "                mean        sd  mc_error   hpd_2.5   hpd_97.5         n_eff  \\\n",
       "mean_diff  16.860768  4.575222  0.019424  7.800648  25.719319  62007.327349   \n",
       "std_diff    5.793945  3.264032  0.012462 -0.666288  12.172638  56936.058507   \n",
       "\n",
       "               Rhat  \n",
       "mean_diff  0.999977  \n",
       "std_diff   0.999982  "
      ]
     },
     "execution_count": 28,
     "metadata": {},
     "output_type": "execute_result"
    }
   ],
   "source": [
    "pm.summary(trace[5000:],varnames=['mean_diff', 'std_diff'])"
   ]
  },
  {
   "cell_type": "code",
   "execution_count": null,
   "metadata": {
    "collapsed": true
   },
   "outputs": [],
   "source": []
  }
 ],
 "metadata": {
  "kernelspec": {
   "display_name": "Python [default]",
   "language": "python",
   "name": "python3"
  },
  "language_info": {
   "codemirror_mode": {
    "name": "ipython",
    "version": 3
   },
   "file_extension": ".py",
   "mimetype": "text/x-python",
   "name": "python",
   "nbconvert_exporter": "python",
   "pygments_lexer": "ipython3",
   "version": "3.6.3"
  }
 },
 "nbformat": 4,
 "nbformat_minor": 1
}
